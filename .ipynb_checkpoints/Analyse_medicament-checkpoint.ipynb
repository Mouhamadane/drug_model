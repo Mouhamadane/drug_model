{
 "cells": [
  {
   "cell_type": "markdown",
   "metadata": {
    "id": "cc657fba-6c62-4d97-9388-a8a3f74f9b91"
   },
   "source": [
    "# **`A. Importation des bibliothèques utiles et paramètrages`**\n",
    "------"
   ]
  },
  {
   "cell_type": "code",
   "execution_count": 45,
   "metadata": {
    "colab": {
     "base_uri": "https://localhost:8080/",
     "height": 374
    },
    "id": "8f6b23aa-abc0-4fbf-abe5-ff8e4526bb72",
    "outputId": "ca5dde36-9aeb-4cbf-9d73-41ba5d7f37e9"
   },
   "outputs": [],
   "source": [
    "import time\n",
    "import warnings\n",
    "import numpy as np\n",
    "import pandas as pd\n",
    "#import cleaner as cl\n",
    "import seaborn as sns\n",
    "from matplotlib import pyplot as plt"
   ]
  },
  {
   "cell_type": "code",
   "execution_count": 3,
   "metadata": {
    "id": "856595f1-bcf9-4ce9-96f8-fca0fe18950d"
   },
   "outputs": [],
   "source": [
    "#Setup du nombre de lignes et colonnes maximum\n",
    "pd.set_option('display.max_row',100)\n",
    "pd.set_option('display.max_columns',34)\n",
    "\n",
    "#Filtre des avertissements\n",
    "warnings.filterwarnings('ignore')\n",
    "\n",
    "#Style et taille de nos figures\n",
    "plt.style.use(style='ggplot')\n",
    "plt.rcParams['figure.figsize'] = (12, 8)\n",
    "\n",
    "#Fixer le générateur\n",
    "np.random.seed(42)"
   ]
  },
  {
   "cell_type": "markdown",
   "metadata": {
    "id": "8b0c39c8-c5b1-49fe-90f6-5d62ee596e71"
   },
   "source": [
    "# **`B. Chargement de la base de données et copie`**\n",
    "------"
   ]
  },
  {
   "cell_type": "code",
   "execution_count": 12,
   "metadata": {
    "colab": {
     "base_uri": "https://localhost:8080/",
     "height": 398
    },
    "id": "75f3fe4a-8e62-4367-9012-05774b054993",
    "outputId": "84134535-4316-499f-c6ac-2269501958da"
   },
   "outputs": [],
   "source": [
    "# Chargement de la base de données\n",
    "data = pd.read_csv(\"./DRUG1n.csv\")"
   ]
  },
  {
   "cell_type": "code",
   "execution_count": 13,
   "metadata": {
    "id": "cd3403a7-0917-4415-8809-cf0c27ca3aff"
   },
   "outputs": [],
   "source": [
    "# Copie de la base de données\n",
    "df = data.copy()"
   ]
  },
  {
   "cell_type": "markdown",
   "metadata": {
    "id": "83a00789-42e9-4b88-9e8d-d874606368a7"
   },
   "source": [
    "# **`C. Analyse Exploratoire des données`**\n",
    "------"
   ]
  },
  {
   "cell_type": "markdown",
   "metadata": {
    "id": "092e0f99-00e3-4fa6-955b-c149d470bfce"
   },
   "source": [
    "> ## **1. Analyse de forme** "
   ]
  },
  {
   "cell_type": "markdown",
   "metadata": {
    "id": "36dc1ea4-d5ff-4dac-86fa-e1a6dec34766"
   },
   "source": [
    "- **Dimensions** : Nous disposons d'une base de **200 observations** et **7 variables**.\n",
    "\n",
    "- **Type de variables** : **3 quantitatives** et **4 qualitatives**.\n",
    "\n",
    "- **Target named `Drug`** : Variable qualitative.\n",
    "\n",
    "     * **drugY** : **45.5%**\n",
    "     * **drugX** : **27.0%**\n",
    "     * **drugA** : **11.5%**\n",
    "     * **drugB** : **8.8%**\n",
    "     * **drugC** : **8.8%**\n",
    "     \n",
    "- **NB** : Etant donné une variable cible déséquilibrée, nous utiliserons comme métrique le **f1_score**. Nous nous intéresserons aussi à la **précision**, le **rappel** et la **matrice de confusion**.\n",
    "\n",
    "- **Données Manquantes** : Notre base de données ne contient pas de données manquantes.\n",
    "\n",
    "- **Données dupliquées** : Notre base ne contient pas de données dupliquées."
   ]
  },
  {
   "cell_type": "code",
   "execution_count": 14,
   "metadata": {
    "colab": {
     "base_uri": "https://localhost:8080/",
     "height": 601
    },
    "id": "68dbdcd6-c91b-4f95-aca7-eb5cd4eb3e72",
    "outputId": "a30eb85a-bf5a-4c10-af03-549aaff5b06e"
   },
   "outputs": [
    {
     "data": {
      "text/html": [
       "<div>\n",
       "<style scoped>\n",
       "    .dataframe tbody tr th:only-of-type {\n",
       "        vertical-align: middle;\n",
       "    }\n",
       "\n",
       "    .dataframe tbody tr th {\n",
       "        vertical-align: top;\n",
       "    }\n",
       "\n",
       "    .dataframe thead th {\n",
       "        text-align: right;\n",
       "    }\n",
       "</style>\n",
       "<table border=\"1\" class=\"dataframe\">\n",
       "  <thead>\n",
       "    <tr style=\"text-align: right;\">\n",
       "      <th></th>\n",
       "      <th>Age</th>\n",
       "      <th>Sex</th>\n",
       "      <th>BP</th>\n",
       "      <th>Cholesterol</th>\n",
       "      <th>Na</th>\n",
       "      <th>K</th>\n",
       "      <th>Drug</th>\n",
       "    </tr>\n",
       "  </thead>\n",
       "  <tbody>\n",
       "    <tr>\n",
       "      <th>0</th>\n",
       "      <td>23</td>\n",
       "      <td>F</td>\n",
       "      <td>HIGH</td>\n",
       "      <td>HIGH</td>\n",
       "      <td>0.792535</td>\n",
       "      <td>0.031258</td>\n",
       "      <td>drugY</td>\n",
       "    </tr>\n",
       "    <tr>\n",
       "      <th>1</th>\n",
       "      <td>47</td>\n",
       "      <td>M</td>\n",
       "      <td>LOW</td>\n",
       "      <td>HIGH</td>\n",
       "      <td>0.739309</td>\n",
       "      <td>0.056468</td>\n",
       "      <td>drugC</td>\n",
       "    </tr>\n",
       "    <tr>\n",
       "      <th>2</th>\n",
       "      <td>47</td>\n",
       "      <td>M</td>\n",
       "      <td>LOW</td>\n",
       "      <td>HIGH</td>\n",
       "      <td>0.697269</td>\n",
       "      <td>0.068944</td>\n",
       "      <td>drugC</td>\n",
       "    </tr>\n",
       "    <tr>\n",
       "      <th>3</th>\n",
       "      <td>28</td>\n",
       "      <td>F</td>\n",
       "      <td>NORMAL</td>\n",
       "      <td>HIGH</td>\n",
       "      <td>0.563682</td>\n",
       "      <td>0.072289</td>\n",
       "      <td>drugX</td>\n",
       "    </tr>\n",
       "    <tr>\n",
       "      <th>4</th>\n",
       "      <td>61</td>\n",
       "      <td>F</td>\n",
       "      <td>LOW</td>\n",
       "      <td>HIGH</td>\n",
       "      <td>0.559294</td>\n",
       "      <td>0.030998</td>\n",
       "      <td>drugY</td>\n",
       "    </tr>\n",
       "    <tr>\n",
       "      <th>5</th>\n",
       "      <td>22</td>\n",
       "      <td>F</td>\n",
       "      <td>NORMAL</td>\n",
       "      <td>HIGH</td>\n",
       "      <td>0.676901</td>\n",
       "      <td>0.078647</td>\n",
       "      <td>drugX</td>\n",
       "    </tr>\n",
       "    <tr>\n",
       "      <th>6</th>\n",
       "      <td>49</td>\n",
       "      <td>F</td>\n",
       "      <td>NORMAL</td>\n",
       "      <td>HIGH</td>\n",
       "      <td>0.789637</td>\n",
       "      <td>0.048518</td>\n",
       "      <td>drugY</td>\n",
       "    </tr>\n",
       "    <tr>\n",
       "      <th>7</th>\n",
       "      <td>41</td>\n",
       "      <td>M</td>\n",
       "      <td>LOW</td>\n",
       "      <td>HIGH</td>\n",
       "      <td>0.766635</td>\n",
       "      <td>0.069461</td>\n",
       "      <td>drugC</td>\n",
       "    </tr>\n",
       "    <tr>\n",
       "      <th>8</th>\n",
       "      <td>60</td>\n",
       "      <td>M</td>\n",
       "      <td>NORMAL</td>\n",
       "      <td>HIGH</td>\n",
       "      <td>0.777205</td>\n",
       "      <td>0.051230</td>\n",
       "      <td>drugY</td>\n",
       "    </tr>\n",
       "    <tr>\n",
       "      <th>9</th>\n",
       "      <td>43</td>\n",
       "      <td>M</td>\n",
       "      <td>LOW</td>\n",
       "      <td>NORMAL</td>\n",
       "      <td>0.526102</td>\n",
       "      <td>0.027164</td>\n",
       "      <td>drugY</td>\n",
       "    </tr>\n",
       "  </tbody>\n",
       "</table>\n",
       "</div>"
      ],
      "text/plain": [
       "   Age Sex      BP Cholesterol        Na         K   Drug\n",
       "0   23   F    HIGH        HIGH  0.792535  0.031258  drugY\n",
       "1   47   M     LOW        HIGH  0.739309  0.056468  drugC\n",
       "2   47   M     LOW        HIGH  0.697269  0.068944  drugC\n",
       "3   28   F  NORMAL        HIGH  0.563682  0.072289  drugX\n",
       "4   61   F     LOW        HIGH  0.559294  0.030998  drugY\n",
       "5   22   F  NORMAL        HIGH  0.676901  0.078647  drugX\n",
       "6   49   F  NORMAL        HIGH  0.789637  0.048518  drugY\n",
       "7   41   M     LOW        HIGH  0.766635  0.069461  drugC\n",
       "8   60   M  NORMAL        HIGH  0.777205  0.051230  drugY\n",
       "9   43   M     LOW      NORMAL  0.526102  0.027164  drugY"
      ]
     },
     "execution_count": 14,
     "metadata": {},
     "output_type": "execute_result"
    }
   ],
   "source": [
    "#Apperçu de la base de données\n",
    "df.head(10)"
   ]
  },
  {
   "cell_type": "code",
   "execution_count": 15,
   "metadata": {
    "colab": {
     "base_uri": "https://localhost:8080/"
    },
    "id": "2a842b2e-473d-46e0-ac33-3246a658608f",
    "outputId": "51ef2304-caec-480c-a263-2b5a0d145941"
   },
   "outputs": [
    {
     "data": {
      "text/plain": [
       "(200, 7)"
      ]
     },
     "execution_count": 15,
     "metadata": {},
     "output_type": "execute_result"
    }
   ],
   "source": [
    "#Dimensions de la base de données\n",
    "df.shape"
   ]
  },
  {
   "cell_type": "code",
   "execution_count": 16,
   "metadata": {
    "colab": {
     "base_uri": "https://localhost:8080/"
    },
    "id": "9b485b55-5d61-490b-9a33-44479a777144",
    "outputId": "d58cdbb0-19a0-4356-9841-636738d697cb"
   },
   "outputs": [
    {
     "data": {
      "text/plain": [
       "Age              int64\n",
       "Sex             object\n",
       "BP              object\n",
       "Cholesterol     object\n",
       "Na             float64\n",
       "K              float64\n",
       "Drug            object\n",
       "dtype: object"
      ]
     },
     "execution_count": 16,
     "metadata": {},
     "output_type": "execute_result"
    }
   ],
   "source": [
    "#Type des variables\n",
    "df.dtypes"
   ]
  },
  {
   "cell_type": "code",
   "execution_count": 19,
   "metadata": {
    "colab": {
     "base_uri": "https://localhost:8080/"
    },
    "id": "7e6709d5-15ac-4eea-a748-b2932a303ac8",
    "outputId": "40af7992-7fee-4622-d46e-311fda910a9d"
   },
   "outputs": [
    {
     "data": {
      "text/plain": [
       "object     4\n",
       "float64    2\n",
       "int64      1\n",
       "dtype: int64"
      ]
     },
     "execution_count": 19,
     "metadata": {},
     "output_type": "execute_result"
    }
   ],
   "source": [
    "# Nombre de variables quantitatives et qualitatives\n",
    "df.dtypes.value_counts()"
   ]
  },
  {
   "cell_type": "code",
   "execution_count": 86,
   "metadata": {
    "colab": {
     "base_uri": "https://localhost:8080/"
    },
    "id": "46e72b81-c3e3-4134-9d1b-e7a90c7f75d6",
    "outputId": "2a8360fe-31d7-4c06-fdfc-cf378c210e15"
   },
   "outputs": [
    {
     "data": {
      "text/plain": [
       "array(['drugY', 'drugC', 'drugX', 'drugA', 'drugB'], dtype=object)"
      ]
     },
     "execution_count": 86,
     "metadata": {},
     "output_type": "execute_result"
    }
   ],
   "source": [
    "# Nombre de modalités de la target\n",
    "df['Drug'].unique()"
   ]
  },
  {
   "cell_type": "code",
   "execution_count": 87,
   "metadata": {
    "colab": {
     "base_uri": "https://localhost:8080/"
    },
    "id": "29c69194-3711-46d4-bab0-55cc9e6feb4a",
    "outputId": "23610822-5fd6-47e8-fb9d-25df1b7cee25"
   },
   "outputs": [
    {
     "data": {
      "text/plain": [
       "drugY    91\n",
       "drugX    54\n",
       "drugA    23\n",
       "drugB    16\n",
       "drugC    16\n",
       "Name: Drug, dtype: int64"
      ]
     },
     "execution_count": 87,
     "metadata": {},
     "output_type": "execute_result"
    }
   ],
   "source": [
    "# Fréquence des modalités de la target\n",
    "df['Drug'].value_counts()"
   ]
  },
  {
   "cell_type": "code",
   "execution_count": 88,
   "metadata": {
    "colab": {
     "base_uri": "https://localhost:8080/"
    },
    "id": "99f9b25b-c113-42cf-a797-a124e1f89c11",
    "outputId": "d1e032c2-4dee-4b29-ab94-d61c6d869457"
   },
   "outputs": [
    {
     "data": {
      "text/plain": [
       "drugY    45.5\n",
       "drugX    27.0\n",
       "drugA    11.5\n",
       "drugB     8.0\n",
       "drugC     8.0\n",
       "Name: Drug, dtype: float64"
      ]
     },
     "execution_count": 88,
     "metadata": {},
     "output_type": "execute_result"
    }
   ],
   "source": [
    "# Proportion des modalités de la target\n",
    "df['Drug'].value_counts(normalize = True)*100"
   ]
  },
  {
   "cell_type": "code",
   "execution_count": 89,
   "metadata": {},
   "outputs": [
    {
     "data": {
      "text/plain": [
       "<AxesSubplot:>"
      ]
     },
     "execution_count": 89,
     "metadata": {},
     "output_type": "execute_result"
    },
    {
     "data": {
      "image/png": "[encoded data removed]",
      "text/plain": [
       "<Figure size 864x576 with 1 Axes>"
      ]
     },
     "metadata": {},
     "output_type": "display_data"
    }
   ],
   "source": [
    "df[\"Drug\"].value_counts().plot.bar()"
   ]
  },
  {
   "cell_type": "code",
   "execution_count": 24,
   "metadata": {
    "colab": {
     "base_uri": "https://localhost:8080/"
    },
    "id": "104f8bca-8118-42b6-bd70-899cb2247ece",
    "outputId": "1acfa41f-9d89-4b84-f97f-3d1e1e15cbb2"
   },
   "outputs": [
    {
     "data": {
      "text/plain": [
       "Age            0\n",
       "Sex            0\n",
       "BP             0\n",
       "Cholesterol    0\n",
       "Na             0\n",
       "K              0\n",
       "Drug           0\n",
       "dtype: int64"
      ]
     },
     "execution_count": 24,
     "metadata": {},
     "output_type": "execute_result"
    }
   ],
   "source": [
    "# Analyse des données manquantes par rapport à chaque variable\n",
    "df.isnull().sum(axis = 0)"
   ]
  },
  {
   "cell_type": "code",
   "execution_count": 27,
   "metadata": {
    "colab": {
     "base_uri": "https://localhost:8080/"
    },
    "id": "6b72c369-670e-4ac3-8ce5-9b100b6df302",
    "outputId": "e23cc983-dbed-4449-cd15-c377afca1e2b"
   },
   "outputs": [
    {
     "name": "stdout",
     "output_type": "stream",
     "text": [
      "Age : 57 \n",
      "\n",
      "Sex : 2 \n",
      "\n",
      "BP : 3 \n",
      "\n",
      "Cholesterol : 2 \n",
      "\n",
      "Na : 200 \n",
      "\n",
      "K : 200 \n",
      "\n",
      "Drug : 5 \n",
      "\n"
     ]
    }
   ],
   "source": [
    "# Nombre de valeurs uniques que prennent les variables\n",
    "for i in df.columns.tolist():\n",
    "    print(\"{} : {} \\n\".format(i,df[i].nunique()))"
   ]
  },
  {
   "cell_type": "code",
   "execution_count": 28,
   "metadata": {
    "colab": {
     "base_uri": "https://localhost:8080/"
    },
    "id": "9ea19c46-bf7c-410d-b672-0ea6656489d0",
    "outputId": "ef0311a0-9bf8-4c6d-e4a1-e6cc1fbc4b29"
   },
   "outputs": [
    {
     "data": {
      "text/plain": [
       "0"
      ]
     },
     "execution_count": 28,
     "metadata": {},
     "output_type": "execute_result"
    }
   ],
   "source": [
    "# Analyse des données dupliquées\n",
    "df.duplicated().sum()"
   ]
  },
  {
   "cell_type": "markdown",
   "metadata": {
    "id": "5c10171d-de13-4821-9137-0072c4dd55a7"
   },
   "source": [
    "> ## **2. Analyse de fond** "
   ]
  },
  {
   "cell_type": "markdown",
   "metadata": {
    "id": "3ed8cf14-f6c8-4e11-aaef-abdc7e541e37"
   },
   "source": [
    ">> ### **2.1. Variables numériques** "
   ]
  },
  {
   "cell_type": "code",
   "execution_count": 29,
   "metadata": {
    "colab": {
     "base_uri": "https://localhost:8080/"
    },
    "id": "533c3575-572a-4c1f-98e2-33ee97318433",
    "outputId": "ed3359ea-a8ef-4a22-80ee-b6728c05b7f1"
   },
   "outputs": [
    {
     "data": {
      "text/plain": [
       "Age              int64\n",
       "Sex             object\n",
       "BP              object\n",
       "Cholesterol     object\n",
       "Na             float64\n",
       "K              float64\n",
       "Drug            object\n",
       "dtype: object"
      ]
     },
     "execution_count": 29,
     "metadata": {},
     "output_type": "execute_result"
    }
   ],
   "source": [
    "# Type des variables\n",
    "df.dtypes"
   ]
  },
  {
   "cell_type": "code",
   "execution_count": 90,
   "metadata": {
    "colab": {
     "base_uri": "https://localhost:8080/"
    },
    "id": "5559ae9b-a719-4af3-8e87-7c7c1929d3f1",
    "outputId": "3e2d07a6-14d7-4adc-8490-5bd103208f8b"
   },
   "outputs": [
    {
     "data": {
      "text/plain": [
       "['Age', 'Na', 'K']"
      ]
     },
     "execution_count": 90,
     "metadata": {},
     "output_type": "execute_result"
    }
   ],
   "source": [
    "# Selection des variables numériques\n",
    "num_cols = [i for i in df.select_dtypes(exclude = 'object').columns.tolist()]\n",
    "num_cols"
   ]
  },
  {
   "cell_type": "code",
   "execution_count": 31,
   "metadata": {
    "colab": {
     "base_uri": "https://localhost:8080/"
    },
    "id": "a7c54932-aef3-47bb-b894-765a6f6ee655",
    "outputId": "2107faf8-98b5-457c-b530-0a1b893f86a8"
   },
   "outputs": [
    {
     "data": {
      "text/plain": [
       "Age     57\n",
       "Na     200\n",
       "K      200\n",
       "dtype: int64"
      ]
     },
     "execution_count": 31,
     "metadata": {},
     "output_type": "execute_result"
    }
   ],
   "source": [
    "# Nombre de valeurs uniques\n",
    "df[num_cols].nunique()"
   ]
  },
  {
   "cell_type": "code",
   "execution_count": 91,
   "metadata": {
    "colab": {
     "base_uri": "https://localhost:8080/",
     "height": 582
    },
    "id": "67584fb7-016f-499f-96e7-850bae0cc1d3",
    "outputId": "61c2e0c3-0a54-4831-90c3-02b716fd0a70"
   },
   "outputs": [
    {
     "data": {
      "text/html": [
       "<div>\n",
       "<style scoped>\n",
       "    .dataframe tbody tr th:only-of-type {\n",
       "        vertical-align: middle;\n",
       "    }\n",
       "\n",
       "    .dataframe tbody tr th {\n",
       "        vertical-align: top;\n",
       "    }\n",
       "\n",
       "    .dataframe thead th {\n",
       "        text-align: right;\n",
       "    }\n",
       "</style>\n",
       "<table border=\"1\" class=\"dataframe\">\n",
       "  <thead>\n",
       "    <tr style=\"text-align: right;\">\n",
       "      <th></th>\n",
       "      <th>count</th>\n",
       "      <th>mean</th>\n",
       "      <th>std</th>\n",
       "      <th>min</th>\n",
       "      <th>25%</th>\n",
       "      <th>50%</th>\n",
       "      <th>75%</th>\n",
       "      <th>max</th>\n",
       "    </tr>\n",
       "  </thead>\n",
       "  <tbody>\n",
       "    <tr>\n",
       "      <th>Age</th>\n",
       "      <td>200.0</td>\n",
       "      <td>44.315000</td>\n",
       "      <td>16.544315</td>\n",
       "      <td>15.000000</td>\n",
       "      <td>31.000000</td>\n",
       "      <td>45.000000</td>\n",
       "      <td>58.000000</td>\n",
       "      <td>74.000000</td>\n",
       "    </tr>\n",
       "    <tr>\n",
       "      <th>Na</th>\n",
       "      <td>200.0</td>\n",
       "      <td>0.697095</td>\n",
       "      <td>0.118907</td>\n",
       "      <td>0.500169</td>\n",
       "      <td>0.583887</td>\n",
       "      <td>0.721853</td>\n",
       "      <td>0.801494</td>\n",
       "      <td>0.896056</td>\n",
       "    </tr>\n",
       "    <tr>\n",
       "      <th>K</th>\n",
       "      <td>200.0</td>\n",
       "      <td>0.050174</td>\n",
       "      <td>0.017611</td>\n",
       "      <td>0.020022</td>\n",
       "      <td>0.035054</td>\n",
       "      <td>0.049663</td>\n",
       "      <td>0.066000</td>\n",
       "      <td>0.079788</td>\n",
       "    </tr>\n",
       "  </tbody>\n",
       "</table>\n",
       "</div>"
      ],
      "text/plain": [
       "     count       mean        std        min        25%        50%        75%  \\\n",
       "Age  200.0  44.315000  16.544315  15.000000  31.000000  45.000000  58.000000   \n",
       "Na   200.0   0.697095   0.118907   0.500169   0.583887   0.721853   0.801494   \n",
       "K    200.0   0.050174   0.017611   0.020022   0.035054   0.049663   0.066000   \n",
       "\n",
       "           max  \n",
       "Age  74.000000  \n",
       "Na    0.896056  \n",
       "K     0.079788  "
      ]
     },
     "execution_count": 91,
     "metadata": {},
     "output_type": "execute_result"
    }
   ],
   "source": [
    "# Statistique descriptive\n",
    "df[num_cols].describe().T"
   ]
  },
  {
   "cell_type": "code",
   "execution_count": 33,
   "metadata": {
    "colab": {
     "base_uri": "https://localhost:8080/",
     "height": 614
    },
    "id": "2579c680-c2ec-4c9a-bd63-64e1856fe344",
    "outputId": "16386226-c44a-4f4e-a78b-68439cce887e"
   },
   "outputs": [
    {
     "data": {
      "text/plain": [
       "<AxesSubplot:>"
      ]
     },
     "execution_count": 33,
     "metadata": {},
     "output_type": "execute_result"
    },
    {
     "data": {
      "image/png": "[encoded data removed]",
      "text/plain": [
       "<Figure size 864x576 with 1 Axes>"
      ]
     },
     "metadata": {},
     "output_type": "display_data"
    }
   ],
   "source": [
    "# Corrélations entre variables numériques ou quantitatives\n",
    "sns.heatmap(df[num_cols].corr(), cbar = False, annot = True)"
   ]
  },
  {
   "cell_type": "markdown",
   "metadata": {
    "id": "HIeJBUXN6CLZ"
   },
   "source": [
    "**Il faut intérpréter tes résultats**"
   ]
  },
  {
   "cell_type": "code",
   "execution_count": 34,
   "metadata": {
    "colab": {
     "base_uri": "https://localhost:8080/",
     "height": 977
    },
    "id": "29cbd622-c79a-416d-95c1-dea4212335dc",
    "outputId": "1e2a32cb-487e-41de-8de6-59be3200040b"
   },
   "outputs": [
    {
     "data": {
      "text/plain": [
       "<seaborn.axisgrid.PairGrid at 0x7f027c2b28b0>"
      ]
     },
     "execution_count": 34,
     "metadata": {},
     "output_type": "execute_result"
    },
    {
     "data": {
      "image/png": "[encoded data removed]",
      "text/plain": [
       "<Figure size 540x540 with 12 Axes>"
      ]
     },
     "metadata": {},
     "output_type": "display_data"
    }
   ],
   "source": [
    "# Vue globale (nuage de points et histogrammes)\n",
    "sns.pairplot(df[num_cols])"
   ]
  },
  {
   "cell_type": "markdown",
   "metadata": {
    "id": "OY3fAAp36P8Q"
   },
   "source": [
    "**Que nous apprend ces figures ci-dessus**"
   ]
  },
  {
   "cell_type": "markdown",
   "metadata": {
    "id": "916db2b7-4032-4731-bbcb-04e03c9479d1"
   },
   "source": [
    "- Un test statistique est une procédure de décision entre deux hypothèses. Il s’agit d’une démarche consistant à rejeter ou à ne pas rejeter une hypothèse statistique, appelée hypothèse nulle $H_{0}$, en fonction d’un jeu de données.\n",
    "\n",
    "- Il existe un test pour déterminer si deux variables continues (quantitatives) sont indépendantes : **le test de corrélation de Pearson**. L’hypothèse nulle à tester est : **« les deux variables testées sont indépendantes »**.\n",
    "\n",
    "- Il s’accompagne d’une statistique de test et d’une p-valeur qui détermine du rejet ou non de l’hypothèse nulle.\n",
    "\n",
    "- Si la **p-value** est inférieur à **5%** alors on rejette l'hypothèse nulle $H_{0}$, sinon on l'accepte."
   ]
  },
  {
   "cell_type": "code",
   "execution_count": 38,
   "metadata": {
    "id": "ee523bba-b23b-40b8-bf3e-fd3e1b0790a2"
   },
   "outputs": [],
   "source": [
    "# Définition d'une fonction de test entre variables quantitatives\n",
    "def test_pearson(df, var1, var2):\n",
    "    print(\"{} et {}\".format(var1,var2))\n",
    "    print(\"Coefficient de Pearson : {}\".format(pearsonr(df[var1],df[var2])[0]))\n",
    "    print(\"               P_value : {}\".format(pearsonr(df[var1],df[var2])[1]))\n",
    "    if (pearsonr(df[var1],df[var2])[1] < 0.05):\n",
    "        print(\"{} et {} ne sont pas indépendantes\".format(var1,var2))\n",
    "    print(\"\\n \\n\")\n",
    "    pass"
   ]
  },
  {
   "cell_type": "code",
   "execution_count": 39,
   "metadata": {
    "colab": {
     "base_uri": "https://localhost:8080/"
    },
    "id": "70c25104-359c-4cf7-b005-791470605d6d",
    "outputId": "0fbbf8e3-dd05-4e44-e3fe-4b4587bfe09f"
   },
   "outputs": [
    {
     "name": "stdout",
     "output_type": "stream",
     "text": [
      "Age et Na\n",
      "Coefficient de Pearson : 0.10037117622299319\n",
      "               P_value : 0.15732104241114084\n",
      "\n",
      " \n",
      "\n",
      "Age et K\n",
      "Coefficient de Pearson : 0.1114912374476258\n",
      "               P_value : 0.1160096074509135\n",
      "\n",
      " \n",
      "\n",
      "Na et K\n",
      "Coefficient de Pearson : 0.017334587466501242\n",
      "               P_value : 0.8075175505627852\n",
      "\n",
      " \n",
      "\n"
     ]
    }
   ],
   "source": [
    "# Test Statistique de Pearson\n",
    "from scipy.stats import pearsonr\n",
    "liste = []\n",
    "for var1 in num_cols:\n",
    "    liste.append(var1)\n",
    "    for var2 in [var for var in num_cols if var not in liste ]:\n",
    "        test_pearson(df,var1,var2)"
   ]
  },
  {
   "cell_type": "markdown",
   "metadata": {
    "id": "0760c29e-cac0-4ee2-b84a-85f051852513"
   },
   "source": [
    "- Age et Na ne sont pas indépendantes\n",
    "- Age et K ne sont pas indépendantes\n",
    "- Na et K ne sont pas  indépendantes"
   ]
  },
  {
   "cell_type": "code",
   "execution_count": 40,
   "metadata": {
    "colab": {
     "base_uri": "https://localhost:8080/",
     "height": 1000
    },
    "id": "a9473770-a245-4ee8-ac2f-27cc08939e61",
    "outputId": "61336181-fb54-4698-b8b2-db88e0ca74b5"
   },
   "outputs": [
    {
     "data": {
      "image/png": "[encoded data removed]",
      "text/plain": [
       "<Figure size 864x576 with 1 Axes>"
      ]
     },
     "metadata": {},
     "output_type": "display_data"
    },
    {
     "data": {
      "image/png": "[encoded data removed]",
      "text/plain": [
       "<Figure size 864x576 with 1 Axes>"
      ]
     },
     "metadata": {},
     "output_type": "display_data"
    },
    {
     "data": {
      "image/png": "[encoded data removed]",
      "text/plain": [
       "<Figure size 864x576 with 1 Axes>"
      ]
     },
     "metadata": {},
     "output_type": "display_data"
    }
   ],
   "source": [
    "# Distribution des variables numériques\n",
    "for i in num_cols:\n",
    "    plt.figure(figsize = (12,8))\n",
    "    sns.distplot(df[i])\n",
    "    plt.show()"
   ]
  },
  {
   "cell_type": "code",
   "execution_count": 42,
   "metadata": {
    "colab": {
     "base_uri": "https://localhost:8080/",
     "height": 1000
    },
    "id": "b5376766-2ea5-4954-8917-5cf38d4b4531",
    "outputId": "791c9d3c-921e-4ec7-9327-de9351710529"
   },
   "outputs": [
    {
     "data": {
      "image/png": "[encoded data removed]",
      "text/plain": [
       "<Figure size 720x576 with 1 Axes>"
      ]
     },
     "metadata": {},
     "output_type": "display_data"
    },
    {
     "data": {
      "image/png": "[encoded data removed]",
      "text/plain": [
       "<Figure size 720x576 with 1 Axes>"
      ]
     },
     "metadata": {},
     "output_type": "display_data"
    },
    {
     "data": {
      "image/png": "[encoded data removed]",
      "text/plain": [
       "<Figure size 720x576 with 1 Axes>"
      ]
     },
     "metadata": {},
     "output_type": "display_data"
    }
   ],
   "source": [
    "# Analyse des données aberrantes\n",
    "for i in num_cols:\n",
    "    plt.figure(figsize = (10,8))\n",
    "    sns.boxplot(df[i],showmeans = True, color = 'blue')\n",
    "    plt.show()"
   ]
  },
  {
   "cell_type": "markdown",
   "metadata": {
    "id": "69e6821c-647f-4bab-8877-d11c836ada98"
   },
   "source": [
    ">> ### **2.2. Variables qualitatives** "
   ]
  },
  {
   "cell_type": "code",
   "execution_count": 43,
   "metadata": {
    "colab": {
     "base_uri": "https://localhost:8080/"
    },
    "id": "c7d89bf5-0b5b-4489-b9b9-c77e891af328",
    "outputId": "3ab040ca-4ebb-405a-ccd8-a486f5a0e899"
   },
   "outputs": [
    {
     "data": {
      "text/plain": [
       "Age              int64\n",
       "Sex             object\n",
       "BP              object\n",
       "Cholesterol     object\n",
       "Na             float64\n",
       "K              float64\n",
       "Drug            object\n",
       "dtype: object"
      ]
     },
     "execution_count": 43,
     "metadata": {},
     "output_type": "execute_result"
    }
   ],
   "source": [
    "#Type des variables de la base de données\n",
    "df.dtypes"
   ]
  },
  {
   "cell_type": "code",
   "execution_count": 105,
   "metadata": {
    "colab": {
     "base_uri": "https://localhost:8080/"
    },
    "id": "395984fc-b6e4-4156-bee5-f53649fdebba",
    "outputId": "6e9d8d84-6f5f-4416-f874-ebd4e5c877fc"
   },
   "outputs": [
    {
     "data": {
      "text/plain": [
       "['Sex', 'BP', 'Cholesterol']"
      ]
     },
     "execution_count": 105,
     "metadata": {},
     "output_type": "execute_result"
    }
   ],
   "source": [
    "#Sélection de variables qualitatives\n",
    "qual_cols = num_cols = [i for i in df.select_dtypes(include = 'object').columns.tolist()\n",
    "                        if i not in ['Drug']]\n",
    "qual_cols"
   ]
  },
  {
   "cell_type": "code",
   "execution_count": 99,
   "metadata": {
    "colab": {
     "base_uri": "https://localhost:8080/"
    },
    "id": "f3f55d50-162f-4bfb-97cc-41ecfda46e6a",
    "outputId": "68da21b1-6ab9-43c3-e063-817877635d73"
   },
   "outputs": [
    {
     "data": {
      "text/plain": [
       "Sex            2\n",
       "BP             3\n",
       "Cholesterol    2\n",
       "dtype: int64"
      ]
     },
     "execution_count": 99,
     "metadata": {},
     "output_type": "execute_result"
    }
   ],
   "source": [
    "# Nombre de modalités uniques pour chaque variable qualitative\n",
    "df[qual_cols].nunique()"
   ]
  },
  {
   "cell_type": "code",
   "execution_count": 100,
   "metadata": {
    "colab": {
     "base_uri": "https://localhost:8080/"
    },
    "id": "1585519e-7857-441d-b04f-fa91edeb4a93",
    "outputId": "2eb31436-5818-4229-aa9c-8009caced6fe"
   },
   "outputs": [
    {
     "name": "stdout",
     "output_type": "stream",
     "text": [
      "Sex : ['F', 'M'] \n",
      "\n",
      "BP : ['HIGH', 'LOW', 'NORMAL'] \n",
      "\n",
      "Cholesterol : ['HIGH', 'NORMAL'] \n",
      "\n"
     ]
    }
   ],
   "source": [
    "# Modalités uniques des variables qualitatives\n",
    "for var in qual_cols:\n",
    "    print(\"{} : {} \\n\".format(var, df[var].unique().tolist()))"
   ]
  },
  {
   "cell_type": "code",
   "execution_count": 101,
   "metadata": {
    "colab": {
     "base_uri": "https://localhost:8080/"
    },
    "id": "92525493-35b1-4de4-bde7-2342645e8f6e",
    "outputId": "32ce2136-ec3a-4f72-bad8-6ee6d7bc36a2"
   },
   "outputs": [
    {
     "data": {
      "text/html": [
       "<div>\n",
       "<style scoped>\n",
       "    .dataframe tbody tr th:only-of-type {\n",
       "        vertical-align: middle;\n",
       "    }\n",
       "\n",
       "    .dataframe tbody tr th {\n",
       "        vertical-align: top;\n",
       "    }\n",
       "\n",
       "    .dataframe thead th {\n",
       "        text-align: right;\n",
       "    }\n",
       "</style>\n",
       "<table border=\"1\" class=\"dataframe\">\n",
       "  <thead>\n",
       "    <tr style=\"text-align: right;\">\n",
       "      <th></th>\n",
       "      <th>count</th>\n",
       "      <th>unique</th>\n",
       "      <th>top</th>\n",
       "      <th>freq</th>\n",
       "    </tr>\n",
       "  </thead>\n",
       "  <tbody>\n",
       "    <tr>\n",
       "      <th>Sex</th>\n",
       "      <td>200</td>\n",
       "      <td>2</td>\n",
       "      <td>M</td>\n",
       "      <td>104</td>\n",
       "    </tr>\n",
       "    <tr>\n",
       "      <th>BP</th>\n",
       "      <td>200</td>\n",
       "      <td>3</td>\n",
       "      <td>HIGH</td>\n",
       "      <td>77</td>\n",
       "    </tr>\n",
       "    <tr>\n",
       "      <th>Cholesterol</th>\n",
       "      <td>200</td>\n",
       "      <td>2</td>\n",
       "      <td>HIGH</td>\n",
       "      <td>103</td>\n",
       "    </tr>\n",
       "  </tbody>\n",
       "</table>\n",
       "</div>"
      ],
      "text/plain": [
       "            count unique   top freq\n",
       "Sex           200      2     M  104\n",
       "BP            200      3  HIGH   77\n",
       "Cholesterol   200      2  HIGH  103"
      ]
     },
     "execution_count": 101,
     "metadata": {},
     "output_type": "execute_result"
    }
   ],
   "source": [
    "#Statistique descriptives\n",
    "df[qual_cols].describe().T"
   ]
  },
  {
   "cell_type": "code",
   "execution_count": 76,
   "metadata": {},
   "outputs": [
    {
     "data": {
      "text/plain": [
       "array([<AxesSubplot:ylabel='freq'>], dtype=object)"
      ]
     },
     "execution_count": 76,
     "metadata": {},
     "output_type": "execute_result"
    },
    {
     "data": {
      "image/png": "[encoded data removed]",
      "text/plain": [
       "<Figure size 864x576 with 1 Axes>"
      ]
     },
     "metadata": {},
     "output_type": "display_data"
    }
   ],
   "source": [
    "sex = pd.crosstab(df.Sex, \"freq\")\n",
    "sex.plot.pie(subplots=True)"
   ]
  },
  {
   "cell_type": "markdown",
   "metadata": {
    "id": "7b82fc64-e2ce-481c-9723-7b6ce5f5556d"
   },
   "source": [
    "Pour savoir si deux variables catégorielles sont liées, on utilise le célèbre test du khi-deux. Dans ce dernier, l’hypothèse nulle est simplement **« les deux variables testées sont indépendantes »**. Si la p-value de test obtenue est en-dessous de **5%** alors **on rejette l’hypothèse nulle**.\n",
    "\n",
    "En Python le test est facilement implémentable à l’aide de la bibliothèque **scipy** et de sa fonction **chi2_contingency**. Elle permet d’obtenir rapidement la **p-valeur** du test ainsi que la **statistique** et le **degré de liberté** associé. Dans la pratique le test du khi-deux demande, en amont, un petit travail sur les données. Pour pouvoir effectuer le test il faut d’abord déterminer la **table de contingence**. C’est un tableau de croisement entre les modalités des deux variables. Il s’obtient facilement avec la fonction crosstab de Pandas."
   ]
  },
  {
   "cell_type": "code",
   "execution_count": 102,
   "metadata": {
    "id": "02a43a81-f2c3-4bb0-b273-61b4a361a584"
   },
   "outputs": [],
   "source": [
    "# Définition d'une fonction de test entre variables qualitatives\n",
    "def test_khi2(df, var1, var2):\n",
    "    table = pd.crosstab(df[var1],df[var2])\n",
    "    resultats = chi2_contingency(table)\n",
    "    print(\"{} et {}\".format(var1,var2))\n",
    "    print(\"Statistique de test : {}\".format(resultats[0]))\n",
    "    print(\"   Degré de liberté : {}\".format(resultats[2]))\n",
    "    print(\"            P_value : {}\".format(resultats[1]))\n",
    "    if ( resultats[1] < 0.05):\n",
    "        print(\"{} et {} ne sont pas indépendantes\".format(var1,var2))\n",
    "    print(\"\\n \\n\")\n",
    "    pass"
   ]
  },
  {
   "cell_type": "code",
   "execution_count": 103,
   "metadata": {
    "colab": {
     "base_uri": "https://localhost:8080/"
    },
    "id": "b420168b-aa87-47ab-b984-7178cc105d10",
    "outputId": "90a51d6d-aad5-44c2-d0e1-666e24e6b105"
   },
   "outputs": [
    {
     "name": "stdout",
     "output_type": "stream",
     "text": [
      "Sex et BP\n",
      "Statistique de test : 0.7110738837433747\n",
      "   Degré de liberté : 2\n",
      "            P_value : 0.7007970548859668\n",
      "\n",
      " \n",
      "\n",
      "Sex et Cholesterol\n",
      "Statistique de test : 0.0002887213877104998\n",
      "   Degré de liberté : 1\n",
      "            P_value : 0.986443154652954\n",
      "\n",
      " \n",
      "\n",
      "BP et Cholesterol\n",
      "Statistique de test : 4.33632565148387\n",
      "   Degré de liberté : 2\n",
      "            P_value : 0.11438757389420079\n",
      "\n",
      " \n",
      "\n"
     ]
    }
   ],
   "source": [
    "#Test Statistique du Khi-deux\n",
    "from scipy.stats import chi2_contingency\n",
    "liste = []\n",
    "for var1 in qual_cols:\n",
    "    liste.append(var1)\n",
    "    for var2 in [var for var in qual_cols if var not in liste ]:\n",
    "        test_khi2(df,var1,var2)"
   ]
  },
  {
   "cell_type": "markdown",
   "metadata": {
    "id": "82f69790-5c93-4cfb-8a01-036bb2dbc0bb"
   },
   "source": [
    "- Sex et BP sont indépendantes\n",
    "- Sex et Cholesterol sont indépendantes\n",
    "- Sex et Drug sont indépendantes\n",
    "- BP et Cholesterol sont indépendantes\n",
    "- BP et Drug ne sont pas indépendantes\n",
    "- Cholesterol et Drug ne sont pas indépendantes"
   ]
  },
  {
   "cell_type": "markdown",
   "metadata": {
    "id": "e0c383fa-4139-43d6-9e44-c94daaa4883d"
   },
   "source": [
    "**NB :** Vous pouvez pousser l'analyse beaucoup plus loin en étudiant la relation entre variables numériques et qualitatives, entre variables explicative et à expliquer..."
   ]
  },
  {
   "cell_type": "code",
   "execution_count": 77,
   "metadata": {},
   "outputs": [
    {
     "data": {
      "text/html": [
       "<div>\n",
       "<style scoped>\n",
       "    .dataframe tbody tr th:only-of-type {\n",
       "        vertical-align: middle;\n",
       "    }\n",
       "\n",
       "    .dataframe tbody tr th {\n",
       "        vertical-align: top;\n",
       "    }\n",
       "\n",
       "    .dataframe thead th {\n",
       "        text-align: right;\n",
       "    }\n",
       "</style>\n",
       "<table border=\"1\" class=\"dataframe\">\n",
       "  <thead>\n",
       "    <tr style=\"text-align: right;\">\n",
       "      <th>Cholesterol</th>\n",
       "      <th>HIGH</th>\n",
       "      <th>NORMAL</th>\n",
       "    </tr>\n",
       "    <tr>\n",
       "      <th>Sex</th>\n",
       "      <th></th>\n",
       "      <th></th>\n",
       "    </tr>\n",
       "  </thead>\n",
       "  <tbody>\n",
       "    <tr>\n",
       "      <th>F</th>\n",
       "      <td>49</td>\n",
       "      <td>47</td>\n",
       "    </tr>\n",
       "    <tr>\n",
       "      <th>M</th>\n",
       "      <td>54</td>\n",
       "      <td>50</td>\n",
       "    </tr>\n",
       "  </tbody>\n",
       "</table>\n",
       "</div>"
      ],
      "text/plain": [
       "Cholesterol  HIGH  NORMAL\n",
       "Sex                      \n",
       "F              49      47\n",
       "M              54      50"
      ]
     },
     "execution_count": 77,
     "metadata": {},
     "output_type": "execute_result"
    }
   ],
   "source": [
    "pd.crosstab(df.Sex, df.Cholesterol)"
   ]
  },
  {
   "cell_type": "code",
   "execution_count": 79,
   "metadata": {},
   "outputs": [
    {
     "data": {
      "text/html": [
       "<div>\n",
       "<style scoped>\n",
       "    .dataframe tbody tr th:only-of-type {\n",
       "        vertical-align: middle;\n",
       "    }\n",
       "\n",
       "    .dataframe tbody tr th {\n",
       "        vertical-align: top;\n",
       "    }\n",
       "\n",
       "    .dataframe thead th {\n",
       "        text-align: right;\n",
       "    }\n",
       "</style>\n",
       "<table border=\"1\" class=\"dataframe\">\n",
       "  <thead>\n",
       "    <tr style=\"text-align: right;\">\n",
       "      <th>Drug</th>\n",
       "      <th>drugA</th>\n",
       "      <th>drugB</th>\n",
       "      <th>drugC</th>\n",
       "      <th>drugX</th>\n",
       "      <th>drugY</th>\n",
       "    </tr>\n",
       "    <tr>\n",
       "      <th>BP</th>\n",
       "      <th></th>\n",
       "      <th></th>\n",
       "      <th></th>\n",
       "      <th></th>\n",
       "      <th></th>\n",
       "    </tr>\n",
       "  </thead>\n",
       "  <tbody>\n",
       "    <tr>\n",
       "      <th>HIGH</th>\n",
       "      <td>23</td>\n",
       "      <td>16</td>\n",
       "      <td>0</td>\n",
       "      <td>0</td>\n",
       "      <td>38</td>\n",
       "    </tr>\n",
       "    <tr>\n",
       "      <th>LOW</th>\n",
       "      <td>0</td>\n",
       "      <td>0</td>\n",
       "      <td>16</td>\n",
       "      <td>18</td>\n",
       "      <td>30</td>\n",
       "    </tr>\n",
       "    <tr>\n",
       "      <th>NORMAL</th>\n",
       "      <td>0</td>\n",
       "      <td>0</td>\n",
       "      <td>0</td>\n",
       "      <td>36</td>\n",
       "      <td>23</td>\n",
       "    </tr>\n",
       "  </tbody>\n",
       "</table>\n",
       "</div>"
      ],
      "text/plain": [
       "Drug    drugA  drugB  drugC  drugX  drugY\n",
       "BP                                       \n",
       "HIGH       23     16      0      0     38\n",
       "LOW         0      0     16     18     30\n",
       "NORMAL      0      0      0     36     23"
      ]
     },
     "execution_count": 79,
     "metadata": {},
     "output_type": "execute_result"
    }
   ],
   "source": [
    "pd.crosstab(df.BP, df.Drug)"
   ]
  },
  {
   "cell_type": "code",
   "execution_count": 80,
   "metadata": {},
   "outputs": [
    {
     "data": {
      "text/html": [
       "<div>\n",
       "<style scoped>\n",
       "    .dataframe tbody tr th:only-of-type {\n",
       "        vertical-align: middle;\n",
       "    }\n",
       "\n",
       "    .dataframe tbody tr th {\n",
       "        vertical-align: top;\n",
       "    }\n",
       "\n",
       "    .dataframe thead th {\n",
       "        text-align: right;\n",
       "    }\n",
       "</style>\n",
       "<table border=\"1\" class=\"dataframe\">\n",
       "  <thead>\n",
       "    <tr style=\"text-align: right;\">\n",
       "      <th>Drug</th>\n",
       "      <th>drugA</th>\n",
       "      <th>drugB</th>\n",
       "      <th>drugC</th>\n",
       "      <th>drugX</th>\n",
       "      <th>drugY</th>\n",
       "    </tr>\n",
       "    <tr>\n",
       "      <th>Sex</th>\n",
       "      <th></th>\n",
       "      <th></th>\n",
       "      <th></th>\n",
       "      <th></th>\n",
       "      <th></th>\n",
       "    </tr>\n",
       "  </thead>\n",
       "  <tbody>\n",
       "    <tr>\n",
       "      <th>F</th>\n",
       "      <td>9</td>\n",
       "      <td>6</td>\n",
       "      <td>7</td>\n",
       "      <td>27</td>\n",
       "      <td>47</td>\n",
       "    </tr>\n",
       "    <tr>\n",
       "      <th>M</th>\n",
       "      <td>14</td>\n",
       "      <td>10</td>\n",
       "      <td>9</td>\n",
       "      <td>27</td>\n",
       "      <td>44</td>\n",
       "    </tr>\n",
       "  </tbody>\n",
       "</table>\n",
       "</div>"
      ],
      "text/plain": [
       "Drug  drugA  drugB  drugC  drugX  drugY\n",
       "Sex                                    \n",
       "F         9      6      7     27     47\n",
       "M        14     10      9     27     44"
      ]
     },
     "execution_count": 80,
     "metadata": {},
     "output_type": "execute_result"
    }
   ],
   "source": [
    "pd.crosstab(df.Sex, df.Drug)"
   ]
  },
  {
   "cell_type": "code",
   "execution_count": 83,
   "metadata": {},
   "outputs": [
    {
     "data": {
      "text/plain": [
       "<AxesSubplot:xlabel='Cholesterol'>"
      ]
     },
     "execution_count": 83,
     "metadata": {},
     "output_type": "execute_result"
    },
    {
     "data": {
      "image/png": "[encoded data removed]",
      "text/plain": [
       "<Figure size 864x576 with 1 Axes>"
      ]
     },
     "metadata": {},
     "output_type": "display_data"
    }
   ],
   "source": [
    "t = pd.crosstab(df.Cholesterol, df.Drug)\n",
    "t.plot.bar()"
   ]
  },
  {
   "cell_type": "markdown",
   "metadata": {},
   "source": [
    "Pour les patients dont leur *`cholesterol`* est normal, ils n'ont pas de *`DrugC`*"
   ]
  },
  {
   "cell_type": "markdown",
   "metadata": {
    "id": "9063626c-30db-4afa-9045-42a117a86517"
   },
   "source": [
    ">> ### **2.3. Relations entre variables numériques et qualitatives** "
   ]
  },
  {
   "cell_type": "code",
   "execution_count": 56,
   "metadata": {},
   "outputs": [
    {
     "data": {
      "text/plain": [
       "<seaborn.axisgrid.FacetGrid at 0x7f0279d65190>"
      ]
     },
     "execution_count": 56,
     "metadata": {},
     "output_type": "execute_result"
    },
    {
     "data": {
      "image/png": "[encoded data removed]",
      "text/plain": [
       "<Figure size 426.125x360 with 1 Axes>"
      ]
     },
     "metadata": {},
     "output_type": "display_data"
    }
   ],
   "source": [
    "sns.relplot(x=\"BP\", y=\"Age\", hue=\"Drug\",\n",
    "            data=df)"
   ]
  },
  {
   "cell_type": "code",
   "execution_count": null,
   "metadata": {},
   "outputs": [],
   "source": []
  },
  {
   "cell_type": "markdown",
   "metadata": {
    "id": "6ae3f5d8-c506-4e59-a86a-60784b78ba0c"
   },
   "source": [
    "# **`D. Objectifs & Métriques`**\n",
    "------"
   ]
  },
  {
   "cell_type": "markdown",
   "metadata": {
    "id": "693abbe6-23d8-4679-a1bf-c91135178080"
   },
   "source": [
    "> ## **1. Objectif** "
   ]
  },
  {
   "cell_type": "markdown",
   "metadata": {
    "id": "1d249d07-9948-4cae-9812-f62921a22fe9"
   },
   "source": [
    "Développer un modèle performant de classification pour prédire le Drug."
   ]
  },
  {
   "cell_type": "markdown",
   "metadata": {
    "id": "555da1c0-74ce-46ad-8447-e940d2fc00b6"
   },
   "source": [
    "> ## **2. Métrique** "
   ]
  },
  {
   "cell_type": "markdown",
   "metadata": {
    "id": "6a172468-9952-42bf-bb03-3a3588d8e0dc"
   },
   "source": [
    "Etant donné une variable cible déséquilibrée, nous choisirons comme métriques le F1_score, la Precision et le Rappel."
   ]
  },
  {
   "cell_type": "markdown",
   "metadata": {
    "id": "b5701436-cece-479d-b5d4-5f1f1a5e8472"
   },
   "source": [
    "# **`E. Prétraitement`**\n",
    "------"
   ]
  },
  {
   "cell_type": "code",
   "execution_count": 128,
   "metadata": {
    "id": "8b6d3903-77a7-4ff5-8cfe-abbdc40deb25"
   },
   "outputs": [],
   "source": [
    "# Nouvelle copie de la base de données\n",
    "df = data.copy()"
   ]
  },
  {
   "cell_type": "code",
   "execution_count": 93,
   "metadata": {
    "colab": {
     "base_uri": "https://localhost:8080/",
     "height": 357
    },
    "id": "fa1e382a-5089-4ee3-bb69-138fe383087f",
    "outputId": "08f0769e-1783-4cba-dbdd-4cd8dfd3c61d"
   },
   "outputs": [
    {
     "data": {
      "text/html": [
       "<div>\n",
       "<style scoped>\n",
       "    .dataframe tbody tr th:only-of-type {\n",
       "        vertical-align: middle;\n",
       "    }\n",
       "\n",
       "    .dataframe tbody tr th {\n",
       "        vertical-align: top;\n",
       "    }\n",
       "\n",
       "    .dataframe thead th {\n",
       "        text-align: right;\n",
       "    }\n",
       "</style>\n",
       "<table border=\"1\" class=\"dataframe\">\n",
       "  <thead>\n",
       "    <tr style=\"text-align: right;\">\n",
       "      <th></th>\n",
       "      <th>Age</th>\n",
       "      <th>Sex</th>\n",
       "      <th>BP</th>\n",
       "      <th>Cholesterol</th>\n",
       "      <th>Na</th>\n",
       "      <th>K</th>\n",
       "      <th>Drug</th>\n",
       "    </tr>\n",
       "  </thead>\n",
       "  <tbody>\n",
       "    <tr>\n",
       "      <th>0</th>\n",
       "      <td>23</td>\n",
       "      <td>F</td>\n",
       "      <td>HIGH</td>\n",
       "      <td>HIGH</td>\n",
       "      <td>0.792535</td>\n",
       "      <td>0.031258</td>\n",
       "      <td>drugY</td>\n",
       "    </tr>\n",
       "    <tr>\n",
       "      <th>1</th>\n",
       "      <td>47</td>\n",
       "      <td>M</td>\n",
       "      <td>LOW</td>\n",
       "      <td>HIGH</td>\n",
       "      <td>0.739309</td>\n",
       "      <td>0.056468</td>\n",
       "      <td>drugC</td>\n",
       "    </tr>\n",
       "    <tr>\n",
       "      <th>2</th>\n",
       "      <td>47</td>\n",
       "      <td>M</td>\n",
       "      <td>LOW</td>\n",
       "      <td>HIGH</td>\n",
       "      <td>0.697269</td>\n",
       "      <td>0.068944</td>\n",
       "      <td>drugC</td>\n",
       "    </tr>\n",
       "    <tr>\n",
       "      <th>3</th>\n",
       "      <td>28</td>\n",
       "      <td>F</td>\n",
       "      <td>NORMAL</td>\n",
       "      <td>HIGH</td>\n",
       "      <td>0.563682</td>\n",
       "      <td>0.072289</td>\n",
       "      <td>drugX</td>\n",
       "    </tr>\n",
       "    <tr>\n",
       "      <th>4</th>\n",
       "      <td>61</td>\n",
       "      <td>F</td>\n",
       "      <td>LOW</td>\n",
       "      <td>HIGH</td>\n",
       "      <td>0.559294</td>\n",
       "      <td>0.030998</td>\n",
       "      <td>drugY</td>\n",
       "    </tr>\n",
       "  </tbody>\n",
       "</table>\n",
       "</div>"
      ],
      "text/plain": [
       "   Age Sex      BP Cholesterol        Na         K   Drug\n",
       "0   23   F    HIGH        HIGH  0.792535  0.031258  drugY\n",
       "1   47   M     LOW        HIGH  0.739309  0.056468  drugC\n",
       "2   47   M     LOW        HIGH  0.697269  0.068944  drugC\n",
       "3   28   F  NORMAL        HIGH  0.563682  0.072289  drugX\n",
       "4   61   F     LOW        HIGH  0.559294  0.030998  drugY"
      ]
     },
     "execution_count": 93,
     "metadata": {},
     "output_type": "execute_result"
    }
   ],
   "source": [
    "# Apperçu de notre dataset\n",
    "df.head()"
   ]
  },
  {
   "cell_type": "markdown",
   "metadata": {
    "id": "55f564c1-b708-4531-8904-c48eb69110e0"
   },
   "source": [
    "> ## **1. Suppression des variables jugées inutiles**"
   ]
  },
  {
   "cell_type": "markdown",
   "metadata": {
    "id": "1c2f5805-d887-4353-adc5-da0fefab5c4f"
   },
   "source": [
    "> ## **2. Selection de variables indépendantes/explicatives**"
   ]
  },
  {
   "cell_type": "markdown",
   "metadata": {
    "id": "980c173a-ec68-4de1-8474-5c9436facf4d"
   },
   "source": [
    ">> ### **2.1. Variables numériques** "
   ]
  },
  {
   "cell_type": "markdown",
   "metadata": {
    "id": "935efb48-f754-4ffe-a57c-3d2dbc02b153"
   },
   "source": [
    ">>> #### **Rappel :** Les variables **`Age, K, Na`** ne sont pas indépendantes entre elles. Nous garderons seulement l'une qui explique plus la variable cible."
   ]
  },
  {
   "cell_type": "markdown",
   "metadata": {
    "id": "e342635e-20f6-420e-8c24-0c2f12825f1d"
   },
   "source": [
    "La statistique de test (F) est simplement un ratio de deux écart-types. Les écart-types sont une mesure de dispersion, ou dans quelle mesure les données sont dispersées de la moyenne. De plus grandes valeurs représentent une plus grande dispersion. Ainsi nous choisirons la variable **TotalWorkingYears** vu qu'elle est la plus liée à la variable cible **Attrition** (Statistique de test F = 44.25). Du coup, les variables **Age, JobLevel, MonthlyIncome, NumCompaniesWorked, TrainingTimesLastYear, YearsAtCompany, YearsInCurrentRole, YearsSinceLastPromotion et YearsWithCurrManager** seront supprimées de la base pour éviter les effets de rédondance."
   ]
  },
  {
   "cell_type": "markdown",
   "metadata": {
    "id": "8fbd7019-12b2-44c6-9624-3224b6a065b4"
   },
   "source": [
    ">> ### **2.2. Variables qualitatives** "
   ]
  },
  {
   "cell_type": "markdown",
   "metadata": {
    "id": "2f90cde1-6a82-43be-8c3d-c604bd6ecc90"
   },
   "source": [
    "La variable cible est qualitative. Ainsi, pour étudier la relation entre elle et les variables qualitatives nous ferons un test de khi-deux."
   ]
  },
  {
   "cell_type": "markdown",
   "metadata": {
    "id": "9b8dc6d8-b520-4691-9002-ef4333cf08db"
   },
   "source": [
    ">>> #### **Rappel :** Les variables **`Cholesterol, BP, Sex`** ne sont pas indépendantes. Nous garderons seulement l'une qui explique plus la variable cible."
   ]
  },
  {
   "cell_type": "code",
   "execution_count": null,
   "metadata": {
    "id": "7d8ffce2-33b8-4435-bc15-8f5983b8ee8f"
   },
   "outputs": [],
   "source": [
    "#Test Statistique du Khi-deux\n",
    "for var1 in ['Cholesterol', 'BP', 'Sex']:\n",
    "    test_khi2(df,var1,'Drug')"
   ]
  },
  {
   "cell_type": "markdown",
   "metadata": {
    "id": "1dcc4a91-5cce-4fd1-8726-e7857665fdc2"
   },
   "source": [
    ">>> #### **`JobRole`** a la plus grande statistique de test (86.19) donc retenue. Par contre, les variables **`Department, Education, EducationField, Gender et MaritalStatus`** seront supprimées de la base pour éviter les effets de dépendances."
   ]
  },
  {
   "cell_type": "markdown",
   "metadata": {
    "id": "ea4ac8b2-73fd-43eb-b261-81bec2969660"
   },
   "source": [
    ">>> #### Les variables qualitatives indépendantes retenues sont **`BusinessTravel, EnvironmentSatisfaction, JobInvolvement, JobRole, JobSatisfaction, OverTime, PerformanceRating, RelationshipSatisfaction, WorkLifeBalance`**. Nous ferons un dernier test statistique pour selectionner les variables qualitatives finales qui expliquent plus la target."
   ]
  },
  {
   "cell_type": "code",
   "execution_count": null,
   "metadata": {
    "id": "f7754d80-9f92-48e4-acad-5f8dc9505f77"
   },
   "outputs": [],
   "source": [
    "#Test Statistique du Khi-deux\n",
    "for var1 in ['BusinessTravel', 'EnvironmentSatisfaction','JobInvolvement',\n",
    "             'JobRole','JobSatisfaction','OverTime','PerformanceRating',\n",
    "             'RelationshipSatisfaction','WorkLifeBalance']:\n",
    "    test_khi2(df4,var1,'Attrition')"
   ]
  },
  {
   "cell_type": "markdown",
   "metadata": {
    "id": "9029b2f3-fcbb-46dd-bdf8-b81b00fbb727"
   },
   "source": [
    ">>> #### Les variables **`PerformanceRating & RelationshipSatisfaction`** n'ont aucune liaison avec la target, elles seront supprimées de la base aussi."
   ]
  },
  {
   "cell_type": "markdown",
   "metadata": {
    "id": "ae05ab6e-f96a-4e2a-a034-ddd89359b89b"
   },
   "source": [
    ">> ### **2.3. Variables qualitatives/quantitatives** "
   ]
  },
  {
   "cell_type": "markdown",
   "metadata": {
    "id": "b4357492-05c5-439d-961b-171a28f007c9"
   },
   "source": [
    "Toujours dans l'optique d'éviter les effets de rédondances, nous allons étudier en dernier les relations entre variables indépendantes qualitatives et quantitatives. L'ANOVA est alors nécessaire pour une telle étude."
   ]
  },
  {
   "cell_type": "markdown",
   "metadata": {
    "id": "f90147fd-5210-416d-aaef-2df0d836b4a9"
   },
   "source": [
    ">>> #### **`TotalWorkingYears et JobRole`** ne sont pas indépendantes. Ainsi, nous retenons **`JobRole`**. Ce choix est justifié par le fait que la variable **`TotalWorkingYears`** contienne des données aberrantes. Nous la supprimerons de la base."
   ]
  },
  {
   "cell_type": "markdown",
   "metadata": {
    "id": "25436e37-b93c-4ec3-8ec1-f60730fdcc21"
   },
   "source": [
    ">>> #### Notons que grâce à la selection de variables, nous sommes passés de 34 à 11 variables et ces dernières sont entièrement indépendantes entre elles et liées à la variable cible."
   ]
  },
  {
   "cell_type": "markdown",
   "metadata": {
    "id": "67b4488c-d79e-4cad-b8ba-09e547465e00"
   },
   "source": [
    "> ## **3. Encodage des variables qualitatives**"
   ]
  },
  {
   "cell_type": "code",
   "execution_count": 108,
   "metadata": {
    "colab": {
     "base_uri": "https://localhost:8080/"
    },
    "id": "984ba3f0-cb9b-40e0-acb8-2c7ee34e11bc",
    "outputId": "4f0a5df3-37fd-4fcb-eb10-8456efdf257e"
   },
   "outputs": [
    {
     "data": {
      "text/plain": [
       "['Sex', 'BP', 'Cholesterol', 'Drug']"
      ]
     },
     "execution_count": 108,
     "metadata": {},
     "output_type": "execute_result"
    }
   ],
   "source": [
    "#Selections des variables qualitatives\n",
    "qual_cols = num_cols = [i for i in df.select_dtypes(include = 'object').columns.tolist()]\n",
    "qual_cols"
   ]
  },
  {
   "cell_type": "code",
   "execution_count": 109,
   "metadata": {
    "colab": {
     "base_uri": "https://localhost:8080/"
    },
    "id": "8fdae8ee-b6f0-4516-bcf5-604064d7e58c",
    "outputId": "15b318e0-e3c1-43dd-da8f-a0e060be5167"
   },
   "outputs": [
    {
     "name": "stdout",
     "output_type": "stream",
     "text": [
      "Sex : ['F', 'M'] \n",
      "\n",
      "BP : ['HIGH', 'LOW', 'NORMAL'] \n",
      "\n",
      "Cholesterol : ['HIGH', 'NORMAL'] \n",
      "\n",
      "Drug : ['drugY', 'drugC', 'drugX', 'drugA', 'drugB'] \n",
      "\n"
     ]
    }
   ],
   "source": [
    "#Modalités uniques\n",
    "for var in qual_cols:\n",
    "    print(\"{} : {} \\n\".format(var, df[var].unique().tolist()))"
   ]
  },
  {
   "cell_type": "markdown",
   "metadata": {
    "id": "f95ef440-33fe-4647-ac09-a607d4e1737c"
   },
   "source": [
    ">>>  **Rappel**\n",
    "- Les variables qualitatives ne sont pas encodées. Comme certains des algorithmes de Machine Learning ne peuvent pas apprendre avec des données qualitatives, nous penserons à les encoder comme suit : \n",
    "\n",
    "    * Un **`encodage oneHot`** pour les variables catégorielles nominales.\n",
    "\n",
    "    * Un **`encodage ordinal`** pour les variables catégorielles ordinales. Exemple : **`Cholesterol`** qui a comme modalités **`High, Normal, Low`** où **`Low < Normal < High`**"
   ]
  },
  {
   "cell_type": "code",
   "execution_count": 136,
   "metadata": {
    "id": "f69b64ac-a1de-418a-8b5f-1cfc0c71b694"
   },
   "outputs": [],
   "source": [
    "#Cette fonction permet de remplacer les modalités d'une variable par leur valeur numérique correspondante définie dans la fonction replace.\n",
    "#Exemple :\n",
    "#   M : 1\n",
    "#   F : 0\n",
    "def manual_encoder(df):\n",
    "    df['Sex'] = df['Sex'].replace(['M', 'F'],[1,0])\n",
    "    df['BP'] = df['BP'].replace(['HIGH', 'LOW', 'NORMAL'],[3,2,1])\n",
    "    df['Cholesterol'] = df['Cholesterol'].replace(['HIGH', 'NORMAL'],[3,1])\n",
    "    df['Drug'] = df['Drug'].replace(['drugY', 'drugC', 'drugX', 'drugA', 'drugB'],[5,4,3,2,1])\n",
    "    return df"
   ]
  },
  {
   "cell_type": "code",
   "execution_count": 139,
   "metadata": {
    "id": "1d990215-cfdc-420c-bd87-d86fdef8cb14"
   },
   "outputs": [],
   "source": [
    "# Définition d'une fonction d'encodage\n",
    "df_new = manual_encoder(df)"
   ]
  },
  {
   "cell_type": "code",
   "execution_count": 144,
   "metadata": {
    "id": "2eb471cf-9c0a-45c2-ae8a-c310fa0a4778"
   },
   "outputs": [
    {
     "data": {
      "text/html": [
       "<div>\n",
       "<style scoped>\n",
       "    .dataframe tbody tr th:only-of-type {\n",
       "        vertical-align: middle;\n",
       "    }\n",
       "\n",
       "    .dataframe tbody tr th {\n",
       "        vertical-align: top;\n",
       "    }\n",
       "\n",
       "    .dataframe thead th {\n",
       "        text-align: right;\n",
       "    }\n",
       "</style>\n",
       "<table border=\"1\" class=\"dataframe\">\n",
       "  <thead>\n",
       "    <tr style=\"text-align: right;\">\n",
       "      <th></th>\n",
       "      <th>Age</th>\n",
       "      <th>Sex</th>\n",
       "      <th>BP</th>\n",
       "      <th>Cholesterol</th>\n",
       "      <th>Na</th>\n",
       "      <th>K</th>\n",
       "      <th>Drug</th>\n",
       "    </tr>\n",
       "  </thead>\n",
       "  <tbody>\n",
       "    <tr>\n",
       "      <th>0</th>\n",
       "      <td>23</td>\n",
       "      <td>0</td>\n",
       "      <td>3</td>\n",
       "      <td>3</td>\n",
       "      <td>0.792535</td>\n",
       "      <td>0.031258</td>\n",
       "      <td>5</td>\n",
       "    </tr>\n",
       "    <tr>\n",
       "      <th>1</th>\n",
       "      <td>47</td>\n",
       "      <td>1</td>\n",
       "      <td>2</td>\n",
       "      <td>3</td>\n",
       "      <td>0.739309</td>\n",
       "      <td>0.056468</td>\n",
       "      <td>4</td>\n",
       "    </tr>\n",
       "    <tr>\n",
       "      <th>2</th>\n",
       "      <td>47</td>\n",
       "      <td>1</td>\n",
       "      <td>2</td>\n",
       "      <td>3</td>\n",
       "      <td>0.697269</td>\n",
       "      <td>0.068944</td>\n",
       "      <td>4</td>\n",
       "    </tr>\n",
       "    <tr>\n",
       "      <th>3</th>\n",
       "      <td>28</td>\n",
       "      <td>0</td>\n",
       "      <td>1</td>\n",
       "      <td>3</td>\n",
       "      <td>0.563682</td>\n",
       "      <td>0.072289</td>\n",
       "      <td>3</td>\n",
       "    </tr>\n",
       "    <tr>\n",
       "      <th>4</th>\n",
       "      <td>61</td>\n",
       "      <td>0</td>\n",
       "      <td>2</td>\n",
       "      <td>3</td>\n",
       "      <td>0.559294</td>\n",
       "      <td>0.030998</td>\n",
       "      <td>5</td>\n",
       "    </tr>\n",
       "  </tbody>\n",
       "</table>\n",
       "</div>"
      ],
      "text/plain": [
       "   Age  Sex  BP  Cholesterol        Na         K  Drug\n",
       "0   23    0   3            3  0.792535  0.031258     5\n",
       "1   47    1   2            3  0.739309  0.056468     4\n",
       "2   47    1   2            3  0.697269  0.068944     4\n",
       "3   28    0   1            3  0.563682  0.072289     3\n",
       "4   61    0   2            3  0.559294  0.030998     5"
      ]
     },
     "execution_count": 144,
     "metadata": {},
     "output_type": "execute_result"
    }
   ],
   "source": [
    "# Aperçu des nouvelles données\n",
    "df_new = pd.get_dummies(df_new)\n",
    "df_new.head()"
   ]
  },
  {
   "cell_type": "code",
   "execution_count": 142,
   "metadata": {
    "colab": {
     "base_uri": "https://localhost:8080/"
    },
    "id": "bc89a85d-0815-4eff-98ce-f68b6468c3ce",
    "outputId": "ca4f21eb-96ea-4ee6-953d-ed63055b82f9"
   },
   "outputs": [
    {
     "data": {
      "text/plain": [
       "(200, 7)"
      ]
     },
     "execution_count": 142,
     "metadata": {},
     "output_type": "execute_result"
    }
   ],
   "source": [
    "#dimensions de la nouvelle base encodée\n",
    "df_new.shape"
   ]
  },
  {
   "cell_type": "markdown",
   "metadata": {
    "id": "a99242b8-2e32-4a03-a98c-d6613419762f"
   },
   "source": [
    "> ## **5. Division de la base en Train / Test**"
   ]
  },
  {
   "cell_type": "code",
   "execution_count": 145,
   "metadata": {
    "colab": {
     "base_uri": "https://localhost:8080/"
    },
    "id": "e3cd2f50-7c6e-4b82-a5fd-2d6cc1dd4e67",
    "outputId": "d63def6c-b711-4053-f307-0f48c22f2756"
   },
   "outputs": [
    {
     "data": {
      "text/plain": [
       "5    45.5\n",
       "3    27.0\n",
       "2    11.5\n",
       "4     8.0\n",
       "1     8.0\n",
       "Name: Drug, dtype: float64"
      ]
     },
     "execution_count": 145,
     "metadata": {},
     "output_type": "execute_result"
    }
   ],
   "source": [
    "df_new['Drug'].value_counts(normalize = True)*100"
   ]
  },
  {
   "cell_type": "code",
   "execution_count": 148,
   "metadata": {
    "id": "68e8f365-882a-4e6c-9911-2eb73f5ce97c"
   },
   "outputs": [],
   "source": [
    "# Affectation de la matrice de variables explicatives à X et de la target à y\n",
    "X = df_new.drop('Drug', axis = 1)\n",
    "y = df_new[['Drug']]\n",
    "X_train, X_test, y_train, y_test = train_test_split(X,y, test_size = 0.2, stratify = y)"
   ]
  },
  {
   "cell_type": "code",
   "execution_count": 149,
   "metadata": {
    "colab": {
     "base_uri": "https://localhost:8080/"
    },
    "id": "82687063-1534-4624-ab50-be87ce183c0b",
    "outputId": "aa1f33f7-421b-4163-ed2d-7c1284bf8523"
   },
   "outputs": [
    {
     "name": "stdout",
     "output_type": "stream",
     "text": [
      "Dimensions X_train : (160, 6)\n",
      "Dimensions y_train : (160, 1)\n",
      "Dimensions X_test : (40, 6)\n",
      "Dimensions y_test : (40, 1)\n"
     ]
    }
   ],
   "source": [
    "print(\"Dimensions X_train :\", X_train.shape)\n",
    "print(\"Dimensions y_train :\", y_train.shape)\n",
    "print(\"Dimensions X_test :\", X_test.shape)\n",
    "print(\"Dimensions y_test :\", y_test.shape)"
   ]
  },
  {
   "cell_type": "code",
   "execution_count": 150,
   "metadata": {
    "colab": {
     "base_uri": "https://localhost:8080/"
    },
    "id": "feea8852-5d3a-43c6-91a9-e0e347756eba",
    "outputId": "2f257928-08a5-4aab-b0dd-347200c21624"
   },
   "outputs": [
    {
     "data": {
      "text/plain": [
       "Drug\n",
       "5       45.0\n",
       "3       27.5\n",
       "2       12.5\n",
       "4        7.5\n",
       "1        7.5\n",
       "dtype: float64"
      ]
     },
     "execution_count": 150,
     "metadata": {},
     "output_type": "execute_result"
    }
   ],
   "source": [
    "y_test.value_counts(normalize = True)*100"
   ]
  },
  {
   "cell_type": "code",
   "execution_count": 151,
   "metadata": {
    "colab": {
     "base_uri": "https://localhost:8080/"
    },
    "id": "54b956a7-2b32-4cb2-b0ca-38d96c2b136e",
    "outputId": "ea2dbd43-e6ed-4b79-8747-018df85d23fb"
   },
   "outputs": [
    {
     "data": {
      "text/plain": [
       "Drug\n",
       "5       45.625\n",
       "3       26.875\n",
       "2       11.250\n",
       "4        8.125\n",
       "1        8.125\n",
       "dtype: float64"
      ]
     },
     "execution_count": 151,
     "metadata": {},
     "output_type": "execute_result"
    }
   ],
   "source": [
    "y_train.value_counts(normalize = True)*100"
   ]
  },
  {
   "cell_type": "markdown",
   "metadata": {
    "id": "c704696a-e4f3-4278-b1c4-3cd4538e12f8"
   },
   "source": [
    "> ## **4. Normalisation**"
   ]
  },
  {
   "cell_type": "code",
   "execution_count": 152,
   "metadata": {
    "id": "0babee1c-e4b7-4d8c-a872-cbbbd03f6063"
   },
   "outputs": [],
   "source": [
    "# Instanciation de la classe\n",
    "minmax_scaler = MinMaxScaler()"
   ]
  },
  {
   "cell_type": "code",
   "execution_count": 153,
   "metadata": {
    "id": "8356b28a-c6c4-4214-b5a0-22708491c3e6"
   },
   "outputs": [],
   "source": [
    "# Normalisaton\n",
    "X_train_scaled = pd.DataFrame(minmax_scaler.fit_transform(X_train), columns = X_train.columns)\n",
    "X_test_scaled = pd.DataFrame(minmax_scaler.transform(X_test), columns = X_test.columns)"
   ]
  },
  {
   "cell_type": "code",
   "execution_count": 154,
   "metadata": {
    "colab": {
     "base_uri": "https://localhost:8080/"
    },
    "id": "c0f4e311-3be1-4cb0-b566-5afe57042c7c",
    "outputId": "61d97a69-668f-4f76-cfb0-6ee223220228"
   },
   "outputs": [
    {
     "data": {
      "text/html": [
       "<div>\n",
       "<style scoped>\n",
       "    .dataframe tbody tr th:only-of-type {\n",
       "        vertical-align: middle;\n",
       "    }\n",
       "\n",
       "    .dataframe tbody tr th {\n",
       "        vertical-align: top;\n",
       "    }\n",
       "\n",
       "    .dataframe thead th {\n",
       "        text-align: right;\n",
       "    }\n",
       "</style>\n",
       "<table border=\"1\" class=\"dataframe\">\n",
       "  <thead>\n",
       "    <tr style=\"text-align: right;\">\n",
       "      <th></th>\n",
       "      <th>Age</th>\n",
       "      <th>Sex</th>\n",
       "      <th>BP</th>\n",
       "      <th>Cholesterol</th>\n",
       "      <th>Na</th>\n",
       "      <th>K</th>\n",
       "    </tr>\n",
       "  </thead>\n",
       "  <tbody>\n",
       "    <tr>\n",
       "      <th>0</th>\n",
       "      <td>1.000000</td>\n",
       "      <td>1.0</td>\n",
       "      <td>1.0</td>\n",
       "      <td>0.0</td>\n",
       "      <td>0.805356</td>\n",
       "      <td>0.552589</td>\n",
       "    </tr>\n",
       "    <tr>\n",
       "      <th>1</th>\n",
       "      <td>1.000000</td>\n",
       "      <td>0.0</td>\n",
       "      <td>0.5</td>\n",
       "      <td>1.0</td>\n",
       "      <td>0.738860</td>\n",
       "      <td>0.298079</td>\n",
       "    </tr>\n",
       "    <tr>\n",
       "      <th>2</th>\n",
       "      <td>0.084746</td>\n",
       "      <td>0.0</td>\n",
       "      <td>0.0</td>\n",
       "      <td>0.0</td>\n",
       "      <td>0.205670</td>\n",
       "      <td>0.713437</td>\n",
       "    </tr>\n",
       "    <tr>\n",
       "      <th>3</th>\n",
       "      <td>0.593220</td>\n",
       "      <td>1.0</td>\n",
       "      <td>0.0</td>\n",
       "      <td>0.0</td>\n",
       "      <td>0.625547</td>\n",
       "      <td>0.457236</td>\n",
       "    </tr>\n",
       "    <tr>\n",
       "      <th>4</th>\n",
       "      <td>0.322034</td>\n",
       "      <td>0.0</td>\n",
       "      <td>1.0</td>\n",
       "      <td>0.0</td>\n",
       "      <td>0.423368</td>\n",
       "      <td>0.246711</td>\n",
       "    </tr>\n",
       "  </tbody>\n",
       "</table>\n",
       "</div>"
      ],
      "text/plain": [
       "        Age  Sex   BP  Cholesterol        Na         K\n",
       "0  1.000000  1.0  1.0          0.0  0.805356  0.552589\n",
       "1  1.000000  0.0  0.5          1.0  0.738860  0.298079\n",
       "2  0.084746  0.0  0.0          0.0  0.205670  0.713437\n",
       "3  0.593220  1.0  0.0          0.0  0.625547  0.457236\n",
       "4  0.322034  0.0  1.0          0.0  0.423368  0.246711"
      ]
     },
     "execution_count": 154,
     "metadata": {},
     "output_type": "execute_result"
    }
   ],
   "source": [
    "# Apperçu\n",
    "X_train_scaled.head()"
   ]
  },
  {
   "cell_type": "markdown",
   "metadata": {
    "id": "9092741e-41ae-43bc-8c00-08791702eb2e"
   },
   "source": [
    "# **`F. Modélisation`**\n",
    "------"
   ]
  },
  {
   "cell_type": "markdown",
   "metadata": {
    "id": "89cc9824-9dbe-471e-b0b9-f365de4e5bf3"
   },
   "source": [
    "> ## **1. Premier Essai**"
   ]
  },
  {
   "cell_type": "code",
   "execution_count": 192,
   "metadata": {
    "id": "68eee76e-a0d5-4222-a129-aaf982ec484e"
   },
   "outputs": [
    {
     "name": "stdout",
     "output_type": "stream",
     "text": [
      "score of Decision Tree Classifier algo is : 0.9\n",
      "Precision Score :  0.9\n",
      "Recall Score :  0.9\n",
      "              precision    recall  f1-score   support\n",
      "\n",
      "           1       1.00      1.00      1.00         3\n",
      "           2       0.71      1.00      0.83         5\n",
      "           3       0.92      1.00      0.96        11\n",
      "           4       0.75      1.00      0.86         3\n",
      "           5       1.00      0.78      0.88        18\n",
      "\n",
      "    accuracy                           0.90        40\n",
      "   macro avg       0.88      0.96      0.90        40\n",
      "weighted avg       0.92      0.90      0.90        40\n",
      "\n"
     ]
    }
   ],
   "source": [
    "# DecisionTreeClassifier\n",
    "from sklearn.metrics import auc, classification_report, roc_auc_score\n",
    "vec = CountVectorizer() \n",
    "\n",
    "X_train_transformed =  vec.fit_transform(X_train) \n",
    "\n",
    "X_test_transformed = vec.transform(X_test)\n",
    "\n",
    "clf = DecisionTreeClassifier()\n",
    "clf.fit(X_train, y_train)\n",
    "\n",
    "score = clf.score(X_test, y_test)\n",
    "print(\"score of Decision Tree Classifier algo is :\" , score)\n",
    "\n",
    "y_pred = clf.predict(X_test)\n",
    "\n",
    "print(\"Precision Score : \",precision_score(y_test, y_pred, \n",
    "                                           pos_label='positive',\n",
    "                                           average='micro'))\n",
    "print(\"Recall Score : \",recall_score(y_test, y_pred, \n",
    "                                           pos_label='positive',\n",
    "                                           average='micro'))\n",
    "\n",
    "# print classification report\n",
    "print(classification_report(y_test,  y_pred))"
   ]
  },
  {
   "cell_type": "code",
   "execution_count": 197,
   "metadata": {},
   "outputs": [
    {
     "ename": "TypeError",
     "evalue": "accuracy_score() got an unexpected keyword argument 'pos_label'",
     "output_type": "error",
     "traceback": [
      "\u001b[0;31m---------------------------------------------------------------------------\u001b[0m",
      "\u001b[0;31mTypeError\u001b[0m                                 Traceback (most recent call last)",
      "\u001b[0;32m<ipython-input-197-50cbc329b5f7>\u001b[0m in \u001b[0;36m<module>\u001b[0;34m\u001b[0m\n\u001b[1;32m     35\u001b[0m     \u001b[0mcls\u001b[0m \u001b[0;34m=\u001b[0m \u001b[0mmodel\u001b[0m\u001b[0;34m(\u001b[0m\u001b[0;34m)\u001b[0m\u001b[0;34m\u001b[0m\u001b[0;34m\u001b[0m\u001b[0m\n\u001b[1;32m     36\u001b[0m     \u001b[0mkfold\u001b[0m \u001b[0;34m=\u001b[0m \u001b[0mmodel_selection\u001b[0m\u001b[0;34m.\u001b[0m\u001b[0mKFold\u001b[0m\u001b[0;34m(\u001b[0m\u001b[0mn_splits\u001b[0m\u001b[0;34m=\u001b[0m\u001b[0;36m2\u001b[0m\u001b[0;34m,\u001b[0m \u001b[0mrandom_state\u001b[0m\u001b[0;34m=\u001b[0m\u001b[0;36m1\u001b[0m\u001b[0;34m,\u001b[0m \u001b[0mshuffle\u001b[0m\u001b[0;34m=\u001b[0m\u001b[0;32mTrue\u001b[0m\u001b[0;34m)\u001b[0m\u001b[0;34m\u001b[0m\u001b[0;34m\u001b[0m\u001b[0m\n\u001b[0;32m---> 37\u001b[0;31m     cvs = model_selection.cross_validate(\n\u001b[0m\u001b[1;32m     38\u001b[0m         \u001b[0mcls\u001b[0m\u001b[0;34m,\u001b[0m \u001b[0mX_train\u001b[0m\u001b[0;34m,\u001b[0m \u001b[0my_train\u001b[0m\u001b[0;34m,\u001b[0m \u001b[0mscoring\u001b[0m\u001b[0;34m=\u001b[0m\u001b[0mscoring\u001b[0m\u001b[0;34m,\u001b[0m \u001b[0mcv\u001b[0m\u001b[0;34m=\u001b[0m\u001b[0mkfold\u001b[0m\u001b[0;34m\u001b[0m\u001b[0;34m\u001b[0m\u001b[0m\n\u001b[1;32m     39\u001b[0m     )\n",
      "\u001b[0;32m~/.cache/pypoetry/virtualenvs/wine-mmboup--XfM-ov7-py3.8/lib/python3.8/site-packages/sklearn/utils/validation.py\u001b[0m in \u001b[0;36minner_f\u001b[0;34m(*args, **kwargs)\u001b[0m\n\u001b[1;32m     70\u001b[0m                           FutureWarning)\n\u001b[1;32m     71\u001b[0m         \u001b[0mkwargs\u001b[0m\u001b[0;34m.\u001b[0m\u001b[0mupdate\u001b[0m\u001b[0;34m(\u001b[0m\u001b[0;34m{\u001b[0m\u001b[0mk\u001b[0m\u001b[0;34m:\u001b[0m \u001b[0marg\u001b[0m \u001b[0;32mfor\u001b[0m \u001b[0mk\u001b[0m\u001b[0;34m,\u001b[0m \u001b[0marg\u001b[0m \u001b[0;32min\u001b[0m \u001b[0mzip\u001b[0m\u001b[0;34m(\u001b[0m\u001b[0msig\u001b[0m\u001b[0;34m.\u001b[0m\u001b[0mparameters\u001b[0m\u001b[0;34m,\u001b[0m \u001b[0margs\u001b[0m\u001b[0;34m)\u001b[0m\u001b[0;34m}\u001b[0m\u001b[0;34m)\u001b[0m\u001b[0;34m\u001b[0m\u001b[0;34m\u001b[0m\u001b[0m\n\u001b[0;32m---> 72\u001b[0;31m         \u001b[0;32mreturn\u001b[0m \u001b[0mf\u001b[0m\u001b[0;34m(\u001b[0m\u001b[0;34m**\u001b[0m\u001b[0mkwargs\u001b[0m\u001b[0;34m)\u001b[0m\u001b[0;34m\u001b[0m\u001b[0;34m\u001b[0m\u001b[0m\n\u001b[0m\u001b[1;32m     73\u001b[0m     \u001b[0;32mreturn\u001b[0m \u001b[0minner_f\u001b[0m\u001b[0;34m\u001b[0m\u001b[0;34m\u001b[0m\u001b[0m\n\u001b[1;32m     74\u001b[0m \u001b[0;34m\u001b[0m\u001b[0m\n",
      "\u001b[0;32m~/.cache/pypoetry/virtualenvs/wine-mmboup--XfM-ov7-py3.8/lib/python3.8/site-packages/sklearn/model_selection/_validation.py\u001b[0m in \u001b[0;36mcross_validate\u001b[0;34m(estimator, X, y, groups, scoring, cv, n_jobs, verbose, fit_params, pre_dispatch, return_train_score, return_estimator, error_score)\u001b[0m\n\u001b[1;32m    240\u001b[0m     parallel = Parallel(n_jobs=n_jobs, verbose=verbose,\n\u001b[1;32m    241\u001b[0m                         pre_dispatch=pre_dispatch)\n\u001b[0;32m--> 242\u001b[0;31m     scores = parallel(\n\u001b[0m\u001b[1;32m    243\u001b[0m         delayed(_fit_and_score)(\n\u001b[1;32m    244\u001b[0m             \u001b[0mclone\u001b[0m\u001b[0;34m(\u001b[0m\u001b[0mestimator\u001b[0m\u001b[0;34m)\u001b[0m\u001b[0;34m,\u001b[0m \u001b[0mX\u001b[0m\u001b[0;34m,\u001b[0m \u001b[0my\u001b[0m\u001b[0;34m,\u001b[0m \u001b[0mscorers\u001b[0m\u001b[0;34m,\u001b[0m \u001b[0mtrain\u001b[0m\u001b[0;34m,\u001b[0m \u001b[0mtest\u001b[0m\u001b[0;34m,\u001b[0m \u001b[0mverbose\u001b[0m\u001b[0;34m,\u001b[0m \u001b[0;32mNone\u001b[0m\u001b[0;34m,\u001b[0m\u001b[0;34m\u001b[0m\u001b[0;34m\u001b[0m\u001b[0m\n",
      "\u001b[0;32m~/.cache/pypoetry/virtualenvs/wine-mmboup--XfM-ov7-py3.8/lib/python3.8/site-packages/joblib/parallel.py\u001b[0m in \u001b[0;36m__call__\u001b[0;34m(self, iterable)\u001b[0m\n\u001b[1;32m   1046\u001b[0m             \u001b[0;31m# remaining jobs.\u001b[0m\u001b[0;34m\u001b[0m\u001b[0;34m\u001b[0m\u001b[0;34m\u001b[0m\u001b[0m\n\u001b[1;32m   1047\u001b[0m             \u001b[0mself\u001b[0m\u001b[0;34m.\u001b[0m\u001b[0m_iterating\u001b[0m \u001b[0;34m=\u001b[0m \u001b[0;32mFalse\u001b[0m\u001b[0;34m\u001b[0m\u001b[0;34m\u001b[0m\u001b[0m\n\u001b[0;32m-> 1048\u001b[0;31m             \u001b[0;32mif\u001b[0m \u001b[0mself\u001b[0m\u001b[0;34m.\u001b[0m\u001b[0mdispatch_one_batch\u001b[0m\u001b[0;34m(\u001b[0m\u001b[0miterator\u001b[0m\u001b[0;34m)\u001b[0m\u001b[0;34m:\u001b[0m\u001b[0;34m\u001b[0m\u001b[0;34m\u001b[0m\u001b[0m\n\u001b[0m\u001b[1;32m   1049\u001b[0m                 \u001b[0mself\u001b[0m\u001b[0;34m.\u001b[0m\u001b[0m_iterating\u001b[0m \u001b[0;34m=\u001b[0m \u001b[0mself\u001b[0m\u001b[0;34m.\u001b[0m\u001b[0m_original_iterator\u001b[0m \u001b[0;32mis\u001b[0m \u001b[0;32mnot\u001b[0m \u001b[0;32mNone\u001b[0m\u001b[0;34m\u001b[0m\u001b[0;34m\u001b[0m\u001b[0m\n\u001b[1;32m   1050\u001b[0m \u001b[0;34m\u001b[0m\u001b[0m\n",
      "\u001b[0;32m~/.cache/pypoetry/virtualenvs/wine-mmboup--XfM-ov7-py3.8/lib/python3.8/site-packages/joblib/parallel.py\u001b[0m in \u001b[0;36mdispatch_one_batch\u001b[0;34m(self, iterator)\u001b[0m\n\u001b[1;32m    864\u001b[0m                 \u001b[0;32mreturn\u001b[0m \u001b[0;32mFalse\u001b[0m\u001b[0;34m\u001b[0m\u001b[0;34m\u001b[0m\u001b[0m\n\u001b[1;32m    865\u001b[0m             \u001b[0;32melse\u001b[0m\u001b[0;34m:\u001b[0m\u001b[0;34m\u001b[0m\u001b[0;34m\u001b[0m\u001b[0m\n\u001b[0;32m--> 866\u001b[0;31m                 \u001b[0mself\u001b[0m\u001b[0;34m.\u001b[0m\u001b[0m_dispatch\u001b[0m\u001b[0;34m(\u001b[0m\u001b[0mtasks\u001b[0m\u001b[0;34m)\u001b[0m\u001b[0;34m\u001b[0m\u001b[0;34m\u001b[0m\u001b[0m\n\u001b[0m\u001b[1;32m    867\u001b[0m                 \u001b[0;32mreturn\u001b[0m \u001b[0;32mTrue\u001b[0m\u001b[0;34m\u001b[0m\u001b[0;34m\u001b[0m\u001b[0m\n\u001b[1;32m    868\u001b[0m \u001b[0;34m\u001b[0m\u001b[0m\n",
      "\u001b[0;32m~/.cache/pypoetry/virtualenvs/wine-mmboup--XfM-ov7-py3.8/lib/python3.8/site-packages/joblib/parallel.py\u001b[0m in \u001b[0;36m_dispatch\u001b[0;34m(self, batch)\u001b[0m\n\u001b[1;32m    782\u001b[0m         \u001b[0;32mwith\u001b[0m \u001b[0mself\u001b[0m\u001b[0;34m.\u001b[0m\u001b[0m_lock\u001b[0m\u001b[0;34m:\u001b[0m\u001b[0;34m\u001b[0m\u001b[0;34m\u001b[0m\u001b[0m\n\u001b[1;32m    783\u001b[0m             \u001b[0mjob_idx\u001b[0m \u001b[0;34m=\u001b[0m \u001b[0mlen\u001b[0m\u001b[0;34m(\u001b[0m\u001b[0mself\u001b[0m\u001b[0;34m.\u001b[0m\u001b[0m_jobs\u001b[0m\u001b[0;34m)\u001b[0m\u001b[0;34m\u001b[0m\u001b[0;34m\u001b[0m\u001b[0m\n\u001b[0;32m--> 784\u001b[0;31m             \u001b[0mjob\u001b[0m \u001b[0;34m=\u001b[0m \u001b[0mself\u001b[0m\u001b[0;34m.\u001b[0m\u001b[0m_backend\u001b[0m\u001b[0;34m.\u001b[0m\u001b[0mapply_async\u001b[0m\u001b[0;34m(\u001b[0m\u001b[0mbatch\u001b[0m\u001b[0;34m,\u001b[0m \u001b[0mcallback\u001b[0m\u001b[0;34m=\u001b[0m\u001b[0mcb\u001b[0m\u001b[0;34m)\u001b[0m\u001b[0;34m\u001b[0m\u001b[0;34m\u001b[0m\u001b[0m\n\u001b[0m\u001b[1;32m    785\u001b[0m             \u001b[0;31m# A job can complete so quickly than its callback is\u001b[0m\u001b[0;34m\u001b[0m\u001b[0;34m\u001b[0m\u001b[0;34m\u001b[0m\u001b[0m\n\u001b[1;32m    786\u001b[0m             \u001b[0;31m# called before we get here, causing self._jobs to\u001b[0m\u001b[0;34m\u001b[0m\u001b[0;34m\u001b[0m\u001b[0;34m\u001b[0m\u001b[0m\n",
      "\u001b[0;32m~/.cache/pypoetry/virtualenvs/wine-mmboup--XfM-ov7-py3.8/lib/python3.8/site-packages/joblib/_parallel_backends.py\u001b[0m in \u001b[0;36mapply_async\u001b[0;34m(self, func, callback)\u001b[0m\n\u001b[1;32m    206\u001b[0m     \u001b[0;32mdef\u001b[0m \u001b[0mapply_async\u001b[0m\u001b[0;34m(\u001b[0m\u001b[0mself\u001b[0m\u001b[0;34m,\u001b[0m \u001b[0mfunc\u001b[0m\u001b[0;34m,\u001b[0m \u001b[0mcallback\u001b[0m\u001b[0;34m=\u001b[0m\u001b[0;32mNone\u001b[0m\u001b[0;34m)\u001b[0m\u001b[0;34m:\u001b[0m\u001b[0;34m\u001b[0m\u001b[0;34m\u001b[0m\u001b[0m\n\u001b[1;32m    207\u001b[0m         \u001b[0;34m\"\"\"Schedule a func to be run\"\"\"\u001b[0m\u001b[0;34m\u001b[0m\u001b[0;34m\u001b[0m\u001b[0m\n\u001b[0;32m--> 208\u001b[0;31m         \u001b[0mresult\u001b[0m \u001b[0;34m=\u001b[0m \u001b[0mImmediateResult\u001b[0m\u001b[0;34m(\u001b[0m\u001b[0mfunc\u001b[0m\u001b[0;34m)\u001b[0m\u001b[0;34m\u001b[0m\u001b[0;34m\u001b[0m\u001b[0m\n\u001b[0m\u001b[1;32m    209\u001b[0m         \u001b[0;32mif\u001b[0m \u001b[0mcallback\u001b[0m\u001b[0;34m:\u001b[0m\u001b[0;34m\u001b[0m\u001b[0;34m\u001b[0m\u001b[0m\n\u001b[1;32m    210\u001b[0m             \u001b[0mcallback\u001b[0m\u001b[0;34m(\u001b[0m\u001b[0mresult\u001b[0m\u001b[0;34m)\u001b[0m\u001b[0;34m\u001b[0m\u001b[0;34m\u001b[0m\u001b[0m\n",
      "\u001b[0;32m~/.cache/pypoetry/virtualenvs/wine-mmboup--XfM-ov7-py3.8/lib/python3.8/site-packages/joblib/_parallel_backends.py\u001b[0m in \u001b[0;36m__init__\u001b[0;34m(self, batch)\u001b[0m\n\u001b[1;32m    570\u001b[0m         \u001b[0;31m# Don't delay the application, to avoid keeping the input\u001b[0m\u001b[0;34m\u001b[0m\u001b[0;34m\u001b[0m\u001b[0;34m\u001b[0m\u001b[0m\n\u001b[1;32m    571\u001b[0m         \u001b[0;31m# arguments in memory\u001b[0m\u001b[0;34m\u001b[0m\u001b[0;34m\u001b[0m\u001b[0;34m\u001b[0m\u001b[0m\n\u001b[0;32m--> 572\u001b[0;31m         \u001b[0mself\u001b[0m\u001b[0;34m.\u001b[0m\u001b[0mresults\u001b[0m \u001b[0;34m=\u001b[0m \u001b[0mbatch\u001b[0m\u001b[0;34m(\u001b[0m\u001b[0;34m)\u001b[0m\u001b[0;34m\u001b[0m\u001b[0;34m\u001b[0m\u001b[0m\n\u001b[0m\u001b[1;32m    573\u001b[0m \u001b[0;34m\u001b[0m\u001b[0m\n\u001b[1;32m    574\u001b[0m     \u001b[0;32mdef\u001b[0m \u001b[0mget\u001b[0m\u001b[0;34m(\u001b[0m\u001b[0mself\u001b[0m\u001b[0;34m)\u001b[0m\u001b[0;34m:\u001b[0m\u001b[0;34m\u001b[0m\u001b[0;34m\u001b[0m\u001b[0m\n",
      "\u001b[0;32m~/.cache/pypoetry/virtualenvs/wine-mmboup--XfM-ov7-py3.8/lib/python3.8/site-packages/joblib/parallel.py\u001b[0m in \u001b[0;36m__call__\u001b[0;34m(self)\u001b[0m\n\u001b[1;32m    260\u001b[0m         \u001b[0;31m# change the default number of processes to -1\u001b[0m\u001b[0;34m\u001b[0m\u001b[0;34m\u001b[0m\u001b[0;34m\u001b[0m\u001b[0m\n\u001b[1;32m    261\u001b[0m         \u001b[0;32mwith\u001b[0m \u001b[0mparallel_backend\u001b[0m\u001b[0;34m(\u001b[0m\u001b[0mself\u001b[0m\u001b[0;34m.\u001b[0m\u001b[0m_backend\u001b[0m\u001b[0;34m,\u001b[0m \u001b[0mn_jobs\u001b[0m\u001b[0;34m=\u001b[0m\u001b[0mself\u001b[0m\u001b[0;34m.\u001b[0m\u001b[0m_n_jobs\u001b[0m\u001b[0;34m)\u001b[0m\u001b[0;34m:\u001b[0m\u001b[0;34m\u001b[0m\u001b[0;34m\u001b[0m\u001b[0m\n\u001b[0;32m--> 262\u001b[0;31m             return [func(*args, **kwargs)\n\u001b[0m\u001b[1;32m    263\u001b[0m                     for func, args, kwargs in self.items]\n\u001b[1;32m    264\u001b[0m \u001b[0;34m\u001b[0m\u001b[0m\n",
      "\u001b[0;32m~/.cache/pypoetry/virtualenvs/wine-mmboup--XfM-ov7-py3.8/lib/python3.8/site-packages/joblib/parallel.py\u001b[0m in \u001b[0;36m<listcomp>\u001b[0;34m(.0)\u001b[0m\n\u001b[1;32m    260\u001b[0m         \u001b[0;31m# change the default number of processes to -1\u001b[0m\u001b[0;34m\u001b[0m\u001b[0;34m\u001b[0m\u001b[0;34m\u001b[0m\u001b[0m\n\u001b[1;32m    261\u001b[0m         \u001b[0;32mwith\u001b[0m \u001b[0mparallel_backend\u001b[0m\u001b[0;34m(\u001b[0m\u001b[0mself\u001b[0m\u001b[0;34m.\u001b[0m\u001b[0m_backend\u001b[0m\u001b[0;34m,\u001b[0m \u001b[0mn_jobs\u001b[0m\u001b[0;34m=\u001b[0m\u001b[0mself\u001b[0m\u001b[0;34m.\u001b[0m\u001b[0m_n_jobs\u001b[0m\u001b[0;34m)\u001b[0m\u001b[0;34m:\u001b[0m\u001b[0;34m\u001b[0m\u001b[0;34m\u001b[0m\u001b[0m\n\u001b[0;32m--> 262\u001b[0;31m             return [func(*args, **kwargs)\n\u001b[0m\u001b[1;32m    263\u001b[0m                     for func, args, kwargs in self.items]\n\u001b[1;32m    264\u001b[0m \u001b[0;34m\u001b[0m\u001b[0m\n",
      "\u001b[0;32m~/.cache/pypoetry/virtualenvs/wine-mmboup--XfM-ov7-py3.8/lib/python3.8/site-packages/sklearn/model_selection/_validation.py\u001b[0m in \u001b[0;36m_fit_and_score\u001b[0;34m(estimator, X, y, scorer, train, test, verbose, parameters, fit_params, return_train_score, return_parameters, return_n_test_samples, return_times, return_estimator, error_score)\u001b[0m\n\u001b[1;32m    558\u001b[0m     \u001b[0;32melse\u001b[0m\u001b[0;34m:\u001b[0m\u001b[0;34m\u001b[0m\u001b[0;34m\u001b[0m\u001b[0m\n\u001b[1;32m    559\u001b[0m         \u001b[0mfit_time\u001b[0m \u001b[0;34m=\u001b[0m \u001b[0mtime\u001b[0m\u001b[0;34m.\u001b[0m\u001b[0mtime\u001b[0m\u001b[0;34m(\u001b[0m\u001b[0;34m)\u001b[0m \u001b[0;34m-\u001b[0m \u001b[0mstart_time\u001b[0m\u001b[0;34m\u001b[0m\u001b[0;34m\u001b[0m\u001b[0m\n\u001b[0;32m--> 560\u001b[0;31m         \u001b[0mtest_scores\u001b[0m \u001b[0;34m=\u001b[0m \u001b[0m_score\u001b[0m\u001b[0;34m(\u001b[0m\u001b[0mestimator\u001b[0m\u001b[0;34m,\u001b[0m \u001b[0mX_test\u001b[0m\u001b[0;34m,\u001b[0m \u001b[0my_test\u001b[0m\u001b[0;34m,\u001b[0m \u001b[0mscorer\u001b[0m\u001b[0;34m)\u001b[0m\u001b[0;34m\u001b[0m\u001b[0;34m\u001b[0m\u001b[0m\n\u001b[0m\u001b[1;32m    561\u001b[0m         \u001b[0mscore_time\u001b[0m \u001b[0;34m=\u001b[0m \u001b[0mtime\u001b[0m\u001b[0;34m.\u001b[0m\u001b[0mtime\u001b[0m\u001b[0;34m(\u001b[0m\u001b[0;34m)\u001b[0m \u001b[0;34m-\u001b[0m \u001b[0mstart_time\u001b[0m \u001b[0;34m-\u001b[0m \u001b[0mfit_time\u001b[0m\u001b[0;34m\u001b[0m\u001b[0;34m\u001b[0m\u001b[0m\n\u001b[1;32m    562\u001b[0m         \u001b[0;32mif\u001b[0m \u001b[0mreturn_train_score\u001b[0m\u001b[0;34m:\u001b[0m\u001b[0;34m\u001b[0m\u001b[0;34m\u001b[0m\u001b[0m\n",
      "\u001b[0;32m~/.cache/pypoetry/virtualenvs/wine-mmboup--XfM-ov7-py3.8/lib/python3.8/site-packages/sklearn/model_selection/_validation.py\u001b[0m in \u001b[0;36m_score\u001b[0;34m(estimator, X_test, y_test, scorer)\u001b[0m\n\u001b[1;32m    605\u001b[0m         \u001b[0mscores\u001b[0m \u001b[0;34m=\u001b[0m \u001b[0mscorer\u001b[0m\u001b[0;34m(\u001b[0m\u001b[0mestimator\u001b[0m\u001b[0;34m,\u001b[0m \u001b[0mX_test\u001b[0m\u001b[0;34m)\u001b[0m\u001b[0;34m\u001b[0m\u001b[0;34m\u001b[0m\u001b[0m\n\u001b[1;32m    606\u001b[0m     \u001b[0;32melse\u001b[0m\u001b[0;34m:\u001b[0m\u001b[0;34m\u001b[0m\u001b[0;34m\u001b[0m\u001b[0m\n\u001b[0;32m--> 607\u001b[0;31m         \u001b[0mscores\u001b[0m \u001b[0;34m=\u001b[0m \u001b[0mscorer\u001b[0m\u001b[0;34m(\u001b[0m\u001b[0mestimator\u001b[0m\u001b[0;34m,\u001b[0m \u001b[0mX_test\u001b[0m\u001b[0;34m,\u001b[0m \u001b[0my_test\u001b[0m\u001b[0;34m)\u001b[0m\u001b[0;34m\u001b[0m\u001b[0;34m\u001b[0m\u001b[0m\n\u001b[0m\u001b[1;32m    608\u001b[0m \u001b[0;34m\u001b[0m\u001b[0m\n\u001b[1;32m    609\u001b[0m     error_msg = (\"scoring must return a number, got %s (%s) \"\n",
      "\u001b[0;32m~/.cache/pypoetry/virtualenvs/wine-mmboup--XfM-ov7-py3.8/lib/python3.8/site-packages/sklearn/metrics/_scorer.py\u001b[0m in \u001b[0;36m__call__\u001b[0;34m(self, estimator, *args, **kwargs)\u001b[0m\n\u001b[1;32m     85\u001b[0m         \u001b[0;32mfor\u001b[0m \u001b[0mname\u001b[0m\u001b[0;34m,\u001b[0m \u001b[0mscorer\u001b[0m \u001b[0;32min\u001b[0m \u001b[0mself\u001b[0m\u001b[0;34m.\u001b[0m\u001b[0m_scorers\u001b[0m\u001b[0;34m.\u001b[0m\u001b[0mitems\u001b[0m\u001b[0;34m(\u001b[0m\u001b[0;34m)\u001b[0m\u001b[0;34m:\u001b[0m\u001b[0;34m\u001b[0m\u001b[0;34m\u001b[0m\u001b[0m\n\u001b[1;32m     86\u001b[0m             \u001b[0;32mif\u001b[0m \u001b[0misinstance\u001b[0m\u001b[0;34m(\u001b[0m\u001b[0mscorer\u001b[0m\u001b[0;34m,\u001b[0m \u001b[0m_BaseScorer\u001b[0m\u001b[0;34m)\u001b[0m\u001b[0;34m:\u001b[0m\u001b[0;34m\u001b[0m\u001b[0;34m\u001b[0m\u001b[0m\n\u001b[0;32m---> 87\u001b[0;31m                 score = scorer._score(cached_call, estimator,\n\u001b[0m\u001b[1;32m     88\u001b[0m                                       *args, **kwargs)\n\u001b[1;32m     89\u001b[0m             \u001b[0;32melse\u001b[0m\u001b[0;34m:\u001b[0m\u001b[0;34m\u001b[0m\u001b[0;34m\u001b[0m\u001b[0m\n",
      "\u001b[0;32m~/.cache/pypoetry/virtualenvs/wine-mmboup--XfM-ov7-py3.8/lib/python3.8/site-packages/sklearn/metrics/_scorer.py\u001b[0m in \u001b[0;36m_score\u001b[0;34m(self, method_caller, estimator, X, y_true, sample_weight)\u001b[0m\n\u001b[1;32m    210\u001b[0m                                                  **self._kwargs)\n\u001b[1;32m    211\u001b[0m         \u001b[0;32melse\u001b[0m\u001b[0;34m:\u001b[0m\u001b[0;34m\u001b[0m\u001b[0;34m\u001b[0m\u001b[0m\n\u001b[0;32m--> 212\u001b[0;31m             return self._sign * self._score_func(y_true, y_pred,\n\u001b[0m\u001b[1;32m    213\u001b[0m                                                  **self._kwargs)\n\u001b[1;32m    214\u001b[0m \u001b[0;34m\u001b[0m\u001b[0m\n",
      "\u001b[0;32m~/.cache/pypoetry/virtualenvs/wine-mmboup--XfM-ov7-py3.8/lib/python3.8/site-packages/sklearn/utils/validation.py\u001b[0m in \u001b[0;36minner_f\u001b[0;34m(*args, **kwargs)\u001b[0m\n\u001b[1;32m     70\u001b[0m                           FutureWarning)\n\u001b[1;32m     71\u001b[0m         \u001b[0mkwargs\u001b[0m\u001b[0;34m.\u001b[0m\u001b[0mupdate\u001b[0m\u001b[0;34m(\u001b[0m\u001b[0;34m{\u001b[0m\u001b[0mk\u001b[0m\u001b[0;34m:\u001b[0m \u001b[0marg\u001b[0m \u001b[0;32mfor\u001b[0m \u001b[0mk\u001b[0m\u001b[0;34m,\u001b[0m \u001b[0marg\u001b[0m \u001b[0;32min\u001b[0m \u001b[0mzip\u001b[0m\u001b[0;34m(\u001b[0m\u001b[0msig\u001b[0m\u001b[0;34m.\u001b[0m\u001b[0mparameters\u001b[0m\u001b[0;34m,\u001b[0m \u001b[0margs\u001b[0m\u001b[0;34m)\u001b[0m\u001b[0;34m}\u001b[0m\u001b[0;34m)\u001b[0m\u001b[0;34m\u001b[0m\u001b[0;34m\u001b[0m\u001b[0m\n\u001b[0;32m---> 72\u001b[0;31m         \u001b[0;32mreturn\u001b[0m \u001b[0mf\u001b[0m\u001b[0;34m(\u001b[0m\u001b[0;34m**\u001b[0m\u001b[0mkwargs\u001b[0m\u001b[0;34m)\u001b[0m\u001b[0;34m\u001b[0m\u001b[0;34m\u001b[0m\u001b[0m\n\u001b[0m\u001b[1;32m     73\u001b[0m     \u001b[0;32mreturn\u001b[0m \u001b[0minner_f\u001b[0m\u001b[0;34m\u001b[0m\u001b[0;34m\u001b[0m\u001b[0m\n\u001b[1;32m     74\u001b[0m \u001b[0;34m\u001b[0m\u001b[0m\n",
      "\u001b[0;31mTypeError\u001b[0m: accuracy_score() got an unexpected keyword argument 'pos_label'"
     ]
    }
   ],
   "source": [
    "from sklearn.metrics import make_scorer\n",
    "from sklearn.svm import SVC\n",
    "from sklearn.utils import shuffle\n",
    "from sklearn.naive_bayes import GaussianNB\n",
    "from sklearn.tree import DecisionTreeClassifier\n",
    "from sklearn.model_selection import cross_validate\n",
    "from sklearn.neighbors import KNeighborsClassifier\n",
    "from sklearn.compose import make_column_transformer\n",
    "from sklearn.model_selection import train_test_split\n",
    "from sklearn.model_selection import StratifiedKFold\n",
    "from sklearn.preprocessing import MinMaxScaler, RobustScaler\n",
    "from sklearn.preprocessing import OrdinalEncoder, OneHotEncoder\n",
    "from sklearn.linear_model import LogisticRegression, SGDClassifier\n",
    "from sklearn.model_selection import GridSearchCV, RandomizedSearchCV, RepeatedStratifiedKFold\n",
    "from sklearn.ensemble import RandomForestClassifier, GradientBoostingClassifier, AdaBoostClassifier\n",
    "from sklearn.metrics import f1_score, recall_score, precision_score, confusion_matrix, classification_report\n",
    "\n",
    "scorers = {\n",
    "            'f1_score': make_scorer(f1_score, average='micro'),\n",
    "            'precision_score': make_scorer(precision_score, average='micro'),\n",
    "            'recall_score': make_scorer(recall_score, average='micro'),\n",
    "            'accuracy_score': make_scorer(accuracy_score)\n",
    "          }\n",
    "\n",
    "models_scores_table = pd.DataFrame(index=['Accuracy', 'Precision', 'Recall', 'F1 Score'])\n",
    "for model in [\n",
    "    DummyClassifier,\n",
    "    GaussianNB,\n",
    "    LogisticRegression,\n",
    "    DecisionTreeClassifier,\n",
    "    KNeighborsClassifier,\n",
    "    RandomForestClassifier,\n",
    "    XGBClassifier\n",
    "]:\n",
    "    cls = model()\n",
    "    kfold = model_selection.KFold(n_splits=2, random_state=1, shuffle=True)\n",
    "    cvs = model_selection.cross_validate(\n",
    "        cls, X_train, y_train, scoring=scoring, cv=kfold\n",
    "    )\n",
    "    models_scores_table[model.__name__]=[cvs['test_accuracy'].mean(),\n",
    "                                       cvs['test_precision'].mean(),\n",
    "                                       cvs['test_recall'].mean(),\n",
    "                                       cvs['test_f1_score'].mean()]"
   ]
  },
  {
   "cell_type": "code",
   "execution_count": 180,
   "metadata": {
    "id": "f6aca3fd-9ddf-4a58-b2d1-015c024d5c83"
   },
   "outputs": [
    {
     "ename": "ValueError",
     "evalue": "Target is multiclass but average='binary'. Please choose another average setting, one of [None, 'micro', 'macro', 'weighted'].",
     "output_type": "error",
     "traceback": [
      "\u001b[0;31m---------------------------------------------------------------------------\u001b[0m",
      "\u001b[0;31mValueError\u001b[0m                                Traceback (most recent call last)",
      "\u001b[0;32m<ipython-input-180-79bb2496290f>\u001b[0m in \u001b[0;36m<module>\u001b[0;34m\u001b[0m\n\u001b[1;32m      1\u001b[0m \u001b[0;31m# Entrainement simple d'une liste de modeles\u001b[0m\u001b[0;34m\u001b[0m\u001b[0;34m\u001b[0m\u001b[0;34m\u001b[0m\u001b[0m\n\u001b[1;32m      2\u001b[0m \u001b[0mliste_model\u001b[0m \u001b[0;34m=\u001b[0m \u001b[0;34m[\u001b[0m\u001b[0mDecisionTreeClassifier\u001b[0m\u001b[0;34m]\u001b[0m\u001b[0;34m\u001b[0m\u001b[0;34m\u001b[0m\u001b[0m\n\u001b[0;32m----> 3\u001b[0;31m \u001b[0mresultat\u001b[0m \u001b[0;34m=\u001b[0m \u001b[0mmodelisation\u001b[0m\u001b[0;34m(\u001b[0m\u001b[0mliste_model\u001b[0m\u001b[0;34m,\u001b[0m\u001b[0mX_train_scaled\u001b[0m\u001b[0;34m,\u001b[0m \u001b[0my_train\u001b[0m\u001b[0;34m,\u001b[0m \u001b[0mX_test_scaled\u001b[0m\u001b[0;34m,\u001b[0m \u001b[0my_test\u001b[0m\u001b[0;34m)\u001b[0m\u001b[0;34m\u001b[0m\u001b[0;34m\u001b[0m\u001b[0m\n\u001b[0m",
      "\u001b[0;32m<ipython-input-179-9682b0bd0e31>\u001b[0m in \u001b[0;36mmodelisation\u001b[0;34m(Models, X_scaled_train, Y_train, X_scaled_test, Y_test)\u001b[0m\n\u001b[1;32m     17\u001b[0m                     \"F1_score_test\": f1_score(Y_test,y_pred_test,pos_label='positive',\n\u001b[1;32m     18\u001b[0m                                            average='micro'), \n\u001b[0;32m---> 19\u001b[0;31m                     \u001b[0;34m\"Recall_test\"\u001b[0m\u001b[0;34m:\u001b[0m \u001b[0mrecall_score\u001b[0m\u001b[0;34m(\u001b[0m\u001b[0mY_test\u001b[0m\u001b[0;34m,\u001b[0m\u001b[0my_pred_test\u001b[0m\u001b[0;34m)\u001b[0m\u001b[0;34m,\u001b[0m\u001b[0;34m\u001b[0m\u001b[0;34m\u001b[0m\u001b[0m\n\u001b[0m\u001b[1;32m     20\u001b[0m                     \"Precision_test\": precision_score(Y_test,y_pred_test,\n\u001b[1;32m     21\u001b[0m                                            average='micro')\n",
      "\u001b[0;32m~/.cache/pypoetry/virtualenvs/wine-mmboup--XfM-ov7-py3.8/lib/python3.8/site-packages/sklearn/utils/validation.py\u001b[0m in \u001b[0;36minner_f\u001b[0;34m(*args, **kwargs)\u001b[0m\n\u001b[1;32m     70\u001b[0m                           FutureWarning)\n\u001b[1;32m     71\u001b[0m         \u001b[0mkwargs\u001b[0m\u001b[0;34m.\u001b[0m\u001b[0mupdate\u001b[0m\u001b[0;34m(\u001b[0m\u001b[0;34m{\u001b[0m\u001b[0mk\u001b[0m\u001b[0;34m:\u001b[0m \u001b[0marg\u001b[0m \u001b[0;32mfor\u001b[0m \u001b[0mk\u001b[0m\u001b[0;34m,\u001b[0m \u001b[0marg\u001b[0m \u001b[0;32min\u001b[0m \u001b[0mzip\u001b[0m\u001b[0;34m(\u001b[0m\u001b[0msig\u001b[0m\u001b[0;34m.\u001b[0m\u001b[0mparameters\u001b[0m\u001b[0;34m,\u001b[0m \u001b[0margs\u001b[0m\u001b[0;34m)\u001b[0m\u001b[0;34m}\u001b[0m\u001b[0;34m)\u001b[0m\u001b[0;34m\u001b[0m\u001b[0;34m\u001b[0m\u001b[0m\n\u001b[0;32m---> 72\u001b[0;31m         \u001b[0;32mreturn\u001b[0m \u001b[0mf\u001b[0m\u001b[0;34m(\u001b[0m\u001b[0;34m**\u001b[0m\u001b[0mkwargs\u001b[0m\u001b[0;34m)\u001b[0m\u001b[0;34m\u001b[0m\u001b[0;34m\u001b[0m\u001b[0m\n\u001b[0m\u001b[1;32m     73\u001b[0m     \u001b[0;32mreturn\u001b[0m \u001b[0minner_f\u001b[0m\u001b[0;34m\u001b[0m\u001b[0;34m\u001b[0m\u001b[0m\n\u001b[1;32m     74\u001b[0m \u001b[0;34m\u001b[0m\u001b[0m\n",
      "\u001b[0;32m~/.cache/pypoetry/virtualenvs/wine-mmboup--XfM-ov7-py3.8/lib/python3.8/site-packages/sklearn/metrics/_classification.py\u001b[0m in \u001b[0;36mrecall_score\u001b[0;34m(y_true, y_pred, labels, pos_label, average, sample_weight, zero_division)\u001b[0m\n\u001b[1;32m   1733\u001b[0m     \u001b[0;31m`\u001b[0m\u001b[0;31m`\u001b[0m\u001b[0mzero_division\u001b[0m\u001b[0;31m`\u001b[0m\u001b[0;31m`\u001b[0m\u001b[0;34m.\u001b[0m\u001b[0;34m\u001b[0m\u001b[0;34m\u001b[0m\u001b[0m\n\u001b[1;32m   1734\u001b[0m     \"\"\"\n\u001b[0;32m-> 1735\u001b[0;31m     _, r, _, _ = precision_recall_fscore_support(y_true, y_pred,\n\u001b[0m\u001b[1;32m   1736\u001b[0m                                                  \u001b[0mlabels\u001b[0m\u001b[0;34m=\u001b[0m\u001b[0mlabels\u001b[0m\u001b[0;34m,\u001b[0m\u001b[0;34m\u001b[0m\u001b[0;34m\u001b[0m\u001b[0m\n\u001b[1;32m   1737\u001b[0m                                                  \u001b[0mpos_label\u001b[0m\u001b[0;34m=\u001b[0m\u001b[0mpos_label\u001b[0m\u001b[0;34m,\u001b[0m\u001b[0;34m\u001b[0m\u001b[0;34m\u001b[0m\u001b[0m\n",
      "\u001b[0;32m~/.cache/pypoetry/virtualenvs/wine-mmboup--XfM-ov7-py3.8/lib/python3.8/site-packages/sklearn/utils/validation.py\u001b[0m in \u001b[0;36minner_f\u001b[0;34m(*args, **kwargs)\u001b[0m\n\u001b[1;32m     70\u001b[0m                           FutureWarning)\n\u001b[1;32m     71\u001b[0m         \u001b[0mkwargs\u001b[0m\u001b[0;34m.\u001b[0m\u001b[0mupdate\u001b[0m\u001b[0;34m(\u001b[0m\u001b[0;34m{\u001b[0m\u001b[0mk\u001b[0m\u001b[0;34m:\u001b[0m \u001b[0marg\u001b[0m \u001b[0;32mfor\u001b[0m \u001b[0mk\u001b[0m\u001b[0;34m,\u001b[0m \u001b[0marg\u001b[0m \u001b[0;32min\u001b[0m \u001b[0mzip\u001b[0m\u001b[0;34m(\u001b[0m\u001b[0msig\u001b[0m\u001b[0;34m.\u001b[0m\u001b[0mparameters\u001b[0m\u001b[0;34m,\u001b[0m \u001b[0margs\u001b[0m\u001b[0;34m)\u001b[0m\u001b[0;34m}\u001b[0m\u001b[0;34m)\u001b[0m\u001b[0;34m\u001b[0m\u001b[0;34m\u001b[0m\u001b[0m\n\u001b[0;32m---> 72\u001b[0;31m         \u001b[0;32mreturn\u001b[0m \u001b[0mf\u001b[0m\u001b[0;34m(\u001b[0m\u001b[0;34m**\u001b[0m\u001b[0mkwargs\u001b[0m\u001b[0;34m)\u001b[0m\u001b[0;34m\u001b[0m\u001b[0;34m\u001b[0m\u001b[0m\n\u001b[0m\u001b[1;32m     73\u001b[0m     \u001b[0;32mreturn\u001b[0m \u001b[0minner_f\u001b[0m\u001b[0;34m\u001b[0m\u001b[0;34m\u001b[0m\u001b[0m\n\u001b[1;32m     74\u001b[0m \u001b[0;34m\u001b[0m\u001b[0m\n",
      "\u001b[0;32m~/.cache/pypoetry/virtualenvs/wine-mmboup--XfM-ov7-py3.8/lib/python3.8/site-packages/sklearn/metrics/_classification.py\u001b[0m in \u001b[0;36mprecision_recall_fscore_support\u001b[0;34m(y_true, y_pred, beta, labels, pos_label, average, warn_for, sample_weight, zero_division)\u001b[0m\n\u001b[1;32m   1431\u001b[0m     \u001b[0;32mif\u001b[0m \u001b[0mbeta\u001b[0m \u001b[0;34m<\u001b[0m \u001b[0;36m0\u001b[0m\u001b[0;34m:\u001b[0m\u001b[0;34m\u001b[0m\u001b[0;34m\u001b[0m\u001b[0m\n\u001b[1;32m   1432\u001b[0m         \u001b[0;32mraise\u001b[0m \u001b[0mValueError\u001b[0m\u001b[0;34m(\u001b[0m\u001b[0;34m\"beta should be >=0 in the F-beta score\"\u001b[0m\u001b[0;34m)\u001b[0m\u001b[0;34m\u001b[0m\u001b[0;34m\u001b[0m\u001b[0m\n\u001b[0;32m-> 1433\u001b[0;31m     labels = _check_set_wise_labels(y_true, y_pred, average, labels,\n\u001b[0m\u001b[1;32m   1434\u001b[0m                                     pos_label)\n\u001b[1;32m   1435\u001b[0m \u001b[0;34m\u001b[0m\u001b[0m\n",
      "\u001b[0;32m~/.cache/pypoetry/virtualenvs/wine-mmboup--XfM-ov7-py3.8/lib/python3.8/site-packages/sklearn/metrics/_classification.py\u001b[0m in \u001b[0;36m_check_set_wise_labels\u001b[0;34m(y_true, y_pred, average, labels, pos_label)\u001b[0m\n\u001b[1;32m   1261\u001b[0m             \u001b[0;32mif\u001b[0m \u001b[0my_type\u001b[0m \u001b[0;34m==\u001b[0m \u001b[0;34m'multiclass'\u001b[0m\u001b[0;34m:\u001b[0m\u001b[0;34m\u001b[0m\u001b[0;34m\u001b[0m\u001b[0m\n\u001b[1;32m   1262\u001b[0m                 \u001b[0maverage_options\u001b[0m\u001b[0;34m.\u001b[0m\u001b[0mremove\u001b[0m\u001b[0;34m(\u001b[0m\u001b[0;34m'samples'\u001b[0m\u001b[0;34m)\u001b[0m\u001b[0;34m\u001b[0m\u001b[0;34m\u001b[0m\u001b[0m\n\u001b[0;32m-> 1263\u001b[0;31m             raise ValueError(\"Target is %s but average='binary'. Please \"\n\u001b[0m\u001b[1;32m   1264\u001b[0m                              \u001b[0;34m\"choose another average setting, one of %r.\"\u001b[0m\u001b[0;34m\u001b[0m\u001b[0;34m\u001b[0m\u001b[0m\n\u001b[1;32m   1265\u001b[0m                              % (y_type, average_options))\n",
      "\u001b[0;31mValueError\u001b[0m: Target is multiclass but average='binary'. Please choose another average setting, one of [None, 'micro', 'macro', 'weighted']."
     ]
    }
   ],
   "source": [
    "# Entrainement simple d'une liste de modeles\n",
    "liste_model = [DecisionTreeClassifier]\n",
    "resultat = modelisation(liste_model,X_train_scaled, y_train, X_test_scaled, y_test)"
   ]
  },
  {
   "cell_type": "code",
   "execution_count": null,
   "metadata": {
    "colab": {
     "base_uri": "https://localhost:8080/"
    },
    "id": "0c2e9233-4fd8-4ed6-a4f4-2f1a6e793f53",
    "outputId": "008bd8a3-20fe-4d6c-d336-bbebece8663a"
   },
   "outputs": [
    {
     "data": {
      "text/html": [
       "\n",
       "  <div id=\"df-e99e1aa4-2e8c-4b5b-9867-ff0cf09a635a\">\n",
       "    <div class=\"colab-df-container\">\n",
       "      <div>\n",
       "<style scoped>\n",
       "    .dataframe tbody tr th:only-of-type {\n",
       "        vertical-align: middle;\n",
       "    }\n",
       "\n",
       "    .dataframe tbody tr th {\n",
       "        vertical-align: top;\n",
       "    }\n",
       "\n",
       "    .dataframe thead th {\n",
       "        text-align: right;\n",
       "    }\n",
       "</style>\n",
       "<table border=\"1\" class=\"dataframe\">\n",
       "  <thead>\n",
       "    <tr style=\"text-align: right;\">\n",
       "      <th></th>\n",
       "      <th>temps_apprentissage</th>\n",
       "      <th>F1_score_train</th>\n",
       "      <th>Recall_train</th>\n",
       "      <th>Precision_train</th>\n",
       "      <th>F1_score_test</th>\n",
       "      <th>Recall_test</th>\n",
       "      <th>Precision_test</th>\n",
       "    </tr>\n",
       "    <tr>\n",
       "      <th>Modele</th>\n",
       "      <th></th>\n",
       "      <th></th>\n",
       "      <th></th>\n",
       "      <th></th>\n",
       "      <th></th>\n",
       "      <th></th>\n",
       "      <th></th>\n",
       "    </tr>\n",
       "  </thead>\n",
       "  <tbody>\n",
       "    <tr>\n",
       "      <th>RandomForestClassifier</th>\n",
       "      <td>0 H : 0 Min : 0 Sec</td>\n",
       "      <td>1.000000</td>\n",
       "      <td>1.000000</td>\n",
       "      <td>1.000000</td>\n",
       "      <td>0.280702</td>\n",
       "      <td>0.170213</td>\n",
       "      <td>0.800000</td>\n",
       "    </tr>\n",
       "    <tr>\n",
       "      <th>GradientBoostingClassifier</th>\n",
       "      <td>0 H : 0 Min : 0 Sec</td>\n",
       "      <td>0.657627</td>\n",
       "      <td>0.510526</td>\n",
       "      <td>0.923810</td>\n",
       "      <td>0.406250</td>\n",
       "      <td>0.276596</td>\n",
       "      <td>0.764706</td>\n",
       "    </tr>\n",
       "    <tr>\n",
       "      <th>AdaBoostClassifier</th>\n",
       "      <td>0 H : 0 Min : 0 Sec</td>\n",
       "      <td>0.529617</td>\n",
       "      <td>0.400000</td>\n",
       "      <td>0.783505</td>\n",
       "      <td>0.406250</td>\n",
       "      <td>0.276596</td>\n",
       "      <td>0.764706</td>\n",
       "    </tr>\n",
       "    <tr>\n",
       "      <th>SGDClassifier</th>\n",
       "      <td>0 H : 0 Min : 0 Sec</td>\n",
       "      <td>0.288136</td>\n",
       "      <td>0.178947</td>\n",
       "      <td>0.739130</td>\n",
       "      <td>0.300000</td>\n",
       "      <td>0.191489</td>\n",
       "      <td>0.692308</td>\n",
       "    </tr>\n",
       "    <tr>\n",
       "      <th>KNeighborsClassifier</th>\n",
       "      <td>0 H : 0 Min : 0 Sec</td>\n",
       "      <td>0.421875</td>\n",
       "      <td>0.284211</td>\n",
       "      <td>0.818182</td>\n",
       "      <td>0.300000</td>\n",
       "      <td>0.191489</td>\n",
       "      <td>0.692308</td>\n",
       "    </tr>\n",
       "    <tr>\n",
       "      <th>LogisticRegression</th>\n",
       "      <td>0 H : 0 Min : 0 Sec</td>\n",
       "      <td>0.430189</td>\n",
       "      <td>0.300000</td>\n",
       "      <td>0.760000</td>\n",
       "      <td>0.387097</td>\n",
       "      <td>0.255319</td>\n",
       "      <td>0.800000</td>\n",
       "    </tr>\n",
       "    <tr>\n",
       "      <th>GaussianNB</th>\n",
       "      <td>0 H : 0 Min : 0 Sec</td>\n",
       "      <td>0.433628</td>\n",
       "      <td>0.773684</td>\n",
       "      <td>0.301230</td>\n",
       "      <td>0.355828</td>\n",
       "      <td>0.617021</td>\n",
       "      <td>0.250000</td>\n",
       "    </tr>\n",
       "    <tr>\n",
       "      <th>SVC</th>\n",
       "      <td>0 H : 0 Min : 0 Sec</td>\n",
       "      <td>0.343348</td>\n",
       "      <td>0.210526</td>\n",
       "      <td>0.930233</td>\n",
       "      <td>0.150943</td>\n",
       "      <td>0.085106</td>\n",
       "      <td>0.666667</td>\n",
       "    </tr>\n",
       "  </tbody>\n",
       "</table>\n",
       "</div>\n",
       "      <button class=\"colab-df-convert\" onclick=\"convertToInteractive('df-e99e1aa4-2e8c-4b5b-9867-ff0cf09a635a')\"\n",
       "              title=\"Convert this dataframe to an interactive table.\"\n",
       "              style=\"display:none;\">\n",
       "        \n",
       "  <svg xmlns=\"http://www.w3.org/2000/svg\" height=\"24px\"viewBox=\"0 0 24 24\"\n",
       "       width=\"24px\">\n",
       "    <path d=\"M0 0h24v24H0V0z\" fill=\"none\"/>\n",
       "    <path d=\"M18.56 5.44l.94 2.06.94-2.06 2.06-.94-2.06-.94-.94-2.06-.94 2.06-2.06.94zm-11 1L8.5 8.5l.94-2.06 2.06-.94-2.06-.94L8.5 2.5l-.94 2.06-2.06.94zm10 10l.94 2.06.94-2.06 2.06-.94-2.06-.94-.94-2.06-.94 2.06-2.06.94z\"/><path d=\"M17.41 7.96l-1.37-1.37c-.4-.4-.92-.59-1.43-.59-.52 0-1.04.2-1.43.59L10.3 9.45l-7.72 7.72c-.78.78-.78 2.05 0 2.83L4 21.41c.39.39.9.59 1.41.59.51 0 1.02-.2 1.41-.59l7.78-7.78 2.81-2.81c.8-.78.8-2.07 0-2.86zM5.41 20L4 18.59l7.72-7.72 1.47 1.35L5.41 20z\"/>\n",
       "  </svg>\n",
       "      </button>\n",
       "      \n",
       "  <style>\n",
       "    .colab-df-container {\n",
       "      display:flex;\n",
       "      flex-wrap:wrap;\n",
       "      gap: 12px;\n",
       "    }\n",
       "\n",
       "    .colab-df-convert {\n",
       "      background-color: #E8F0FE;\n",
       "      border: none;\n",
       "      border-radius: 50%;\n",
       "      cursor: pointer;\n",
       "      display: none;\n",
       "      fill: #1967D2;\n",
       "      height: 32px;\n",
       "      padding: 0 0 0 0;\n",
       "      width: 32px;\n",
       "    }\n",
       "\n",
       "    .colab-df-convert:hover {\n",
       "      background-color: #E2EBFA;\n",
       "      box-shadow: 0px 1px 2px rgba(60, 64, 67, 0.3), 0px 1px 3px 1px rgba(60, 64, 67, 0.15);\n",
       "      fill: #174EA6;\n",
       "    }\n",
       "\n",
       "    [theme=dark] .colab-df-convert {\n",
       "      background-color: #3B4455;\n",
       "      fill: #D2E3FC;\n",
       "    }\n",
       "\n",
       "    [theme=dark] .colab-df-convert:hover {\n",
       "      background-color: #434B5C;\n",
       "      box-shadow: 0px 1px 3px 1px rgba(0, 0, 0, 0.15);\n",
       "      filter: drop-shadow(0px 1px 2px rgba(0, 0, 0, 0.3));\n",
       "      fill: #FFFFFF;\n",
       "    }\n",
       "  </style>\n",
       "\n",
       "      <script>\n",
       "        const buttonEl =\n",
       "          document.querySelector('#df-e99e1aa4-2e8c-4b5b-9867-ff0cf09a635a button.colab-df-convert');\n",
       "        buttonEl.style.display =\n",
       "          google.colab.kernel.accessAllowed ? 'block' : 'none';\n",
       "\n",
       "        async function convertToInteractive(key) {\n",
       "          const element = document.querySelector('#df-e99e1aa4-2e8c-4b5b-9867-ff0cf09a635a');\n",
       "          const dataTable =\n",
       "            await google.colab.kernel.invokeFunction('convertToInteractive',\n",
       "                                                     [key], {});\n",
       "          if (!dataTable) return;\n",
       "\n",
       "          const docLinkHtml = 'Like what you see? Visit the ' +\n",
       "            '<a target=\"_blank\" href=https://colab.research.google.com/notebooks/data_table.ipynb>data table notebook</a>'\n",
       "            + ' to learn more about interactive tables.';\n",
       "          element.innerHTML = '';\n",
       "          dataTable['output_type'] = 'display_data';\n",
       "          await google.colab.output.renderOutput(dataTable, element);\n",
       "          const docLink = document.createElement('div');\n",
       "          docLink.innerHTML = docLinkHtml;\n",
       "          element.appendChild(docLink);\n",
       "        }\n",
       "      </script>\n",
       "    </div>\n",
       "  </div>\n",
       "  "
      ],
      "text/plain": [
       "                            temps_apprentissage  F1_score_train  Recall_train  \\\n",
       "Modele                                                                          \n",
       "RandomForestClassifier      0 H : 0 Min : 0 Sec        1.000000      1.000000   \n",
       "GradientBoostingClassifier  0 H : 0 Min : 0 Sec        0.657627      0.510526   \n",
       "AdaBoostClassifier          0 H : 0 Min : 0 Sec        0.529617      0.400000   \n",
       "SGDClassifier               0 H : 0 Min : 0 Sec        0.288136      0.178947   \n",
       "KNeighborsClassifier        0 H : 0 Min : 0 Sec        0.421875      0.284211   \n",
       "LogisticRegression          0 H : 0 Min : 0 Sec        0.430189      0.300000   \n",
       "GaussianNB                  0 H : 0 Min : 0 Sec        0.433628      0.773684   \n",
       "SVC                         0 H : 0 Min : 0 Sec        0.343348      0.210526   \n",
       "\n",
       "                            Precision_train  F1_score_test  Recall_test  \\\n",
       "Modele                                                                    \n",
       "RandomForestClassifier             1.000000       0.280702     0.170213   \n",
       "GradientBoostingClassifier         0.923810       0.406250     0.276596   \n",
       "AdaBoostClassifier                 0.783505       0.406250     0.276596   \n",
       "SGDClassifier                      0.739130       0.300000     0.191489   \n",
       "KNeighborsClassifier               0.818182       0.300000     0.191489   \n",
       "LogisticRegression                 0.760000       0.387097     0.255319   \n",
       "GaussianNB                         0.301230       0.355828     0.617021   \n",
       "SVC                                0.930233       0.150943     0.085106   \n",
       "\n",
       "                            Precision_test  \n",
       "Modele                                      \n",
       "RandomForestClassifier            0.800000  \n",
       "GradientBoostingClassifier        0.764706  \n",
       "AdaBoostClassifier                0.764706  \n",
       "SGDClassifier                     0.692308  \n",
       "KNeighborsClassifier              0.692308  \n",
       "LogisticRegression                0.800000  \n",
       "GaussianNB                        0.250000  \n",
       "SVC                               0.666667  "
      ]
     },
     "execution_count": 76,
     "metadata": {},
     "output_type": "execute_result"
    }
   ],
   "source": [
    "#Résultat de l'entrainement\n",
    "resultat.set_index(\"Modele\")"
   ]
  },
  {
   "cell_type": "code",
   "execution_count": null,
   "metadata": {
    "colab": {
     "base_uri": "https://localhost:8080/"
    },
    "id": "835808de-9861-4995-af0b-7923e72d2eec",
    "outputId": "0d0f9d0d-1782-415e-ab4f-1cd5849ef3fc"
   },
   "outputs": [
    {
     "data": {
      "text/plain": [
       "<matplotlib.axes._subplots.AxesSubplot at 0x7f596e573810>"
      ]
     },
     "execution_count": 77,
     "metadata": {},
     "output_type": "execute_result"
    },
    {
     "data": {
      "image/png": "[encoded data removed]",
      "text/plain": [
       "<Figure size 864x576 with 1 Axes>"
      ]
     },
     "metadata": {},
     "output_type": "display_data"
    }
   ],
   "source": [
    "#Visualisation\n",
    "resultat.set_index(\"Modele\")[['F1_score_train','F1_score_test']].plot.bar()"
   ]
  },
  {
   "cell_type": "markdown",
   "metadata": {
    "id": "0863594f-4cb4-420c-80d2-f06c5f2a3e37"
   },
   "source": [
    "> ## **2. Entrainement par Cross Validation**"
   ]
  },
  {
   "cell_type": "code",
   "execution_count": null,
   "metadata": {
    "id": "be603863-6fa7-4543-8453-505ef1c027ce"
   },
   "outputs": [],
   "source": [
    "#Définition d'une fonction d'entrainement par validation croisée\n",
    "def cross_validation(Models, X_scaled_train, Y_train):\n",
    "    scores = []\n",
    "    for model in Models:\n",
    "        mod = model()\n",
    "        cv = RepeatedStratifiedKFold(n_splits=3, n_repeats=3, random_state=1)\n",
    "        debut = time.time()\n",
    "        score = cross_validate(mod, X_scaled_train, Y_train, cv=cv, n_jobs=-1, scoring='f1', return_train_score=True, return_estimator=True)\n",
    "        fin = time.time()\n",
    "        scores.append(\n",
    "            {\n",
    "                \"modele\":type(mod).__name__,  \"temps_apprentissage\": cl.conversion_temps(int(fin-debut)),\n",
    "                \"train_score\": score['train_score'].mean(), \n",
    "                \"validation_score\": score['test_score'].mean()\n",
    "            })\n",
    "    return pd.DataFrame(scores)"
   ]
  },
  {
   "cell_type": "code",
   "execution_count": null,
   "metadata": {
    "id": "69f75792-e7ce-45b0-9bb2-ed79fe12ec39"
   },
   "outputs": [],
   "source": [
    "#Entrainement par validation croisée d'une liste de modeles\n",
    "liste_model = [RandomForestClassifier, GradientBoostingClassifier,\n",
    "               AdaBoostClassifier, SGDClassifier, KNeighborsClassifier,\n",
    "               LogisticRegression, GaussianNB, SVC]\n",
    "resultat = cross_validation(liste_model,X_train_scaled, y_train)"
   ]
  },
  {
   "cell_type": "code",
   "execution_count": null,
   "metadata": {
    "colab": {
     "base_uri": "https://localhost:8080/"
    },
    "id": "07409886-af23-43fc-a532-fdf36228c868",
    "outputId": "e6749e1d-8e29-45b9-ef4f-857ddf44d98b"
   },
   "outputs": [
    {
     "data": {
      "text/html": [
       "\n",
       "  <div id=\"df-3db46f81-558f-4bc6-9c96-3ac3de467646\">\n",
       "    <div class=\"colab-df-container\">\n",
       "      <div>\n",
       "<style scoped>\n",
       "    .dataframe tbody tr th:only-of-type {\n",
       "        vertical-align: middle;\n",
       "    }\n",
       "\n",
       "    .dataframe tbody tr th {\n",
       "        vertical-align: top;\n",
       "    }\n",
       "\n",
       "    .dataframe thead th {\n",
       "        text-align: right;\n",
       "    }\n",
       "</style>\n",
       "<table border=\"1\" class=\"dataframe\">\n",
       "  <thead>\n",
       "    <tr style=\"text-align: right;\">\n",
       "      <th></th>\n",
       "      <th>temps_apprentissage</th>\n",
       "      <th>train_score</th>\n",
       "      <th>validation_score</th>\n",
       "    </tr>\n",
       "    <tr>\n",
       "      <th>modele</th>\n",
       "      <th></th>\n",
       "      <th></th>\n",
       "      <th></th>\n",
       "    </tr>\n",
       "  </thead>\n",
       "  <tbody>\n",
       "    <tr>\n",
       "      <th>RandomForestClassifier</th>\n",
       "      <td>0 H : 0 Min : 3 Sec</td>\n",
       "      <td>1.000000</td>\n",
       "      <td>0.232381</td>\n",
       "    </tr>\n",
       "    <tr>\n",
       "      <th>GradientBoostingClassifier</th>\n",
       "      <td>0 H : 0 Min : 1 Sec</td>\n",
       "      <td>0.740922</td>\n",
       "      <td>0.343491</td>\n",
       "    </tr>\n",
       "    <tr>\n",
       "      <th>AdaBoostClassifier</th>\n",
       "      <td>0 H : 0 Min : 1 Sec</td>\n",
       "      <td>0.522699</td>\n",
       "      <td>0.390435</td>\n",
       "    </tr>\n",
       "    <tr>\n",
       "      <th>SGDClassifier</th>\n",
       "      <td>0 H : 0 Min : 0 Sec</td>\n",
       "      <td>0.362909</td>\n",
       "      <td>0.331196</td>\n",
       "    </tr>\n",
       "    <tr>\n",
       "      <th>KNeighborsClassifier</th>\n",
       "      <td>0 H : 0 Min : 0 Sec</td>\n",
       "      <td>0.401368</td>\n",
       "      <td>0.230670</td>\n",
       "    </tr>\n",
       "    <tr>\n",
       "      <th>LogisticRegression</th>\n",
       "      <td>0 H : 0 Min : 0 Sec</td>\n",
       "      <td>0.419265</td>\n",
       "      <td>0.378614</td>\n",
       "    </tr>\n",
       "    <tr>\n",
       "      <th>GaussianNB</th>\n",
       "      <td>0 H : 0 Min : 0 Sec</td>\n",
       "      <td>0.413463</td>\n",
       "      <td>0.395390</td>\n",
       "    </tr>\n",
       "    <tr>\n",
       "      <th>SVC</th>\n",
       "      <td>0 H : 0 Min : 0 Sec</td>\n",
       "      <td>0.317826</td>\n",
       "      <td>0.150046</td>\n",
       "    </tr>\n",
       "  </tbody>\n",
       "</table>\n",
       "</div>\n",
       "      <button class=\"colab-df-convert\" onclick=\"convertToInteractive('df-3db46f81-558f-4bc6-9c96-3ac3de467646')\"\n",
       "              title=\"Convert this dataframe to an interactive table.\"\n",
       "              style=\"display:none;\">\n",
       "        \n",
       "  <svg xmlns=\"http://www.w3.org/2000/svg\" height=\"24px\"viewBox=\"0 0 24 24\"\n",
       "       width=\"24px\">\n",
       "    <path d=\"M0 0h24v24H0V0z\" fill=\"none\"/>\n",
       "    <path d=\"M18.56 5.44l.94 2.06.94-2.06 2.06-.94-2.06-.94-.94-2.06-.94 2.06-2.06.94zm-11 1L8.5 8.5l.94-2.06 2.06-.94-2.06-.94L8.5 2.5l-.94 2.06-2.06.94zm10 10l.94 2.06.94-2.06 2.06-.94-2.06-.94-.94-2.06-.94 2.06-2.06.94z\"/><path d=\"M17.41 7.96l-1.37-1.37c-.4-.4-.92-.59-1.43-.59-.52 0-1.04.2-1.43.59L10.3 9.45l-7.72 7.72c-.78.78-.78 2.05 0 2.83L4 21.41c.39.39.9.59 1.41.59.51 0 1.02-.2 1.41-.59l7.78-7.78 2.81-2.81c.8-.78.8-2.07 0-2.86zM5.41 20L4 18.59l7.72-7.72 1.47 1.35L5.41 20z\"/>\n",
       "  </svg>\n",
       "      </button>\n",
       "      \n",
       "  <style>\n",
       "    .colab-df-container {\n",
       "      display:flex;\n",
       "      flex-wrap:wrap;\n",
       "      gap: 12px;\n",
       "    }\n",
       "\n",
       "    .colab-df-convert {\n",
       "      background-color: #E8F0FE;\n",
       "      border: none;\n",
       "      border-radius: 50%;\n",
       "      cursor: pointer;\n",
       "      display: none;\n",
       "      fill: #1967D2;\n",
       "      height: 32px;\n",
       "      padding: 0 0 0 0;\n",
       "      width: 32px;\n",
       "    }\n",
       "\n",
       "    .colab-df-convert:hover {\n",
       "      background-color: #E2EBFA;\n",
       "      box-shadow: 0px 1px 2px rgba(60, 64, 67, 0.3), 0px 1px 3px 1px rgba(60, 64, 67, 0.15);\n",
       "      fill: #174EA6;\n",
       "    }\n",
       "\n",
       "    [theme=dark] .colab-df-convert {\n",
       "      background-color: #3B4455;\n",
       "      fill: #D2E3FC;\n",
       "    }\n",
       "\n",
       "    [theme=dark] .colab-df-convert:hover {\n",
       "      background-color: #434B5C;\n",
       "      box-shadow: 0px 1px 3px 1px rgba(0, 0, 0, 0.15);\n",
       "      filter: drop-shadow(0px 1px 2px rgba(0, 0, 0, 0.3));\n",
       "      fill: #FFFFFF;\n",
       "    }\n",
       "  </style>\n",
       "\n",
       "      <script>\n",
       "        const buttonEl =\n",
       "          document.querySelector('#df-3db46f81-558f-4bc6-9c96-3ac3de467646 button.colab-df-convert');\n",
       "        buttonEl.style.display =\n",
       "          google.colab.kernel.accessAllowed ? 'block' : 'none';\n",
       "\n",
       "        async function convertToInteractive(key) {\n",
       "          const element = document.querySelector('#df-3db46f81-558f-4bc6-9c96-3ac3de467646');\n",
       "          const dataTable =\n",
       "            await google.colab.kernel.invokeFunction('convertToInteractive',\n",
       "                                                     [key], {});\n",
       "          if (!dataTable) return;\n",
       "\n",
       "          const docLinkHtml = 'Like what you see? Visit the ' +\n",
       "            '<a target=\"_blank\" href=https://colab.research.google.com/notebooks/data_table.ipynb>data table notebook</a>'\n",
       "            + ' to learn more about interactive tables.';\n",
       "          element.innerHTML = '';\n",
       "          dataTable['output_type'] = 'display_data';\n",
       "          await google.colab.output.renderOutput(dataTable, element);\n",
       "          const docLink = document.createElement('div');\n",
       "          docLink.innerHTML = docLinkHtml;\n",
       "          element.appendChild(docLink);\n",
       "        }\n",
       "      </script>\n",
       "    </div>\n",
       "  </div>\n",
       "  "
      ],
      "text/plain": [
       "                            temps_apprentissage  train_score  validation_score\n",
       "modele                                                                        \n",
       "RandomForestClassifier      0 H : 0 Min : 3 Sec     1.000000          0.232381\n",
       "GradientBoostingClassifier  0 H : 0 Min : 1 Sec     0.740922          0.343491\n",
       "AdaBoostClassifier          0 H : 0 Min : 1 Sec     0.522699          0.390435\n",
       "SGDClassifier               0 H : 0 Min : 0 Sec     0.362909          0.331196\n",
       "KNeighborsClassifier        0 H : 0 Min : 0 Sec     0.401368          0.230670\n",
       "LogisticRegression          0 H : 0 Min : 0 Sec     0.419265          0.378614\n",
       "GaussianNB                  0 H : 0 Min : 0 Sec     0.413463          0.395390\n",
       "SVC                         0 H : 0 Min : 0 Sec     0.317826          0.150046"
      ]
     },
     "execution_count": 80,
     "metadata": {},
     "output_type": "execute_result"
    }
   ],
   "source": [
    "#Résultat de l'entrainement\n",
    "resultat.set_index(\"modele\")"
   ]
  },
  {
   "cell_type": "code",
   "execution_count": null,
   "metadata": {
    "colab": {
     "base_uri": "https://localhost:8080/"
    },
    "id": "68c034dc-9809-475e-90f9-c1ceaea08589",
    "outputId": "36adfdbf-8efa-403c-86e6-ad29d44e3224"
   },
   "outputs": [
    {
     "data": {
      "text/plain": [
       "<matplotlib.axes._subplots.AxesSubplot at 0x7f596e2e2a90>"
      ]
     },
     "execution_count": 81,
     "metadata": {},
     "output_type": "execute_result"
    },
    {
     "data": {
      "image/png": "[encoded data removed]",
      "text/plain": [
       "<Figure size 864x576 with 1 Axes>"
      ]
     },
     "metadata": {},
     "output_type": "display_data"
    }
   ],
   "source": [
    "#Visualisation\n",
    "resultat.set_index(\"modele\")[['train_score','validation_score']].plot.bar()"
   ]
  },
  {
   "cell_type": "markdown",
   "metadata": {
    "id": "d4b8c8bc-b293-4d5c-9ff9-c1b00b4b6908"
   },
   "source": [
    ">>> #### **NB :** Les résultats de nos deux méthodes d'entrainement montrent que certains de nos modèles sont en position d'underfitting. C'est à dire qu'ils ne parviennent pas à bien apprendre. Cela est peut-être du au déséquilibre remarquable de notre variable cible. Pour essayer d'y remédier nous allons utiliser une technique de suréchantillonage intitulée SMOTE (Technique de Suréchantillonnage des Minorités Synthétiques) qui consiste à générer, pour une observation donnée de la classe minoritaire, une nouvelle, en utilisant l'algorithme des k voisins les plus proches. Cette technique permet enfin d'obtenir une base de donnée d'entrainement équilibrée mais modifie quand même la réalité :-)!"
   ]
  },
  {
   "cell_type": "markdown",
   "metadata": {
    "id": "6cd3b3df-793d-4836-b8c8-c606226910a7"
   },
   "source": [
    "> ## **3. Suréchantillonnage et Entrainement par Cross Validation**"
   ]
  },
  {
   "cell_type": "code",
   "execution_count": null,
   "metadata": {
    "id": "3952017d-34b2-44f0-8e36-7761cb496dae"
   },
   "outputs": [],
   "source": [
    "#Importation de SMOTE\n",
    "from imblearn.over_sampling import SMOTE"
   ]
  },
  {
   "cell_type": "code",
   "execution_count": null,
   "metadata": {
    "id": "69f26983-ca20-4d8d-be8e-1c32471836bb"
   },
   "outputs": [],
   "source": [
    "#Suréchantillonage des données d'entraînement\n",
    "sample = SMOTE()\n",
    "X_train_resampled, y_train_resampled = sample.fit_resample(X_train_scaled, y_train)"
   ]
  },
  {
   "cell_type": "code",
   "execution_count": null,
   "metadata": {
    "colab": {
     "base_uri": "https://localhost:8080/"
    },
    "id": "def421eb-9aae-40de-98ed-2e6b4a544181",
    "outputId": "9d3f97c1-cacd-442e-e5f2-2f91befd4988"
   },
   "outputs": [
    {
     "data": {
      "text/html": [
       "\n",
       "  <div id=\"df-9528a7f5-7019-4e56-9fde-ce181a721178\">\n",
       "    <div class=\"colab-df-container\">\n",
       "      <div>\n",
       "<style scoped>\n",
       "    .dataframe tbody tr th:only-of-type {\n",
       "        vertical-align: middle;\n",
       "    }\n",
       "\n",
       "    .dataframe tbody tr th {\n",
       "        vertical-align: top;\n",
       "    }\n",
       "\n",
       "    .dataframe thead th {\n",
       "        text-align: right;\n",
       "    }\n",
       "</style>\n",
       "<table border=\"1\" class=\"dataframe\">\n",
       "  <thead>\n",
       "    <tr style=\"text-align: right;\">\n",
       "      <th></th>\n",
       "      <th>DailyRate</th>\n",
       "      <th>DistanceFromHome</th>\n",
       "      <th>EnvironmentSatisfaction</th>\n",
       "      <th>JobInvolvement</th>\n",
       "      <th>JobSatisfaction</th>\n",
       "      <th>OverTime</th>\n",
       "      <th>StockOptionLevel</th>\n",
       "      <th>WorkLifeBalance</th>\n",
       "      <th>BusinessTravel_Non-Travel</th>\n",
       "      <th>BusinessTravel_Travel_Frequently</th>\n",
       "      <th>BusinessTravel_Travel_Rarely</th>\n",
       "      <th>JobRole_Healthcare Representative</th>\n",
       "      <th>JobRole_Human Resources</th>\n",
       "      <th>JobRole_Laboratory Technician</th>\n",
       "      <th>JobRole_Manager</th>\n",
       "      <th>JobRole_Manufacturing Director</th>\n",
       "      <th>JobRole_Research Director</th>\n",
       "      <th>JobRole_Research Scientist</th>\n",
       "      <th>JobRole_Sales Executive</th>\n",
       "      <th>JobRole_Sales Representative</th>\n",
       "    </tr>\n",
       "  </thead>\n",
       "  <tbody>\n",
       "    <tr>\n",
       "      <th>0</th>\n",
       "      <td>0.803725</td>\n",
       "      <td>0.035714</td>\n",
       "      <td>0.333333</td>\n",
       "      <td>1.000000</td>\n",
       "      <td>0.333333</td>\n",
       "      <td>0.0</td>\n",
       "      <td>1.000000</td>\n",
       "      <td>0.666667</td>\n",
       "      <td>0.0</td>\n",
       "      <td>0.0</td>\n",
       "      <td>1.0</td>\n",
       "      <td>0.0</td>\n",
       "      <td>0.0</td>\n",
       "      <td>0.0</td>\n",
       "      <td>1.0</td>\n",
       "      <td>0.0</td>\n",
       "      <td>0.0</td>\n",
       "      <td>0.0</td>\n",
       "      <td>0.0</td>\n",
       "      <td>0.0</td>\n",
       "    </tr>\n",
       "    <tr>\n",
       "      <th>1</th>\n",
       "      <td>0.351719</td>\n",
       "      <td>0.035714</td>\n",
       "      <td>0.666667</td>\n",
       "      <td>0.666667</td>\n",
       "      <td>1.000000</td>\n",
       "      <td>0.0</td>\n",
       "      <td>0.333333</td>\n",
       "      <td>0.666667</td>\n",
       "      <td>0.0</td>\n",
       "      <td>0.0</td>\n",
       "      <td>1.0</td>\n",
       "      <td>0.0</td>\n",
       "      <td>0.0</td>\n",
       "      <td>1.0</td>\n",
       "      <td>0.0</td>\n",
       "      <td>0.0</td>\n",
       "      <td>0.0</td>\n",
       "      <td>0.0</td>\n",
       "      <td>0.0</td>\n",
       "      <td>0.0</td>\n",
       "    </tr>\n",
       "    <tr>\n",
       "      <th>2</th>\n",
       "      <td>0.217049</td>\n",
       "      <td>0.071429</td>\n",
       "      <td>0.000000</td>\n",
       "      <td>0.666667</td>\n",
       "      <td>0.666667</td>\n",
       "      <td>0.0</td>\n",
       "      <td>0.333333</td>\n",
       "      <td>0.666667</td>\n",
       "      <td>0.0</td>\n",
       "      <td>0.0</td>\n",
       "      <td>1.0</td>\n",
       "      <td>0.0</td>\n",
       "      <td>0.0</td>\n",
       "      <td>0.0</td>\n",
       "      <td>1.0</td>\n",
       "      <td>0.0</td>\n",
       "      <td>0.0</td>\n",
       "      <td>0.0</td>\n",
       "      <td>0.0</td>\n",
       "      <td>0.0</td>\n",
       "    </tr>\n",
       "    <tr>\n",
       "      <th>3</th>\n",
       "      <td>0.371777</td>\n",
       "      <td>0.428571</td>\n",
       "      <td>0.333333</td>\n",
       "      <td>0.666667</td>\n",
       "      <td>0.666667</td>\n",
       "      <td>0.0</td>\n",
       "      <td>0.000000</td>\n",
       "      <td>0.666667</td>\n",
       "      <td>0.0</td>\n",
       "      <td>0.0</td>\n",
       "      <td>1.0</td>\n",
       "      <td>0.0</td>\n",
       "      <td>0.0</td>\n",
       "      <td>0.0</td>\n",
       "      <td>0.0</td>\n",
       "      <td>0.0</td>\n",
       "      <td>0.0</td>\n",
       "      <td>0.0</td>\n",
       "      <td>0.0</td>\n",
       "      <td>1.0</td>\n",
       "    </tr>\n",
       "    <tr>\n",
       "      <th>4</th>\n",
       "      <td>0.643266</td>\n",
       "      <td>0.285714</td>\n",
       "      <td>1.000000</td>\n",
       "      <td>0.666667</td>\n",
       "      <td>0.666667</td>\n",
       "      <td>1.0</td>\n",
       "      <td>0.333333</td>\n",
       "      <td>0.666667</td>\n",
       "      <td>0.0</td>\n",
       "      <td>1.0</td>\n",
       "      <td>0.0</td>\n",
       "      <td>0.0</td>\n",
       "      <td>0.0</td>\n",
       "      <td>1.0</td>\n",
       "      <td>0.0</td>\n",
       "      <td>0.0</td>\n",
       "      <td>0.0</td>\n",
       "      <td>0.0</td>\n",
       "      <td>0.0</td>\n",
       "      <td>0.0</td>\n",
       "    </tr>\n",
       "  </tbody>\n",
       "</table>\n",
       "</div>\n",
       "      <button class=\"colab-df-convert\" onclick=\"convertToInteractive('df-9528a7f5-7019-4e56-9fde-ce181a721178')\"\n",
       "              title=\"Convert this dataframe to an interactive table.\"\n",
       "              style=\"display:none;\">\n",
       "        \n",
       "  <svg xmlns=\"http://www.w3.org/2000/svg\" height=\"24px\"viewBox=\"0 0 24 24\"\n",
       "       width=\"24px\">\n",
       "    <path d=\"M0 0h24v24H0V0z\" fill=\"none\"/>\n",
       "    <path d=\"M18.56 5.44l.94 2.06.94-2.06 2.06-.94-2.06-.94-.94-2.06-.94 2.06-2.06.94zm-11 1L8.5 8.5l.94-2.06 2.06-.94-2.06-.94L8.5 2.5l-.94 2.06-2.06.94zm10 10l.94 2.06.94-2.06 2.06-.94-2.06-.94-.94-2.06-.94 2.06-2.06.94z\"/><path d=\"M17.41 7.96l-1.37-1.37c-.4-.4-.92-.59-1.43-.59-.52 0-1.04.2-1.43.59L10.3 9.45l-7.72 7.72c-.78.78-.78 2.05 0 2.83L4 21.41c.39.39.9.59 1.41.59.51 0 1.02-.2 1.41-.59l7.78-7.78 2.81-2.81c.8-.78.8-2.07 0-2.86zM5.41 20L4 18.59l7.72-7.72 1.47 1.35L5.41 20z\"/>\n",
       "  </svg>\n",
       "      </button>\n",
       "      \n",
       "  <style>\n",
       "    .colab-df-container {\n",
       "      display:flex;\n",
       "      flex-wrap:wrap;\n",
       "      gap: 12px;\n",
       "    }\n",
       "\n",
       "    .colab-df-convert {\n",
       "      background-color: #E8F0FE;\n",
       "      border: none;\n",
       "      border-radius: 50%;\n",
       "      cursor: pointer;\n",
       "      display: none;\n",
       "      fill: #1967D2;\n",
       "      height: 32px;\n",
       "      padding: 0 0 0 0;\n",
       "      width: 32px;\n",
       "    }\n",
       "\n",
       "    .colab-df-convert:hover {\n",
       "      background-color: #E2EBFA;\n",
       "      box-shadow: 0px 1px 2px rgba(60, 64, 67, 0.3), 0px 1px 3px 1px rgba(60, 64, 67, 0.15);\n",
       "      fill: #174EA6;\n",
       "    }\n",
       "\n",
       "    [theme=dark] .colab-df-convert {\n",
       "      background-color: #3B4455;\n",
       "      fill: #D2E3FC;\n",
       "    }\n",
       "\n",
       "    [theme=dark] .colab-df-convert:hover {\n",
       "      background-color: #434B5C;\n",
       "      box-shadow: 0px 1px 3px 1px rgba(0, 0, 0, 0.15);\n",
       "      filter: drop-shadow(0px 1px 2px rgba(0, 0, 0, 0.3));\n",
       "      fill: #FFFFFF;\n",
       "    }\n",
       "  </style>\n",
       "\n",
       "      <script>\n",
       "        const buttonEl =\n",
       "          document.querySelector('#df-9528a7f5-7019-4e56-9fde-ce181a721178 button.colab-df-convert');\n",
       "        buttonEl.style.display =\n",
       "          google.colab.kernel.accessAllowed ? 'block' : 'none';\n",
       "\n",
       "        async function convertToInteractive(key) {\n",
       "          const element = document.querySelector('#df-9528a7f5-7019-4e56-9fde-ce181a721178');\n",
       "          const dataTable =\n",
       "            await google.colab.kernel.invokeFunction('convertToInteractive',\n",
       "                                                     [key], {});\n",
       "          if (!dataTable) return;\n",
       "\n",
       "          const docLinkHtml = 'Like what you see? Visit the ' +\n",
       "            '<a target=\"_blank\" href=https://colab.research.google.com/notebooks/data_table.ipynb>data table notebook</a>'\n",
       "            + ' to learn more about interactive tables.';\n",
       "          element.innerHTML = '';\n",
       "          dataTable['output_type'] = 'display_data';\n",
       "          await google.colab.output.renderOutput(dataTable, element);\n",
       "          const docLink = document.createElement('div');\n",
       "          docLink.innerHTML = docLinkHtml;\n",
       "          element.appendChild(docLink);\n",
       "        }\n",
       "      </script>\n",
       "    </div>\n",
       "  </div>\n",
       "  "
      ],
      "text/plain": [
       "   DailyRate  DistanceFromHome  EnvironmentSatisfaction  JobInvolvement  \\\n",
       "0   0.803725          0.035714                 0.333333        1.000000   \n",
       "1   0.351719          0.035714                 0.666667        0.666667   \n",
       "2   0.217049          0.071429                 0.000000        0.666667   \n",
       "3   0.371777          0.428571                 0.333333        0.666667   \n",
       "4   0.643266          0.285714                 1.000000        0.666667   \n",
       "\n",
       "   JobSatisfaction  OverTime  StockOptionLevel  WorkLifeBalance  \\\n",
       "0         0.333333       0.0          1.000000         0.666667   \n",
       "1         1.000000       0.0          0.333333         0.666667   \n",
       "2         0.666667       0.0          0.333333         0.666667   \n",
       "3         0.666667       0.0          0.000000         0.666667   \n",
       "4         0.666667       1.0          0.333333         0.666667   \n",
       "\n",
       "   BusinessTravel_Non-Travel  BusinessTravel_Travel_Frequently  \\\n",
       "0                        0.0                               0.0   \n",
       "1                        0.0                               0.0   \n",
       "2                        0.0                               0.0   \n",
       "3                        0.0                               0.0   \n",
       "4                        0.0                               1.0   \n",
       "\n",
       "   BusinessTravel_Travel_Rarely  JobRole_Healthcare Representative  \\\n",
       "0                           1.0                                0.0   \n",
       "1                           1.0                                0.0   \n",
       "2                           1.0                                0.0   \n",
       "3                           1.0                                0.0   \n",
       "4                           0.0                                0.0   \n",
       "\n",
       "   JobRole_Human Resources  JobRole_Laboratory Technician  JobRole_Manager  \\\n",
       "0                      0.0                            0.0              1.0   \n",
       "1                      0.0                            1.0              0.0   \n",
       "2                      0.0                            0.0              1.0   \n",
       "3                      0.0                            0.0              0.0   \n",
       "4                      0.0                            1.0              0.0   \n",
       "\n",
       "   JobRole_Manufacturing Director  JobRole_Research Director  \\\n",
       "0                             0.0                        0.0   \n",
       "1                             0.0                        0.0   \n",
       "2                             0.0                        0.0   \n",
       "3                             0.0                        0.0   \n",
       "4                             0.0                        0.0   \n",
       "\n",
       "   JobRole_Research Scientist  JobRole_Sales Executive  \\\n",
       "0                         0.0                      0.0   \n",
       "1                         0.0                      0.0   \n",
       "2                         0.0                      0.0   \n",
       "3                         0.0                      0.0   \n",
       "4                         0.0                      0.0   \n",
       "\n",
       "   JobRole_Sales Representative  \n",
       "0                           0.0  \n",
       "1                           0.0  \n",
       "2                           0.0  \n",
       "3                           1.0  \n",
       "4                           0.0  "
      ]
     },
     "execution_count": 84,
     "metadata": {},
     "output_type": "execute_result"
    }
   ],
   "source": [
    "#Apperçu\n",
    "X_train_resampled.head()"
   ]
  },
  {
   "cell_type": "code",
   "execution_count": null,
   "metadata": {
    "colab": {
     "base_uri": "https://localhost:8080/"
    },
    "id": "0e0f308d-72c7-4c1c-822e-dbdaf5dad633",
    "outputId": "3cf872e5-bd20-46c4-e367-a34c2af46624"
   },
   "outputs": [
    {
     "data": {
      "text/plain": [
       "Attrition\n",
       "0            986\n",
       "1            986\n",
       "dtype: int64"
      ]
     },
     "execution_count": 85,
     "metadata": {},
     "output_type": "execute_result"
    }
   ],
   "source": [
    "#Nouvelle proportion de la variable cible.\n",
    "y_train_resampled.value_counts()"
   ]
  },
  {
   "cell_type": "markdown",
   "metadata": {
    "id": "69d9f34e-d484-4ed5-a388-34005a63f3d0"
   },
   "source": [
    ">>> #### **Remarquez que la variable cible est équilibrée maintenant grâce à la technique SMOTE. Néanmoins nous ne changerons pas de métrique car il faut utiliser la même durant tout le projet de Machine Learning.**"
   ]
  },
  {
   "cell_type": "code",
   "execution_count": null,
   "metadata": {
    "id": "61b786be-32b7-4548-a021-1b913bd7ee2a"
   },
   "outputs": [],
   "source": [
    "#Entrainement simple d'une liste de modeles avec nos données équilibrées\n",
    "liste_model = [RandomForestClassifier, GradientBoostingClassifier,\n",
    "               AdaBoostClassifier, SGDClassifier, KNeighborsClassifier,\n",
    "               LogisticRegression, GaussianNB, SVC]\n",
    "resultat = modelisation(liste_model,X_train_resampled, y_train_resampled, X_test_scaled, y_test)"
   ]
  },
  {
   "cell_type": "code",
   "execution_count": null,
   "metadata": {
    "colab": {
     "base_uri": "https://localhost:8080/"
    },
    "id": "50e1589d-7930-4cc2-bc63-61f941e1e5ba",
    "outputId": "675e52a1-faae-4442-e13e-bf5702834dab"
   },
   "outputs": [
    {
     "data": {
      "text/html": [
       "\n",
       "  <div id=\"df-2baf9ce0-17c7-4692-84ff-d07f41afacd8\">\n",
       "    <div class=\"colab-df-container\">\n",
       "      <div>\n",
       "<style scoped>\n",
       "    .dataframe tbody tr th:only-of-type {\n",
       "        vertical-align: middle;\n",
       "    }\n",
       "\n",
       "    .dataframe tbody tr th {\n",
       "        vertical-align: top;\n",
       "    }\n",
       "\n",
       "    .dataframe thead th {\n",
       "        text-align: right;\n",
       "    }\n",
       "</style>\n",
       "<table border=\"1\" class=\"dataframe\">\n",
       "  <thead>\n",
       "    <tr style=\"text-align: right;\">\n",
       "      <th></th>\n",
       "      <th>temps_apprentissage</th>\n",
       "      <th>F1_score_train</th>\n",
       "      <th>Recall_train</th>\n",
       "      <th>Precision_train</th>\n",
       "      <th>F1_score_test</th>\n",
       "      <th>Recall_test</th>\n",
       "      <th>Precision_test</th>\n",
       "    </tr>\n",
       "    <tr>\n",
       "      <th>Modele</th>\n",
       "      <th></th>\n",
       "      <th></th>\n",
       "      <th></th>\n",
       "      <th></th>\n",
       "      <th></th>\n",
       "      <th></th>\n",
       "      <th></th>\n",
       "    </tr>\n",
       "  </thead>\n",
       "  <tbody>\n",
       "    <tr>\n",
       "      <th>RandomForestClassifier</th>\n",
       "      <td>0 H : 0 Min : 0 Sec</td>\n",
       "      <td>1.000000</td>\n",
       "      <td>1.000000</td>\n",
       "      <td>1.000000</td>\n",
       "      <td>0.369231</td>\n",
       "      <td>0.255319</td>\n",
       "      <td>0.666667</td>\n",
       "    </tr>\n",
       "    <tr>\n",
       "      <th>GradientBoostingClassifier</th>\n",
       "      <td>0 H : 0 Min : 0 Sec</td>\n",
       "      <td>0.940810</td>\n",
       "      <td>0.918864</td>\n",
       "      <td>0.963830</td>\n",
       "      <td>0.545455</td>\n",
       "      <td>0.446809</td>\n",
       "      <td>0.700000</td>\n",
       "    </tr>\n",
       "    <tr>\n",
       "      <th>AdaBoostClassifier</th>\n",
       "      <td>0 H : 0 Min : 0 Sec</td>\n",
       "      <td>0.897292</td>\n",
       "      <td>0.890467</td>\n",
       "      <td>0.904222</td>\n",
       "      <td>0.500000</td>\n",
       "      <td>0.489362</td>\n",
       "      <td>0.511111</td>\n",
       "    </tr>\n",
       "    <tr>\n",
       "      <th>SGDClassifier</th>\n",
       "      <td>0 H : 0 Min : 0 Sec</td>\n",
       "      <td>0.729131</td>\n",
       "      <td>0.651116</td>\n",
       "      <td>0.828387</td>\n",
       "      <td>0.450980</td>\n",
       "      <td>0.489362</td>\n",
       "      <td>0.418182</td>\n",
       "    </tr>\n",
       "    <tr>\n",
       "      <th>KNeighborsClassifier</th>\n",
       "      <td>0 H : 0 Min : 0 Sec</td>\n",
       "      <td>0.896266</td>\n",
       "      <td>0.985801</td>\n",
       "      <td>0.821640</td>\n",
       "      <td>0.425197</td>\n",
       "      <td>0.574468</td>\n",
       "      <td>0.337500</td>\n",
       "    </tr>\n",
       "    <tr>\n",
       "      <th>LogisticRegression</th>\n",
       "      <td>0 H : 0 Min : 0 Sec</td>\n",
       "      <td>0.778664</td>\n",
       "      <td>0.792089</td>\n",
       "      <td>0.765686</td>\n",
       "      <td>0.421875</td>\n",
       "      <td>0.574468</td>\n",
       "      <td>0.333333</td>\n",
       "    </tr>\n",
       "    <tr>\n",
       "      <th>GaussianNB</th>\n",
       "      <td>0 H : 0 Min : 0 Sec</td>\n",
       "      <td>0.722570</td>\n",
       "      <td>0.878296</td>\n",
       "      <td>0.613749</td>\n",
       "      <td>0.320000</td>\n",
       "      <td>0.765957</td>\n",
       "      <td>0.202247</td>\n",
       "    </tr>\n",
       "    <tr>\n",
       "      <th>SVC</th>\n",
       "      <td>0 H : 0 Min : 0 Sec</td>\n",
       "      <td>0.865375</td>\n",
       "      <td>0.883367</td>\n",
       "      <td>0.848101</td>\n",
       "      <td>0.438596</td>\n",
       "      <td>0.531915</td>\n",
       "      <td>0.373134</td>\n",
       "    </tr>\n",
       "  </tbody>\n",
       "</table>\n",
       "</div>\n",
       "      <button class=\"colab-df-convert\" onclick=\"convertToInteractive('df-2baf9ce0-17c7-4692-84ff-d07f41afacd8')\"\n",
       "              title=\"Convert this dataframe to an interactive table.\"\n",
       "              style=\"display:none;\">\n",
       "        \n",
       "  <svg xmlns=\"http://www.w3.org/2000/svg\" height=\"24px\"viewBox=\"0 0 24 24\"\n",
       "       width=\"24px\">\n",
       "    <path d=\"M0 0h24v24H0V0z\" fill=\"none\"/>\n",
       "    <path d=\"M18.56 5.44l.94 2.06.94-2.06 2.06-.94-2.06-.94-.94-2.06-.94 2.06-2.06.94zm-11 1L8.5 8.5l.94-2.06 2.06-.94-2.06-.94L8.5 2.5l-.94 2.06-2.06.94zm10 10l.94 2.06.94-2.06 2.06-.94-2.06-.94-.94-2.06-.94 2.06-2.06.94z\"/><path d=\"M17.41 7.96l-1.37-1.37c-.4-.4-.92-.59-1.43-.59-.52 0-1.04.2-1.43.59L10.3 9.45l-7.72 7.72c-.78.78-.78 2.05 0 2.83L4 21.41c.39.39.9.59 1.41.59.51 0 1.02-.2 1.41-.59l7.78-7.78 2.81-2.81c.8-.78.8-2.07 0-2.86zM5.41 20L4 18.59l7.72-7.72 1.47 1.35L5.41 20z\"/>\n",
       "  </svg>\n",
       "      </button>\n",
       "      \n",
       "  <style>\n",
       "    .colab-df-container {\n",
       "      display:flex;\n",
       "      flex-wrap:wrap;\n",
       "      gap: 12px;\n",
       "    }\n",
       "\n",
       "    .colab-df-convert {\n",
       "      background-color: #E8F0FE;\n",
       "      border: none;\n",
       "      border-radius: 50%;\n",
       "      cursor: pointer;\n",
       "      display: none;\n",
       "      fill: #1967D2;\n",
       "      height: 32px;\n",
       "      padding: 0 0 0 0;\n",
       "      width: 32px;\n",
       "    }\n",
       "\n",
       "    .colab-df-convert:hover {\n",
       "      background-color: #E2EBFA;\n",
       "      box-shadow: 0px 1px 2px rgba(60, 64, 67, 0.3), 0px 1px 3px 1px rgba(60, 64, 67, 0.15);\n",
       "      fill: #174EA6;\n",
       "    }\n",
       "\n",
       "    [theme=dark] .colab-df-convert {\n",
       "      background-color: #3B4455;\n",
       "      fill: #D2E3FC;\n",
       "    }\n",
       "\n",
       "    [theme=dark] .colab-df-convert:hover {\n",
       "      background-color: #434B5C;\n",
       "      box-shadow: 0px 1px 3px 1px rgba(0, 0, 0, 0.15);\n",
       "      filter: drop-shadow(0px 1px 2px rgba(0, 0, 0, 0.3));\n",
       "      fill: #FFFFFF;\n",
       "    }\n",
       "  </style>\n",
       "\n",
       "      <script>\n",
       "        const buttonEl =\n",
       "          document.querySelector('#df-2baf9ce0-17c7-4692-84ff-d07f41afacd8 button.colab-df-convert');\n",
       "        buttonEl.style.display =\n",
       "          google.colab.kernel.accessAllowed ? 'block' : 'none';\n",
       "\n",
       "        async function convertToInteractive(key) {\n",
       "          const element = document.querySelector('#df-2baf9ce0-17c7-4692-84ff-d07f41afacd8');\n",
       "          const dataTable =\n",
       "            await google.colab.kernel.invokeFunction('convertToInteractive',\n",
       "                                                     [key], {});\n",
       "          if (!dataTable) return;\n",
       "\n",
       "          const docLinkHtml = 'Like what you see? Visit the ' +\n",
       "            '<a target=\"_blank\" href=https://colab.research.google.com/notebooks/data_table.ipynb>data table notebook</a>'\n",
       "            + ' to learn more about interactive tables.';\n",
       "          element.innerHTML = '';\n",
       "          dataTable['output_type'] = 'display_data';\n",
       "          await google.colab.output.renderOutput(dataTable, element);\n",
       "          const docLink = document.createElement('div');\n",
       "          docLink.innerHTML = docLinkHtml;\n",
       "          element.appendChild(docLink);\n",
       "        }\n",
       "      </script>\n",
       "    </div>\n",
       "  </div>\n",
       "  "
      ],
      "text/plain": [
       "                            temps_apprentissage  F1_score_train  Recall_train  \\\n",
       "Modele                                                                          \n",
       "RandomForestClassifier      0 H : 0 Min : 0 Sec        1.000000      1.000000   \n",
       "GradientBoostingClassifier  0 H : 0 Min : 0 Sec        0.940810      0.918864   \n",
       "AdaBoostClassifier          0 H : 0 Min : 0 Sec        0.897292      0.890467   \n",
       "SGDClassifier               0 H : 0 Min : 0 Sec        0.729131      0.651116   \n",
       "KNeighborsClassifier        0 H : 0 Min : 0 Sec        0.896266      0.985801   \n",
       "LogisticRegression          0 H : 0 Min : 0 Sec        0.778664      0.792089   \n",
       "GaussianNB                  0 H : 0 Min : 0 Sec        0.722570      0.878296   \n",
       "SVC                         0 H : 0 Min : 0 Sec        0.865375      0.883367   \n",
       "\n",
       "                            Precision_train  F1_score_test  Recall_test  \\\n",
       "Modele                                                                    \n",
       "RandomForestClassifier             1.000000       0.369231     0.255319   \n",
       "GradientBoostingClassifier         0.963830       0.545455     0.446809   \n",
       "AdaBoostClassifier                 0.904222       0.500000     0.489362   \n",
       "SGDClassifier                      0.828387       0.450980     0.489362   \n",
       "KNeighborsClassifier               0.821640       0.425197     0.574468   \n",
       "LogisticRegression                 0.765686       0.421875     0.574468   \n",
       "GaussianNB                         0.613749       0.320000     0.765957   \n",
       "SVC                                0.848101       0.438596     0.531915   \n",
       "\n",
       "                            Precision_test  \n",
       "Modele                                      \n",
       "RandomForestClassifier            0.666667  \n",
       "GradientBoostingClassifier        0.700000  \n",
       "AdaBoostClassifier                0.511111  \n",
       "SGDClassifier                     0.418182  \n",
       "KNeighborsClassifier              0.337500  \n",
       "LogisticRegression                0.333333  \n",
       "GaussianNB                        0.202247  \n",
       "SVC                               0.373134  "
      ]
     },
     "execution_count": 87,
     "metadata": {},
     "output_type": "execute_result"
    }
   ],
   "source": [
    "#Résultat de l'entrainement\n",
    "resultat.set_index(\"Modele\")"
   ]
  },
  {
   "cell_type": "code",
   "execution_count": null,
   "metadata": {
    "colab": {
     "base_uri": "https://localhost:8080/"
    },
    "id": "fd6c4993-141c-4ff1-a8e7-8b417d3d25db",
    "outputId": "13d5320c-80fe-42df-e017-4c6ac209c0e1"
   },
   "outputs": [
    {
     "data": {
      "text/plain": [
       "<matplotlib.axes._subplots.AxesSubplot at 0x7f596e406450>"
      ]
     },
     "execution_count": 88,
     "metadata": {},
     "output_type": "execute_result"
    },
    {
     "data": {
      "image/png": "[encoded data removed]",
      "text/plain": [
       "<Figure size 864x576 with 1 Axes>"
      ]
     },
     "metadata": {},
     "output_type": "display_data"
    }
   ],
   "source": [
    "#Visualisation\n",
    "resultat.set_index(\"Modele\")[['F1_score_train','F1_score_test']].plot.bar()"
   ]
  },
  {
   "cell_type": "code",
   "execution_count": null,
   "metadata": {
    "id": "9f1167d6-c34c-4fa0-aba0-b6cee7f70d63"
   },
   "outputs": [],
   "source": [
    "#Entrainement par validation croisée d'une liste de modèles avec nos données équilibrées\n",
    "liste_model = [RandomForestClassifier, GradientBoostingClassifier,\n",
    "               AdaBoostClassifier, SGDClassifier, KNeighborsClassifier,\n",
    "               LogisticRegression, GaussianNB, SVC]\n",
    "resultat = cross_validation(liste_model,X_train_resampled, y_train_resampled)"
   ]
  },
  {
   "cell_type": "code",
   "execution_count": null,
   "metadata": {
    "colab": {
     "base_uri": "https://localhost:8080/"
    },
    "id": "aecef88d-c056-4b83-aa0b-fdf3670bcbda",
    "outputId": "a6434e2e-0d8a-402d-85a3-50c6590d15ec"
   },
   "outputs": [
    {
     "data": {
      "text/html": [
       "\n",
       "  <div id=\"df-898fab37-39a6-4cb4-b4c9-6a3ed0e7aa26\">\n",
       "    <div class=\"colab-df-container\">\n",
       "      <div>\n",
       "<style scoped>\n",
       "    .dataframe tbody tr th:only-of-type {\n",
       "        vertical-align: middle;\n",
       "    }\n",
       "\n",
       "    .dataframe tbody tr th {\n",
       "        vertical-align: top;\n",
       "    }\n",
       "\n",
       "    .dataframe thead th {\n",
       "        text-align: right;\n",
       "    }\n",
       "</style>\n",
       "<table border=\"1\" class=\"dataframe\">\n",
       "  <thead>\n",
       "    <tr style=\"text-align: right;\">\n",
       "      <th></th>\n",
       "      <th>temps_apprentissage</th>\n",
       "      <th>train_score</th>\n",
       "      <th>validation_score</th>\n",
       "    </tr>\n",
       "    <tr>\n",
       "      <th>modele</th>\n",
       "      <th></th>\n",
       "      <th></th>\n",
       "      <th></th>\n",
       "    </tr>\n",
       "  </thead>\n",
       "  <tbody>\n",
       "    <tr>\n",
       "      <th>RandomForestClassifier</th>\n",
       "      <td>0 H : 0 Min : 2 Sec</td>\n",
       "      <td>1.000000</td>\n",
       "      <td>0.920441</td>\n",
       "    </tr>\n",
       "    <tr>\n",
       "      <th>GradientBoostingClassifier</th>\n",
       "      <td>0 H : 0 Min : 1 Sec</td>\n",
       "      <td>0.949205</td>\n",
       "      <td>0.901086</td>\n",
       "    </tr>\n",
       "    <tr>\n",
       "      <th>AdaBoostClassifier</th>\n",
       "      <td>0 H : 0 Min : 1 Sec</td>\n",
       "      <td>0.900241</td>\n",
       "      <td>0.883207</td>\n",
       "    </tr>\n",
       "    <tr>\n",
       "      <th>SGDClassifier</th>\n",
       "      <td>0 H : 0 Min : 0 Sec</td>\n",
       "      <td>0.772233</td>\n",
       "      <td>0.765304</td>\n",
       "    </tr>\n",
       "    <tr>\n",
       "      <th>KNeighborsClassifier</th>\n",
       "      <td>0 H : 0 Min : 0 Sec</td>\n",
       "      <td>0.887344</td>\n",
       "      <td>0.841489</td>\n",
       "    </tr>\n",
       "    <tr>\n",
       "      <th>LogisticRegression</th>\n",
       "      <td>0 H : 0 Min : 0 Sec</td>\n",
       "      <td>0.782126</td>\n",
       "      <td>0.771437</td>\n",
       "    </tr>\n",
       "    <tr>\n",
       "      <th>GaussianNB</th>\n",
       "      <td>0 H : 0 Min : 0 Sec</td>\n",
       "      <td>0.723822</td>\n",
       "      <td>0.723282</td>\n",
       "    </tr>\n",
       "    <tr>\n",
       "      <th>SVC</th>\n",
       "      <td>0 H : 0 Min : 1 Sec</td>\n",
       "      <td>0.857339</td>\n",
       "      <td>0.826152</td>\n",
       "    </tr>\n",
       "  </tbody>\n",
       "</table>\n",
       "</div>\n",
       "      <button class=\"colab-df-convert\" onclick=\"convertToInteractive('df-898fab37-39a6-4cb4-b4c9-6a3ed0e7aa26')\"\n",
       "              title=\"Convert this dataframe to an interactive table.\"\n",
       "              style=\"display:none;\">\n",
       "        \n",
       "  <svg xmlns=\"http://www.w3.org/2000/svg\" height=\"24px\"viewBox=\"0 0 24 24\"\n",
       "       width=\"24px\">\n",
       "    <path d=\"M0 0h24v24H0V0z\" fill=\"none\"/>\n",
       "    <path d=\"M18.56 5.44l.94 2.06.94-2.06 2.06-.94-2.06-.94-.94-2.06-.94 2.06-2.06.94zm-11 1L8.5 8.5l.94-2.06 2.06-.94-2.06-.94L8.5 2.5l-.94 2.06-2.06.94zm10 10l.94 2.06.94-2.06 2.06-.94-2.06-.94-.94-2.06-.94 2.06-2.06.94z\"/><path d=\"M17.41 7.96l-1.37-1.37c-.4-.4-.92-.59-1.43-.59-.52 0-1.04.2-1.43.59L10.3 9.45l-7.72 7.72c-.78.78-.78 2.05 0 2.83L4 21.41c.39.39.9.59 1.41.59.51 0 1.02-.2 1.41-.59l7.78-7.78 2.81-2.81c.8-.78.8-2.07 0-2.86zM5.41 20L4 18.59l7.72-7.72 1.47 1.35L5.41 20z\"/>\n",
       "  </svg>\n",
       "      </button>\n",
       "      \n",
       "  <style>\n",
       "    .colab-df-container {\n",
       "      display:flex;\n",
       "      flex-wrap:wrap;\n",
       "      gap: 12px;\n",
       "    }\n",
       "\n",
       "    .colab-df-convert {\n",
       "      background-color: #E8F0FE;\n",
       "      border: none;\n",
       "      border-radius: 50%;\n",
       "      cursor: pointer;\n",
       "      display: none;\n",
       "      fill: #1967D2;\n",
       "      height: 32px;\n",
       "      padding: 0 0 0 0;\n",
       "      width: 32px;\n",
       "    }\n",
       "\n",
       "    .colab-df-convert:hover {\n",
       "      background-color: #E2EBFA;\n",
       "      box-shadow: 0px 1px 2px rgba(60, 64, 67, 0.3), 0px 1px 3px 1px rgba(60, 64, 67, 0.15);\n",
       "      fill: #174EA6;\n",
       "    }\n",
       "\n",
       "    [theme=dark] .colab-df-convert {\n",
       "      background-color: #3B4455;\n",
       "      fill: #D2E3FC;\n",
       "    }\n",
       "\n",
       "    [theme=dark] .colab-df-convert:hover {\n",
       "      background-color: #434B5C;\n",
       "      box-shadow: 0px 1px 3px 1px rgba(0, 0, 0, 0.15);\n",
       "      filter: drop-shadow(0px 1px 2px rgba(0, 0, 0, 0.3));\n",
       "      fill: #FFFFFF;\n",
       "    }\n",
       "  </style>\n",
       "\n",
       "      <script>\n",
       "        const buttonEl =\n",
       "          document.querySelector('#df-898fab37-39a6-4cb4-b4c9-6a3ed0e7aa26 button.colab-df-convert');\n",
       "        buttonEl.style.display =\n",
       "          google.colab.kernel.accessAllowed ? 'block' : 'none';\n",
       "\n",
       "        async function convertToInteractive(key) {\n",
       "          const element = document.querySelector('#df-898fab37-39a6-4cb4-b4c9-6a3ed0e7aa26');\n",
       "          const dataTable =\n",
       "            await google.colab.kernel.invokeFunction('convertToInteractive',\n",
       "                                                     [key], {});\n",
       "          if (!dataTable) return;\n",
       "\n",
       "          const docLinkHtml = 'Like what you see? Visit the ' +\n",
       "            '<a target=\"_blank\" href=https://colab.research.google.com/notebooks/data_table.ipynb>data table notebook</a>'\n",
       "            + ' to learn more about interactive tables.';\n",
       "          element.innerHTML = '';\n",
       "          dataTable['output_type'] = 'display_data';\n",
       "          await google.colab.output.renderOutput(dataTable, element);\n",
       "          const docLink = document.createElement('div');\n",
       "          docLink.innerHTML = docLinkHtml;\n",
       "          element.appendChild(docLink);\n",
       "        }\n",
       "      </script>\n",
       "    </div>\n",
       "  </div>\n",
       "  "
      ],
      "text/plain": [
       "                            temps_apprentissage  train_score  validation_score\n",
       "modele                                                                        \n",
       "RandomForestClassifier      0 H : 0 Min : 2 Sec     1.000000          0.920441\n",
       "GradientBoostingClassifier  0 H : 0 Min : 1 Sec     0.949205          0.901086\n",
       "AdaBoostClassifier          0 H : 0 Min : 1 Sec     0.900241          0.883207\n",
       "SGDClassifier               0 H : 0 Min : 0 Sec     0.772233          0.765304\n",
       "KNeighborsClassifier        0 H : 0 Min : 0 Sec     0.887344          0.841489\n",
       "LogisticRegression          0 H : 0 Min : 0 Sec     0.782126          0.771437\n",
       "GaussianNB                  0 H : 0 Min : 0 Sec     0.723822          0.723282\n",
       "SVC                         0 H : 0 Min : 1 Sec     0.857339          0.826152"
      ]
     },
     "execution_count": 90,
     "metadata": {},
     "output_type": "execute_result"
    }
   ],
   "source": [
    "#Résultat de l'entrainement\n",
    "resultat.set_index(\"modele\")"
   ]
  },
  {
   "cell_type": "code",
   "execution_count": null,
   "metadata": {
    "colab": {
     "base_uri": "https://localhost:8080/"
    },
    "id": "0a24bffd-28b9-42ed-bac4-4f003377f197",
    "outputId": "1ed1f8c7-8008-4052-af51-5426dbba7b29"
   },
   "outputs": [
    {
     "data": {
      "text/plain": [
       "<matplotlib.axes._subplots.AxesSubplot at 0x7f596d5c5fd0>"
      ]
     },
     "execution_count": 91,
     "metadata": {},
     "output_type": "execute_result"
    },
    {
     "data": {
      "image/png": "[encoded data removed]",
      "text/plain": [
       "<Figure size 864x576 with 1 Axes>"
      ]
     },
     "metadata": {},
     "output_type": "display_data"
    }
   ],
   "source": [
    "#Visualisation\n",
    "resultat.set_index(\"modele\")[['train_score','validation_score']].plot.bar()"
   ]
  },
  {
   "cell_type": "markdown",
   "metadata": {
    "id": "2eaa2908-1e63-48b5-9a6e-9a5456591aee"
   },
   "source": [
    ">>> #### **Remarquez que l'entrainement des différents modèles est un peu plus amélioré par la validation croisée. Nous retenons l'AdaBoostClassifier comme modèle final qui semble plus robuste vu son score et son sens de la généralisation acceptable.**"
   ]
  },
  {
   "cell_type": "markdown",
   "metadata": {
    "id": "640da3dc-2749-49ab-99ed-a3ad00966945"
   },
   "source": [
    "> ## **4. Optimisation**"
   ]
  },
  {
   "cell_type": "code",
   "execution_count": null,
   "metadata": {
    "id": "ac879843-7ef1-440c-b003-1b5d6febe075"
   },
   "outputs": [],
   "source": [
    "#Instanciation de notre modèle retenu\n",
    "adaboost = AdaBoostClassifier()"
   ]
  },
  {
   "cell_type": "code",
   "execution_count": null,
   "metadata": {
    "id": "c5cc338a-5a05-4a16-9e07-fcbb7fb99757"
   },
   "outputs": [],
   "source": [
    "#Définition des hypermparamètres à optimiser\n",
    "params = {\n",
    "         \"algorithm\" : ['SAMME', 'SAMME.R'],\n",
    "    \"base_estimator\" : [RandomForestClassifier(), DecisionTreeClassifier()],\n",
    "      \"n_estimators\" : [ 100,150, 200],\n",
    "     \"learning_rate\" : [1, 0.1, 0.01],\n",
    "\n",
    "}"
   ]
  },
  {
   "cell_type": "code",
   "execution_count": null,
   "metadata": {
    "id": "93e10cc7-171e-4913-882a-1108e636601c"
   },
   "outputs": [],
   "source": [
    "#Optimisation par GridSearchCV\n",
    "cv = StratifiedKFold(n_splits=3, random_state=None, shuffle=False)\n",
    "cv_adaboost = GridSearchCV(adaboost, params, n_jobs=-1, scoring = 'f1', cv = cv).fit(X_train_resampled, y_train_resampled)"
   ]
  },
  {
   "cell_type": "code",
   "execution_count": null,
   "metadata": {
    "colab": {
     "base_uri": "https://localhost:8080/"
    },
    "id": "887ddfe3-d1be-4548-ae34-cc9de7f08bc5",
    "outputId": "0a0b64fa-fab3-4805-db25-181e09f85eb6"
   },
   "outputs": [
    {
     "name": "stdout",
     "output_type": "stream",
     "text": [
      "{'algorithm': 'SAMME.R', 'base_estimator': RandomForestClassifier(), 'learning_rate': 0.01, 'n_estimators': 100}\n"
     ]
    }
   ],
   "source": [
    "print(cv_adaboost.best_params_)"
   ]
  },
  {
   "cell_type": "code",
   "execution_count": null,
   "metadata": {
    "colab": {
     "base_uri": "https://localhost:8080/"
    },
    "id": "d200beae-cdcf-4f5f-9c73-7c4b9757f5b5",
    "outputId": "c2735ef6-9102-49b6-f14b-ded15e99d304"
   },
   "outputs": [
    {
     "data": {
      "text/plain": [
       "AdaBoostClassifier(base_estimator=RandomForestClassifier(), learning_rate=0.01,\n",
       "                   n_estimators=100)"
      ]
     },
     "execution_count": 96,
     "metadata": {},
     "output_type": "execute_result"
    }
   ],
   "source": [
    "#Entrainement du modèle final avec les meilleurs hyperparamètres\n",
    "adaboost_final = AdaBoostClassifier( **cv_adaboost.best_params_)\n",
    "adaboost_final.fit(X_train_resampled, y_train_resampled)"
   ]
  },
  {
   "cell_type": "code",
   "execution_count": null,
   "metadata": {
    "id": "96d331f5-2082-4eff-b77e-1b90c2f9577e"
   },
   "outputs": [],
   "source": [
    "#Calcul des Predictions par rapport à nos données de test pour déterminer les scores\n",
    "y_pred = adaboost_final.predict(X_test_scaled)"
   ]
  },
  {
   "cell_type": "code",
   "execution_count": null,
   "metadata": {
    "colab": {
     "base_uri": "https://localhost:8080/"
    },
    "id": "1a3d8aa9-ce8e-4d33-8a97-802040aadee4",
    "outputId": "cc18e06d-8d0b-4dd9-bdc9-b165ed84f772"
   },
   "outputs": [
    {
     "data": {
      "text/plain": [
       "38.80597014925373"
      ]
     },
     "execution_count": 98,
     "metadata": {},
     "output_type": "execute_result"
    }
   ],
   "source": [
    "#F1_score\n",
    "f1_score(y_test, y_pred)*100"
   ]
  },
  {
   "cell_type": "code",
   "execution_count": null,
   "metadata": {
    "colab": {
     "base_uri": "https://localhost:8080/"
    },
    "id": "b6cb1746-dcdf-422e-99c0-3d3b3db64b2b",
    "outputId": "c9f7e2cb-679e-493b-f763-0335815e4abc"
   },
   "outputs": [
    {
     "data": {
      "text/plain": [
       "27.659574468085108"
      ]
     },
     "execution_count": 99,
     "metadata": {},
     "output_type": "execute_result"
    }
   ],
   "source": [
    "#Rappel\n",
    "recall_score(y_test, y_pred)*100"
   ]
  },
  {
   "cell_type": "code",
   "execution_count": null,
   "metadata": {
    "colab": {
     "base_uri": "https://localhost:8080/"
    },
    "id": "1b35da7b-b6b9-4c40-853c-65c7beb25a1f",
    "outputId": "3403eaa6-a984-4a94-b284-0c3ff748910b"
   },
   "outputs": [
    {
     "data": {
      "text/plain": [
       "65.0"
      ]
     },
     "execution_count": 100,
     "metadata": {},
     "output_type": "execute_result"
    }
   ],
   "source": [
    "#Precision\n",
    "precision_score(y_test,y_pred)*100"
   ]
  },
  {
   "cell_type": "code",
   "execution_count": null,
   "metadata": {
    "colab": {
     "base_uri": "https://localhost:8080/"
    },
    "id": "7b482985-0893-49f4-9e8e-2563e4b15613",
    "outputId": "4e0a7acd-3627-4659-ee51-dedf95cba21a"
   },
   "outputs": [
    {
     "name": "stdout",
     "output_type": "stream",
     "text": [
      "              precision    recall  f1-score   support\n",
      "\n",
      "           0       0.88      0.97      0.92       247\n",
      "           1       0.65      0.28      0.39        47\n",
      "\n",
      "    accuracy                           0.86       294\n",
      "   macro avg       0.76      0.62      0.65       294\n",
      "weighted avg       0.84      0.86      0.84       294\n",
      "\n"
     ]
    }
   ],
   "source": [
    "#Rapport de classification\n",
    "print(classification_report(y_test, y_pred))"
   ]
  },
  {
   "cell_type": "code",
   "execution_count": null,
   "metadata": {
    "colab": {
     "base_uri": "https://localhost:8080/"
    },
    "id": "f0f2982f-a0bc-487d-b564-43153f8c7308",
    "outputId": "546b3a0a-5cdd-4539-da19-972dd3db0da3"
   },
   "outputs": [
    {
     "data": {
      "text/plain": [
       "Attrition\n",
       "0            247\n",
       "1             47\n",
       "dtype: int64"
      ]
     },
     "execution_count": 102,
     "metadata": {},
     "output_type": "execute_result"
    }
   ],
   "source": [
    "#Proportions par rapport aux données de test\n",
    "y_test.value_counts()"
   ]
  },
  {
   "cell_type": "code",
   "execution_count": null,
   "metadata": {
    "colab": {
     "base_uri": "https://localhost:8080/",
     "height": 500
    },
    "id": "927e4ae4-2a8a-4631-8d30-8e6f44ec79b9",
    "outputId": "8f3a20e7-8176-4aa7-b24c-6c56a38f425e"
   },
   "outputs": [
    {
     "data": {
      "text/plain": [
       "<matplotlib.axes._subplots.AxesSubplot at 0x7f5978a04a50>"
      ]
     },
     "execution_count": 103,
     "metadata": {},
     "output_type": "execute_result"
    },
    {
     "data": {
      "image/png": "[encoded data removed]",
      "text/plain": [
       "<Figure size 864x576 with 2 Axes>"
      ]
     },
     "metadata": {},
     "output_type": "display_data"
    }
   ],
   "source": [
    "#Matrice de confusion\n",
    "sns.heatmap(confusion_matrix(y_test, y_pred), annot = True, fmt='g')"
   ]
  },
  {
   "cell_type": "markdown",
   "metadata": {
    "id": "7c5391af-2924-4c9a-83ba-3f98fef32f8b"
   },
   "source": [
    ">>> #### **Malgré les techniques utilisées, le pouvoir prédictif de notre modèle est toujours bas (41,17%). Nous allons utiliser par la suite un algorithme génétique afin d'avoir un meilleur résultat.**"
   ]
  },
  {
   "cell_type": "markdown",
   "metadata": {
    "id": "6ae40a12-8cff-433e-8b96-0809d2b76c39"
   },
   "source": [
    "> ## **5. Algorithme Génétique**"
   ]
  },
  {
   "cell_type": "markdown",
   "metadata": {
    "id": "a869a2e7-6ddb-4233-a470-4b928d9061f0"
   },
   "source": [
    "TPOT (Tree-based Pipeline Optimization Tool) est un outil AutoML spécialement conçu pour la construction efficace de pipelines optimaux grâce à la programmation génétique. TPOT est et bibliothèque open source et utilise scikit-learn composants pour la transformation des données , la décomposition de fonction , la sélection des fonctionnalités et la sélection du modèle.\n",
    "\n",
    "Bien que TPOT soit classé comme un outil AutoML , en tant que tel, il n'offre pas le « bout en bout » d'un pipeline ML. TPOT se concentre simplement sur l'automatisation optimisée de composants spécifiques d'un pipeline ML.\n",
    "\n",
    "Pour plus de détails concernant TPOT veuillez consulter le site suivant : https://ichi.pro/fr/tpot-optimisation-des-pipelines-avec-des-algorithmes-genetiques-95572768812766"
   ]
  },
  {
   "cell_type": "code",
   "execution_count": null,
   "metadata": {
    "colab": {
     "base_uri": "https://localhost:8080/"
    },
    "id": "d065bb68-712f-4982-b5be-0a4eb64223bf",
    "outputId": "c1370ffb-c05c-45b6-8c45-c458c3023b86"
   },
   "outputs": [
    {
     "name": "stdout",
     "output_type": "stream",
     "text": [
      "Looking in indexes: https://pypi.org/simple, https://us-python.pkg.dev/colab-wheels/public/simple/\n",
      "Collecting tpot\n",
      "  Downloading TPOT-0.11.7-py3-none-any.whl (87 kB)\n",
      "\u001b[K     |████████████████████████████████| 87 kB 3.1 MB/s \n",
      "\u001b[?25hRequirement already satisfied: joblib>=0.13.2 in /usr/local/lib/python3.7/dist-packages (from tpot) (1.1.0)\n",
      "Collecting update-checker>=0.16\n",
      "  Downloading update_checker-0.18.0-py3-none-any.whl (7.0 kB)\n",
      "Collecting stopit>=1.1.1\n",
      "  Downloading stopit-1.1.2.tar.gz (18 kB)\n",
      "Requirement already satisfied: pandas>=0.24.2 in /usr/local/lib/python3.7/dist-packages (from tpot) (1.3.5)\n",
      "Requirement already satisfied: scikit-learn>=0.22.0 in /usr/local/lib/python3.7/dist-packages (from tpot) (1.0.2)\n",
      "Requirement already satisfied: scipy>=1.3.1 in /usr/local/lib/python3.7/dist-packages (from tpot) (1.7.3)\n",
      "Collecting xgboost>=1.1.0\n",
      "  Downloading xgboost-1.6.1-py3-none-manylinux2014_x86_64.whl (192.9 MB)\n",
      "\u001b[K     |████████████████████████████████| 192.9 MB 77 kB/s \n",
      "\u001b[?25hRequirement already satisfied: numpy>=1.16.3 in /usr/local/lib/python3.7/dist-packages (from tpot) (1.21.6)\n",
      "Collecting deap>=1.2\n",
      "  Downloading deap-1.3.3-cp37-cp37m-manylinux_2_5_x86_64.manylinux1_x86_64.manylinux_2_17_x86_64.manylinux2014_x86_64.whl (139 kB)\n",
      "\u001b[K     |████████████████████████████████| 139 kB 23.6 MB/s \n",
      "\u001b[?25hRequirement already satisfied: tqdm>=4.36.1 in /usr/local/lib/python3.7/dist-packages (from tpot) (4.64.0)\n",
      "Requirement already satisfied: python-dateutil>=2.7.3 in /usr/local/lib/python3.7/dist-packages (from pandas>=0.24.2->tpot) (2.8.2)\n",
      "Requirement already satisfied: pytz>=2017.3 in /usr/local/lib/python3.7/dist-packages (from pandas>=0.24.2->tpot) (2022.1)\n",
      "Requirement already satisfied: six>=1.5 in /usr/local/lib/python3.7/dist-packages (from python-dateutil>=2.7.3->pandas>=0.24.2->tpot) (1.15.0)\n",
      "Requirement already satisfied: threadpoolctl>=2.0.0 in /usr/local/lib/python3.7/dist-packages (from scikit-learn>=0.22.0->tpot) (3.1.0)\n",
      "Requirement already satisfied: requests>=2.3.0 in /usr/local/lib/python3.7/dist-packages (from update-checker>=0.16->tpot) (2.23.0)\n",
      "Requirement already satisfied: urllib3!=1.25.0,!=1.25.1,<1.26,>=1.21.1 in /usr/local/lib/python3.7/dist-packages (from requests>=2.3.0->update-checker>=0.16->tpot) (1.24.3)\n",
      "Requirement already satisfied: certifi>=2017.4.17 in /usr/local/lib/python3.7/dist-packages (from requests>=2.3.0->update-checker>=0.16->tpot) (2022.6.15)\n",
      "Requirement already satisfied: idna<3,>=2.5 in /usr/local/lib/python3.7/dist-packages (from requests>=2.3.0->update-checker>=0.16->tpot) (2.10)\n",
      "Requirement already satisfied: chardet<4,>=3.0.2 in /usr/local/lib/python3.7/dist-packages (from requests>=2.3.0->update-checker>=0.16->tpot) (3.0.4)\n",
      "Building wheels for collected packages: stopit\n",
      "  Building wheel for stopit (setup.py) ... \u001b[?25l\u001b[?25hdone\n",
      "  Created wheel for stopit: filename=stopit-1.1.2-py3-none-any.whl size=11956 sha256=7d124dae5e0ceef854dfc73c33cf2990761bfbb39a19ad2185ccf199cd76e9c7\n",
      "  Stored in directory: /root/.cache/pip/wheels/e2/d2/79/eaf81edb391e27c87f51b8ef901ecc85a5363dc96b8b8d71e3\n",
      "Successfully built stopit\n",
      "Installing collected packages: xgboost, update-checker, stopit, deap, tpot\n",
      "  Attempting uninstall: xgboost\n",
      "    Found existing installation: xgboost 0.90\n",
      "    Uninstalling xgboost-0.90:\n",
      "      Successfully uninstalled xgboost-0.90\n",
      "Successfully installed deap-1.3.3 stopit-1.1.2 tpot-0.11.7 update-checker-0.18.0 xgboost-1.6.1\n"
     ]
    }
   ],
   "source": [
    "#pip install tpot"
   ]
  },
  {
   "cell_type": "code",
   "execution_count": null,
   "metadata": {
    "id": "A-xUa55NBMjX"
   },
   "outputs": [],
   "source": [
    "#Importation de l'estimateur\n",
    "from tpot import TPOTClassifier"
   ]
  },
  {
   "cell_type": "code",
   "execution_count": null,
   "metadata": {
    "id": "c6eecea6-795c-4cfa-981e-845870de0fb6"
   },
   "outputs": [],
   "source": [
    "#Instanciation\n",
    "modele = TPOTClassifier(generations = 100, population_size = 100, cv = None, n_jobs = -1, verbosity = 2, scoring = 'f1')"
   ]
  },
  {
   "cell_type": "code",
   "execution_count": null,
   "metadata": {
    "colab": {
     "background_save": true,
     "base_uri": "https://localhost:8080/",
     "height": 605,
     "referenced_widgets": [
      "285fb21adb414b6cb4d5a4a7480e5193",
      "eddb9e667a1e4bc990b74557d10652a2",
      "709e1f1aa15643f0a3336c5d69118f26",
      "be4929e5cdd44aa1a565d3cae92da102",
      "03bbd941f5fc4be8bf10b59dd7cf17a7",
      "449eab38a9414f9a951694f04a774217",
      "188758b06a9c4582b1f9f7bb9d2155db",
      "01a6d99180644a358b48e046de1b51f3",
      "02b664ec88f94d6cb5deedddc5a028e2",
      "2ef4848099ed4ee4ac83ad464b873bae",
      "67d66ed77ea64d979fe981c88da89fb0"
     ]
    },
    "id": "26ae3f9b-f9fd-4725-a475-5af3a884848f",
    "outputId": "16db129f-10bb-4d55-e219-b6ead8adfdcd"
   },
   "outputs": [
    {
     "data": {
      "application/vnd.jupyter.widget-view+json": {
       "model_id": "285fb21adb414b6cb4d5a4a7480e5193",
       "version_major": 2,
       "version_minor": 0
      },
      "text/plain": [
       "Optimization Progress:   0%|          | 0/10100 [00:00<?, ?pipeline/s]"
      ]
     },
     "metadata": {},
     "output_type": "display_data"
    },
    {
     "name": "stdout",
     "output_type": "stream",
     "text": [
      "\n",
      "Generation 1 - Current best internal CV score: 0.49440065853206294\n",
      "\n",
      "Generation 2 - Current best internal CV score: 0.49440065853206294\n",
      "\n",
      "Generation 3 - Current best internal CV score: 0.5092641680075467\n",
      "\n",
      "Generation 4 - Current best internal CV score: 0.5092641680075467\n",
      "\n",
      "Generation 5 - Current best internal CV score: 0.514948920212078\n",
      "\n",
      "Generation 6 - Current best internal CV score: 0.514948920212078\n",
      "\n",
      "Generation 7 - Current best internal CV score: 0.5158695362202852\n",
      "\n",
      "Generation 8 - Current best internal CV score: 0.5158695362202852\n",
      "\n",
      "Generation 9 - Current best internal CV score: 0.5183492206947911\n",
      "\n",
      "Generation 10 - Current best internal CV score: 0.5244739921913835\n",
      "\n",
      "Generation 11 - Current best internal CV score: 0.5244739921913835\n",
      "\n",
      "Generation 12 - Current best internal CV score: 0.5244739921913835\n",
      "\n",
      "Generation 13 - Current best internal CV score: 0.5256224402469589\n",
      "\n",
      "Generation 14 - Current best internal CV score: 0.5257284612072796\n",
      "\n",
      "Generation 15 - Current best internal CV score: 0.5365968985308307\n",
      "\n",
      "Generation 16 - Current best internal CV score: 0.5365968985308307\n",
      "\n",
      "Generation 17 - Current best internal CV score: 0.5365968985308307\n",
      "\n",
      "Generation 18 - Current best internal CV score: 0.538393913111251\n",
      "\n",
      "Generation 19 - Current best internal CV score: 0.538393913111251\n",
      "\n",
      "Generation 20 - Current best internal CV score: 0.538393913111251\n",
      "\n",
      "Generation 21 - Current best internal CV score: 0.538393913111251\n",
      "\n",
      "Generation 22 - Current best internal CV score: 0.538393913111251\n",
      "\n",
      "Generation 23 - Current best internal CV score: 0.538393913111251\n",
      "\n",
      "Generation 24 - Current best internal CV score: 0.538393913111251\n",
      "\n",
      "Generation 25 - Current best internal CV score: 0.538393913111251\n",
      "\n",
      "Generation 26 - Current best internal CV score: 0.539682801156933\n",
      "\n",
      "Generation 27 - Current best internal CV score: 0.539682801156933\n",
      "\n",
      "Generation 28 - Current best internal CV score: 0.5397821100630582\n",
      "\n",
      "Generation 29 - Current best internal CV score: 0.5397821100630582\n",
      "\n",
      "Generation 30 - Current best internal CV score: 0.5397821100630582\n",
      "\n",
      "Generation 31 - Current best internal CV score: 0.5403165909124791\n",
      "\n",
      "Generation 32 - Current best internal CV score: 0.5403165909124791\n",
      "\n",
      "Generation 33 - Current best internal CV score: 0.5403165909124791\n"
     ]
    }
   ],
   "source": [
    "#Entrainement avec les données déséquilibrée\n",
    "modele.fit(X_train_scaled, y_train)"
   ]
  },
  {
   "cell_type": "code",
   "execution_count": null,
   "metadata": {
    "id": "1f010956-b56a-4d83-a1a9-456a0e34f2d4"
   },
   "outputs": [],
   "source": [
    "round(modele.score(X_test_scaled, y_test), ndigits=2)*100"
   ]
  },
  {
   "cell_type": "code",
   "execution_count": null,
   "metadata": {
    "id": "7285de89-c0da-4df6-89e5-6835507e9af4"
   },
   "outputs": [],
   "source": [
    "modele.export('tpot_classifier.py')"
   ]
  },
  {
   "cell_type": "code",
   "execution_count": null,
   "metadata": {
    "id": "512f6a34-3109-47bd-a726-199f539eb5ca"
   },
   "outputs": [],
   "source": [
    "print(classification_report(y_test, modele.predict(X_test_scaled)))"
   ]
  },
  {
   "cell_type": "code",
   "execution_count": null,
   "metadata": {
    "id": "c5f872c6-2392-4db1-bc93-6fed425816bc"
   },
   "outputs": [],
   "source": [
    "#Matrice de confusion\n",
    "sns.heatmap(confusion_matrix(y_test, modele.predict(X_test_scaled)), annot = True, fmt='g')"
   ]
  },
  {
   "cell_type": "markdown",
   "metadata": {
    "id": "852239b1-50d3-428b-81af-536233390a31"
   },
   "source": [
    ">>> #### **Avec l'algorithme génétique TPOT, nous sommes passés d'une performance de 41,17% à 50%. Néanmoins, nous ne pouvons pas dire que le modèle est performant.**"
   ]
  },
  {
   "cell_type": "markdown",
   "metadata": {
    "id": "27f5b6d7-5fb6-48da-bc3c-530e27317e63"
   },
   "source": [
    "Ce notebook est de base conçu pour vous permettre de comprendre certaines techniques telles que, la selection de variable par des tests statistiques, l'encodage de variable (Ordinal et OneHot), la normalisation, le rééchantillonnage, etc."
   ]
  }
 ],
 "metadata": {
  "colab": {
   "collapsed_sections": [
    "2772e8cb-8b86-4d0c-aa8e-7d634aa370e0",
    "ee45651c-ac79-46c6-8f4f-b9175530a948",
    "69e6821c-647f-4bab-8877-d11c836ada98",
    "9063626c-30db-4afa-9045-42a117a86517",
    "693abbe6-23d8-4679-a1bf-c91135178080",
    "555da1c0-74ce-46ad-8447-e940d2fc00b6",
    "55f564c1-b708-4531-8904-c48eb69110e0",
    "1c2f5805-d887-4353-adc5-da0fefab5c4f",
    "980c173a-ec68-4de1-8474-5c9436facf4d",
    "935efb48-f754-4ffe-a57c-3d2dbc02b153",
    "615245db-1c06-4de4-8b5b-0182e69a45fd",
    "e09bb913-2df8-4065-8f45-b2f18aff967e",
    "1eaa5c31-526b-479a-8b45-e7e57fed7e32",
    "81eee476-8cbf-46f2-bbf3-7ab218fafe80",
    "001193c7-7a11-40f9-844c-4fd1b66c3135",
    "8fbd7019-12b2-44c6-9624-3224b6a065b4",
    "9b8dc6d8-b520-4691-9002-ef4333cf08db",
    "1dcc4a91-5cce-4fd1-8726-e7857665fdc2",
    "ea4ac8b2-73fd-43eb-b261-81bec2969660",
    "9029b2f3-fcbb-46dd-bdf8-b81b00fbb727",
    "a15f4988-6478-42e4-b376-4276df6c584a",
    "ae05ab6e-f96a-4e2a-a034-ddd89359b89b",
    "f90147fd-5210-416d-aaef-2df0d836b4a9",
    "25436e37-b93c-4ec3-8ec1-f60730fdcc21",
    "67b4488c-d79e-4cad-b8ba-09e547465e00",
    "a99242b8-2e32-4a03-a98c-d6613419762f",
    "c704696a-e4f3-4278-b1c4-3cd4538e12f8",
    "89cc9824-9dbe-471e-b0b9-f365de4e5bf3",
    "0863594f-4cb4-420c-80d2-f06c5f2a3e37",
    "d4b8c8bc-b293-4d5c-9ff9-c1b00b4b6908",
    "6cd3b3df-793d-4836-b8c8-c606226910a7",
    "69d9f34e-d484-4ed5-a388-34005a63f3d0",
    "2eaa2908-1e63-48b5-9a6e-9a5456591aee",
    "7c5391af-2924-4c9a-83ba-3f98fef32f8b"
   ],
   "name": "Analyse_medicament.ipynb",
   "provenance": []
  },
  "kernelspec": {
   "display_name": "Python 3",
   "language": "python",
   "name": "python3"
  },
  "language_info": {
   "codemirror_mode": {
    "name": "ipython",
    "version": 3
   },
   "file_extension": ".py",
   "mimetype": "text/x-python",
   "name": "python",
   "nbconvert_exporter": "python",
   "pygments_lexer": "ipython3",
   "version": "3.8.10"
  },
  "widgets": {
   "application/vnd.jupyter.widget-state+json": {
    "01a6d99180644a358b48e046de1b51f3": {
     "model_module": "@jupyter-widgets/base",
     "model_module_version": "1.2.0",
     "model_name": "LayoutModel",
     "state": {
      "_model_module": "@jupyter-widgets/base",
      "_model_module_version": "1.2.0",
      "_model_name": "LayoutModel",
      "_view_count": null,
      "_view_module": "@jupyter-widgets/base",
      "_view_module_version": "1.2.0",
      "_view_name": "LayoutView",
      "align_content": null,
      "align_items": null,
      "align_self": null,
      "border": null,
      "bottom": null,
      "display": null,
      "flex": null,
      "flex_flow": null,
      "grid_area": null,
      "grid_auto_columns": null,
      "grid_auto_flow": null,
      "grid_auto_rows": null,
      "grid_column": null,
      "grid_gap": null,
      "grid_row": null,
      "grid_template_areas": null,
      "grid_template_columns": null,
      "grid_template_rows": null,
      "height": null,
      "justify_content": null,
      "justify_items": null,
      "left": null,
      "margin": null,
      "max_height": null,
      "max_width": null,
      "min_height": null,
      "min_width": null,
      "object_fit": null,
      "object_position": null,
      "order": null,
      "overflow": null,
      "overflow_x": null,
      "overflow_y": null,
      "padding": null,
      "right": null,
      "top": null,
      "visibility": null,
      "width": null
     }
    },
    "02b664ec88f94d6cb5deedddc5a028e2": {
     "model_module": "@jupyter-widgets/controls",
     "model_module_version": "1.5.0",
     "model_name": "ProgressStyleModel",
     "state": {
      "_model_module": "@jupyter-widgets/controls",
      "_model_module_version": "1.5.0",
      "_model_name": "ProgressStyleModel",
      "_view_count": null,
      "_view_module": "@jupyter-widgets/base",
      "_view_module_version": "1.2.0",
      "_view_name": "StyleView",
      "bar_color": null,
      "description_width": ""
     }
    },
    "03bbd941f5fc4be8bf10b59dd7cf17a7": {
     "model_module": "@jupyter-widgets/base",
     "model_module_version": "1.2.0",
     "model_name": "LayoutModel",
     "state": {
      "_model_module": "@jupyter-widgets/base",
      "_model_module_version": "1.2.0",
      "_model_name": "LayoutModel",
      "_view_count": null,
      "_view_module": "@jupyter-widgets/base",
      "_view_module_version": "1.2.0",
      "_view_name": "LayoutView",
      "align_content": null,
      "align_items": null,
      "align_self": null,
      "border": null,
      "bottom": null,
      "display": null,
      "flex": null,
      "flex_flow": null,
      "grid_area": null,
      "grid_auto_columns": null,
      "grid_auto_flow": null,
      "grid_auto_rows": null,
      "grid_column": null,
      "grid_gap": null,
      "grid_row": null,
      "grid_template_areas": null,
      "grid_template_columns": null,
      "grid_template_rows": null,
      "height": null,
      "justify_content": null,
      "justify_items": null,
      "left": null,
      "margin": null,
      "max_height": null,
      "max_width": null,
      "min_height": null,
      "min_width": null,
      "object_fit": null,
      "object_position": null,
      "order": null,
      "overflow": null,
      "overflow_x": null,
      "overflow_y": null,
      "padding": null,
      "right": null,
      "top": null,
      "visibility": null,
      "width": null
     }
    },
    "188758b06a9c4582b1f9f7bb9d2155db": {
     "model_module": "@jupyter-widgets/controls",
     "model_module_version": "1.5.0",
     "model_name": "DescriptionStyleModel",
     "state": {
      "_model_module": "@jupyter-widgets/controls",
      "_model_module_version": "1.5.0",
      "_model_name": "DescriptionStyleModel",
      "_view_count": null,
      "_view_module": "@jupyter-widgets/base",
      "_view_module_version": "1.2.0",
      "_view_name": "StyleView",
      "description_width": ""
     }
    },
    "285fb21adb414b6cb4d5a4a7480e5193": {
     "model_module": "@jupyter-widgets/controls",
     "model_module_version": "1.5.0",
     "model_name": "HBoxModel",
     "state": {
      "_dom_classes": [],
      "_model_module": "@jupyter-widgets/controls",
      "_model_module_version": "1.5.0",
      "_model_name": "HBoxModel",
      "_view_count": null,
      "_view_module": "@jupyter-widgets/controls",
      "_view_module_version": "1.5.0",
      "_view_name": "HBoxView",
      "box_style": "",
      "children": [
       "IPY_MODEL_eddb9e667a1e4bc990b74557d10652a2",
       "IPY_MODEL_709e1f1aa15643f0a3336c5d69118f26",
       "IPY_MODEL_be4929e5cdd44aa1a565d3cae92da102"
      ],
      "layout": "IPY_MODEL_03bbd941f5fc4be8bf10b59dd7cf17a7"
     }
    },
    "2ef4848099ed4ee4ac83ad464b873bae": {
     "model_module": "@jupyter-widgets/base",
     "model_module_version": "1.2.0",
     "model_name": "LayoutModel",
     "state": {
      "_model_module": "@jupyter-widgets/base",
      "_model_module_version": "1.2.0",
      "_model_name": "LayoutModel",
      "_view_count": null,
      "_view_module": "@jupyter-widgets/base",
      "_view_module_version": "1.2.0",
      "_view_name": "LayoutView",
      "align_content": null,
      "align_items": null,
      "align_self": null,
      "border": null,
      "bottom": null,
      "display": null,
      "flex": null,
      "flex_flow": null,
      "grid_area": null,
      "grid_auto_columns": null,
      "grid_auto_flow": null,
      "grid_auto_rows": null,
      "grid_column": null,
      "grid_gap": null,
      "grid_row": null,
      "grid_template_areas": null,
      "grid_template_columns": null,
      "grid_template_rows": null,
      "height": null,
      "justify_content": null,
      "justify_items": null,
      "left": null,
      "margin": null,
      "max_height": null,
      "max_width": null,
      "min_height": null,
      "min_width": null,
      "object_fit": null,
      "object_position": null,
      "order": null,
      "overflow": null,
      "overflow_x": null,
      "overflow_y": null,
      "padding": null,
      "right": null,
      "top": null,
      "visibility": null,
      "width": null
     }
    },
    "449eab38a9414f9a951694f04a774217": {
     "model_module": "@jupyter-widgets/base",
     "model_module_version": "1.2.0",
     "model_name": "LayoutModel",
     "state": {
      "_model_module": "@jupyter-widgets/base",
      "_model_module_version": "1.2.0",
      "_model_name": "LayoutModel",
      "_view_count": null,
      "_view_module": "@jupyter-widgets/base",
      "_view_module_version": "1.2.0",
      "_view_name": "LayoutView",
      "align_content": null,
      "align_items": null,
      "align_self": null,
      "border": null,
      "bottom": null,
      "display": null,
      "flex": null,
      "flex_flow": null,
      "grid_area": null,
      "grid_auto_columns": null,
      "grid_auto_flow": null,
      "grid_auto_rows": null,
      "grid_column": null,
      "grid_gap": null,
      "grid_row": null,
      "grid_template_areas": null,
      "grid_template_columns": null,
      "grid_template_rows": null,
      "height": null,
      "justify_content": null,
      "justify_items": null,
      "left": null,
      "margin": null,
      "max_height": null,
      "max_width": null,
      "min_height": null,
      "min_width": null,
      "object_fit": null,
      "object_position": null,
      "order": null,
      "overflow": null,
      "overflow_x": null,
      "overflow_y": null,
      "padding": null,
      "right": null,
      "top": null,
      "visibility": null,
      "width": null
     }
    },
    "67d66ed77ea64d979fe981c88da89fb0": {
     "model_module": "@jupyter-widgets/controls",
     "model_module_version": "1.5.0",
     "model_name": "DescriptionStyleModel",
     "state": {
      "_model_module": "@jupyter-widgets/controls",
      "_model_module_version": "1.5.0",
      "_model_name": "DescriptionStyleModel",
      "_view_count": null,
      "_view_module": "@jupyter-widgets/base",
      "_view_module_version": "1.2.0",
      "_view_name": "StyleView",
      "description_width": ""
     }
    },
    "709e1f1aa15643f0a3336c5d69118f26": {
     "model_module": "@jupyter-widgets/controls",
     "model_module_version": "1.5.0",
     "model_name": "FloatProgressModel",
     "state": {
      "_dom_classes": [],
      "_model_module": "@jupyter-widgets/controls",
      "_model_module_version": "1.5.0",
      "_model_name": "FloatProgressModel",
      "_view_count": null,
      "_view_module": "@jupyter-widgets/controls",
      "_view_module_version": "1.5.0",
      "_view_name": "ProgressView",
      "bar_style": "",
      "description": "",
      "description_tooltip": null,
      "layout": "IPY_MODEL_01a6d99180644a358b48e046de1b51f3",
      "max": 10100,
      "min": 0,
      "orientation": "horizontal",
      "style": "IPY_MODEL_02b664ec88f94d6cb5deedddc5a028e2",
      "value": 1700
     }
    },
    "be4929e5cdd44aa1a565d3cae92da102": {
     "model_module": "@jupyter-widgets/controls",
     "model_module_version": "1.5.0",
     "model_name": "HTMLModel",
     "state": {
      "_dom_classes": [],
      "_model_module": "@jupyter-widgets/controls",
      "_model_module_version": "1.5.0",
      "_model_name": "HTMLModel",
      "_view_count": null,
      "_view_module": "@jupyter-widgets/controls",
      "_view_module_version": "1.5.0",
      "_view_name": "HTMLView",
      "description": "",
      "description_tooltip": null,
      "layout": "IPY_MODEL_2ef4848099ed4ee4ac83ad464b873bae",
      "placeholder": "​",
      "style": "IPY_MODEL_67d66ed77ea64d979fe981c88da89fb0",
      "value": " 1700/10100 [39:56&lt;4:07:21,  1.77s/pipeline]"
     }
    },
    "eddb9e667a1e4bc990b74557d10652a2": {
     "model_module": "@jupyter-widgets/controls",
     "model_module_version": "1.5.0",
     "model_name": "HTMLModel",
     "state": {
      "_dom_classes": [],
      "_model_module": "@jupyter-widgets/controls",
      "_model_module_version": "1.5.0",
      "_model_name": "HTMLModel",
      "_view_count": null,
      "_view_module": "@jupyter-widgets/controls",
      "_view_module_version": "1.5.0",
      "_view_name": "HTMLView",
      "description": "",
      "description_tooltip": null,
      "layout": "IPY_MODEL_449eab38a9414f9a951694f04a774217",
      "placeholder": "​",
      "style": "IPY_MODEL_188758b06a9c4582b1f9f7bb9d2155db",
      "value": "Optimization Progress:  17%"
     }
    }
   }
  }
 },
 "nbformat": 4,
 "nbformat_minor": 5
}
