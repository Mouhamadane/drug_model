{
 "cells": [
  {
   "cell_type": "markdown",
   "metadata": {
    "id": "cc657fba-6c62-4d97-9388-a8a3f74f9b91"
   },
   "source": [
    "# **`A. Importation des bibliothèques utiles et paramètrages`**\n",
    "------"
   ]
  },
  {
   "cell_type": "code",
   "execution_count": 1,
   "metadata": {
    "colab": {
     "base_uri": "https://localhost:8080/",
     "height": 374
    },
    "id": "8f6b23aa-abc0-4fbf-abe5-ff8e4526bb72",
    "outputId": "ca5dde36-9aeb-4cbf-9d73-41ba5d7f37e9"
   },
   "outputs": [],
   "source": [
    "import time\n",
    "import warnings\n",
    "import numpy as np\n",
    "import pandas as pd\n",
    "import seaborn as sns\n",
    "from matplotlib import pyplot as plt"
   ]
  },
  {
   "cell_type": "code",
   "execution_count": 2,
   "metadata": {},
   "outputs": [],
   "source": [
    "from sklearn.svm import SVC\n",
    "from sklearn.utils import shuffle\n",
    "from sklearn.naive_bayes import GaussianNB\n",
    "from sklearn.tree import DecisionTreeClassifier\n",
    "from sklearn.model_selection import cross_validate\n",
    "from sklearn.neighbors import KNeighborsClassifier\n",
    "from sklearn.compose import make_column_transformer\n",
    "from sklearn.model_selection import train_test_split\n",
    "from sklearn.model_selection import StratifiedKFold\n",
    "from sklearn.preprocessing import MinMaxScaler, RobustScaler\n",
    "from sklearn.preprocessing import OrdinalEncoder, OneHotEncoder\n",
    "from sklearn.linear_model import LogisticRegression, SGDClassifier\n",
    "from sklearn.model_selection import GridSearchCV, RandomizedSearchCV, RepeatedStratifiedKFold\n",
    "from sklearn.ensemble import RandomForestClassifier, GradientBoostingClassifier, AdaBoostClassifier\n",
    "from sklearn.metrics import f1_score, make_scorer, recall_score, precision_score, confusion_matrix, classification_report"
   ]
  },
  {
   "cell_type": "code",
   "execution_count": 3,
   "metadata": {
    "id": "856595f1-bcf9-4ce9-96f8-fca0fe18950d"
   },
   "outputs": [],
   "source": [
    "# Setup du nombre de lignes et colonnes maximum\n",
    "pd.set_option('display.max_row',100)\n",
    "pd.set_option('display.max_columns',34)\n",
    "\n",
    "# Filtre des avertissements\n",
    "warnings.filterwarnings('ignore')\n",
    "\n",
    "# Style et taille de nos figures\n",
    "plt.style.use(style='ggplot')\n",
    "plt.rcParams['figure.figsize'] = (12, 8)\n",
    "\n",
    "# Fixer le générateur\n",
    "np.random.seed(42)"
   ]
  },
  {
   "cell_type": "markdown",
   "metadata": {
    "id": "8b0c39c8-c5b1-49fe-90f6-5d62ee596e71"
   },
   "source": [
    "# **`B. Chargement de la base de données et copie`**\n",
    "------"
   ]
  },
  {
   "cell_type": "code",
   "execution_count": 4,
   "metadata": {
    "colab": {
     "base_uri": "https://localhost:8080/",
     "height": 398
    },
    "id": "75f3fe4a-8e62-4367-9012-05774b054993",
    "outputId": "84134535-4316-499f-c6ac-2269501958da"
   },
   "outputs": [],
   "source": [
    "# Chargement de la base de données\n",
    "data = pd.read_csv(\"./DRUG1n.csv\")"
   ]
  },
  {
   "cell_type": "code",
   "execution_count": 5,
   "metadata": {
    "id": "cd3403a7-0917-4415-8809-cf0c27ca3aff"
   },
   "outputs": [],
   "source": [
    "# Copie de la base de données\n",
    "df = data.copy()"
   ]
  },
  {
   "cell_type": "markdown",
   "metadata": {
    "id": "83a00789-42e9-4b88-9e8d-d874606368a7"
   },
   "source": [
    "# **`C. Analyse Exploratoire des données`**\n",
    "------"
   ]
  },
  {
   "cell_type": "markdown",
   "metadata": {
    "id": "092e0f99-00e3-4fa6-955b-c149d470bfce"
   },
   "source": [
    "> ## **1. Analyse de forme** "
   ]
  },
  {
   "cell_type": "markdown",
   "metadata": {
    "id": "36dc1ea4-d5ff-4dac-86fa-e1a6dec34766"
   },
   "source": [
    "- **Dimensions** : Nous disposons d'une base de **200 observations** et **7 variables**.\n",
    "\n",
    "- **Type de variables** : **3 quantitatives** et **4 qualitatives**.\n",
    "\n",
    "- **Target named `Drug`** : Variable qualitative.\n",
    "\n",
    "     * **drugY** : **45.5%**\n",
    "     * **drugX** : **27.0%**\n",
    "     * **drugA** : **11.5%**\n",
    "     * **drugB** : **8.8%**\n",
    "     * **drugC** : **8.8%**\n",
    "     \n",
    "- **NB** : Etant donné une variable cible déséquilibrée, nous utiliserons comme métrique le **f1_score**. Nous nous intéresserons aussi à la **précision**, le **rappel** et la **matrice de confusion**.\n",
    "\n",
    "- **Données Manquantes** : Notre base de données ne contient pas de données manquantes.\n",
    "\n",
    "- **Données dupliquées** : Notre base ne contient pas de données dupliquées."
   ]
  },
  {
   "cell_type": "code",
   "execution_count": 6,
   "metadata": {
    "colab": {
     "base_uri": "https://localhost:8080/",
     "height": 601
    },
    "id": "68dbdcd6-c91b-4f95-aca7-eb5cd4eb3e72",
    "outputId": "a30eb85a-bf5a-4c10-af03-549aaff5b06e"
   },
   "outputs": [
    {
     "data": {
      "text/html": [
       "<div>\n",
       "<style scoped>\n",
       "    .dataframe tbody tr th:only-of-type {\n",
       "        vertical-align: middle;\n",
       "    }\n",
       "\n",
       "    .dataframe tbody tr th {\n",
       "        vertical-align: top;\n",
       "    }\n",
       "\n",
       "    .dataframe thead th {\n",
       "        text-align: right;\n",
       "    }\n",
       "</style>\n",
       "<table border=\"1\" class=\"dataframe\">\n",
       "  <thead>\n",
       "    <tr style=\"text-align: right;\">\n",
       "      <th></th>\n",
       "      <th>Age</th>\n",
       "      <th>Sex</th>\n",
       "      <th>BP</th>\n",
       "      <th>Cholesterol</th>\n",
       "      <th>Na</th>\n",
       "      <th>K</th>\n",
       "      <th>Drug</th>\n",
       "    </tr>\n",
       "  </thead>\n",
       "  <tbody>\n",
       "    <tr>\n",
       "      <th>0</th>\n",
       "      <td>23</td>\n",
       "      <td>F</td>\n",
       "      <td>HIGH</td>\n",
       "      <td>HIGH</td>\n",
       "      <td>0.792535</td>\n",
       "      <td>0.031258</td>\n",
       "      <td>drugY</td>\n",
       "    </tr>\n",
       "    <tr>\n",
       "      <th>1</th>\n",
       "      <td>47</td>\n",
       "      <td>M</td>\n",
       "      <td>LOW</td>\n",
       "      <td>HIGH</td>\n",
       "      <td>0.739309</td>\n",
       "      <td>0.056468</td>\n",
       "      <td>drugC</td>\n",
       "    </tr>\n",
       "    <tr>\n",
       "      <th>2</th>\n",
       "      <td>47</td>\n",
       "      <td>M</td>\n",
       "      <td>LOW</td>\n",
       "      <td>HIGH</td>\n",
       "      <td>0.697269</td>\n",
       "      <td>0.068944</td>\n",
       "      <td>drugC</td>\n",
       "    </tr>\n",
       "    <tr>\n",
       "      <th>3</th>\n",
       "      <td>28</td>\n",
       "      <td>F</td>\n",
       "      <td>NORMAL</td>\n",
       "      <td>HIGH</td>\n",
       "      <td>0.563682</td>\n",
       "      <td>0.072289</td>\n",
       "      <td>drugX</td>\n",
       "    </tr>\n",
       "    <tr>\n",
       "      <th>4</th>\n",
       "      <td>61</td>\n",
       "      <td>F</td>\n",
       "      <td>LOW</td>\n",
       "      <td>HIGH</td>\n",
       "      <td>0.559294</td>\n",
       "      <td>0.030998</td>\n",
       "      <td>drugY</td>\n",
       "    </tr>\n",
       "    <tr>\n",
       "      <th>5</th>\n",
       "      <td>22</td>\n",
       "      <td>F</td>\n",
       "      <td>NORMAL</td>\n",
       "      <td>HIGH</td>\n",
       "      <td>0.676901</td>\n",
       "      <td>0.078647</td>\n",
       "      <td>drugX</td>\n",
       "    </tr>\n",
       "    <tr>\n",
       "      <th>6</th>\n",
       "      <td>49</td>\n",
       "      <td>F</td>\n",
       "      <td>NORMAL</td>\n",
       "      <td>HIGH</td>\n",
       "      <td>0.789637</td>\n",
       "      <td>0.048518</td>\n",
       "      <td>drugY</td>\n",
       "    </tr>\n",
       "    <tr>\n",
       "      <th>7</th>\n",
       "      <td>41</td>\n",
       "      <td>M</td>\n",
       "      <td>LOW</td>\n",
       "      <td>HIGH</td>\n",
       "      <td>0.766635</td>\n",
       "      <td>0.069461</td>\n",
       "      <td>drugC</td>\n",
       "    </tr>\n",
       "    <tr>\n",
       "      <th>8</th>\n",
       "      <td>60</td>\n",
       "      <td>M</td>\n",
       "      <td>NORMAL</td>\n",
       "      <td>HIGH</td>\n",
       "      <td>0.777205</td>\n",
       "      <td>0.051230</td>\n",
       "      <td>drugY</td>\n",
       "    </tr>\n",
       "    <tr>\n",
       "      <th>9</th>\n",
       "      <td>43</td>\n",
       "      <td>M</td>\n",
       "      <td>LOW</td>\n",
       "      <td>NORMAL</td>\n",
       "      <td>0.526102</td>\n",
       "      <td>0.027164</td>\n",
       "      <td>drugY</td>\n",
       "    </tr>\n",
       "  </tbody>\n",
       "</table>\n",
       "</div>"
      ],
      "text/plain": [
       "   Age Sex      BP Cholesterol        Na         K   Drug\n",
       "0   23   F    HIGH        HIGH  0.792535  0.031258  drugY\n",
       "1   47   M     LOW        HIGH  0.739309  0.056468  drugC\n",
       "2   47   M     LOW        HIGH  0.697269  0.068944  drugC\n",
       "3   28   F  NORMAL        HIGH  0.563682  0.072289  drugX\n",
       "4   61   F     LOW        HIGH  0.559294  0.030998  drugY\n",
       "5   22   F  NORMAL        HIGH  0.676901  0.078647  drugX\n",
       "6   49   F  NORMAL        HIGH  0.789637  0.048518  drugY\n",
       "7   41   M     LOW        HIGH  0.766635  0.069461  drugC\n",
       "8   60   M  NORMAL        HIGH  0.777205  0.051230  drugY\n",
       "9   43   M     LOW      NORMAL  0.526102  0.027164  drugY"
      ]
     },
     "execution_count": 6,
     "metadata": {},
     "output_type": "execute_result"
    }
   ],
   "source": [
    "#Apperçu de la base de données\n",
    "df.head(10)"
   ]
  },
  {
   "cell_type": "code",
   "execution_count": 7,
   "metadata": {
    "colab": {
     "base_uri": "https://localhost:8080/"
    },
    "id": "2a842b2e-473d-46e0-ac33-3246a658608f",
    "outputId": "51ef2304-caec-480c-a263-2b5a0d145941"
   },
   "outputs": [
    {
     "data": {
      "text/plain": [
       "(200, 7)"
      ]
     },
     "execution_count": 7,
     "metadata": {},
     "output_type": "execute_result"
    }
   ],
   "source": [
    "#Dimensions de la base de données\n",
    "df.shape"
   ]
  },
  {
   "cell_type": "code",
   "execution_count": 8,
   "metadata": {
    "colab": {
     "base_uri": "https://localhost:8080/"
    },
    "id": "9b485b55-5d61-490b-9a33-44479a777144",
    "outputId": "d58cdbb0-19a0-4356-9841-636738d697cb"
   },
   "outputs": [
    {
     "data": {
      "text/plain": [
       "Age              int64\n",
       "Sex             object\n",
       "BP              object\n",
       "Cholesterol     object\n",
       "Na             float64\n",
       "K              float64\n",
       "Drug            object\n",
       "dtype: object"
      ]
     },
     "execution_count": 8,
     "metadata": {},
     "output_type": "execute_result"
    }
   ],
   "source": [
    "#Type des variables\n",
    "df.dtypes"
   ]
  },
  {
   "cell_type": "code",
   "execution_count": 9,
   "metadata": {
    "colab": {
     "base_uri": "https://localhost:8080/"
    },
    "id": "7e6709d5-15ac-4eea-a748-b2932a303ac8",
    "outputId": "40af7992-7fee-4622-d46e-311fda910a9d"
   },
   "outputs": [
    {
     "data": {
      "text/plain": [
       "object     4\n",
       "float64    2\n",
       "int64      1\n",
       "dtype: int64"
      ]
     },
     "execution_count": 9,
     "metadata": {},
     "output_type": "execute_result"
    }
   ],
   "source": [
    "# Nombre de variables quantitatives et qualitatives\n",
    "df.dtypes.value_counts()"
   ]
  },
  {
   "cell_type": "code",
   "execution_count": 10,
   "metadata": {
    "colab": {
     "base_uri": "https://localhost:8080/"
    },
    "id": "46e72b81-c3e3-4134-9d1b-e7a90c7f75d6",
    "outputId": "2a8360fe-31d7-4c06-fdfc-cf378c210e15"
   },
   "outputs": [
    {
     "data": {
      "text/plain": [
       "array(['drugY', 'drugC', 'drugX', 'drugA', 'drugB'], dtype=object)"
      ]
     },
     "execution_count": 10,
     "metadata": {},
     "output_type": "execute_result"
    }
   ],
   "source": [
    "# Nombre de modalités de la target\n",
    "df['Drug'].unique()"
   ]
  },
  {
   "cell_type": "code",
   "execution_count": 11,
   "metadata": {
    "colab": {
     "base_uri": "https://localhost:8080/"
    },
    "id": "29c69194-3711-46d4-bab0-55cc9e6feb4a",
    "outputId": "23610822-5fd6-47e8-fb9d-25df1b7cee25"
   },
   "outputs": [
    {
     "data": {
      "text/plain": [
       "drugY    91\n",
       "drugX    54\n",
       "drugA    23\n",
       "drugB    16\n",
       "drugC    16\n",
       "Name: Drug, dtype: int64"
      ]
     },
     "execution_count": 11,
     "metadata": {},
     "output_type": "execute_result"
    }
   ],
   "source": [
    "# Fréquence des modalités de la target\n",
    "df['Drug'].value_counts()"
   ]
  },
  {
   "cell_type": "code",
   "execution_count": 12,
   "metadata": {
    "colab": {
     "base_uri": "https://localhost:8080/"
    },
    "id": "99f9b25b-c113-42cf-a797-a124e1f89c11",
    "outputId": "d1e032c2-4dee-4b29-ab94-d61c6d869457"
   },
   "outputs": [
    {
     "data": {
      "text/plain": [
       "drugY    45.5\n",
       "drugX    27.0\n",
       "drugA    11.5\n",
       "drugB     8.0\n",
       "drugC     8.0\n",
       "Name: Drug, dtype: float64"
      ]
     },
     "execution_count": 12,
     "metadata": {},
     "output_type": "execute_result"
    }
   ],
   "source": [
    "# Proportion des modalités de la target\n",
    "df['Drug'].value_counts(normalize = True)*100"
   ]
  },
  {
   "cell_type": "code",
   "execution_count": 13,
   "metadata": {},
   "outputs": [
    {
     "data": {
      "text/plain": [
       "<AxesSubplot:>"
      ]
     },
     "execution_count": 13,
     "metadata": {},
     "output_type": "execute_result"
    },
    {
     "data": {
      "image/png": "[encoded data removed]",
      "text/plain": [
       "<Figure size 864x576 with 1 Axes>"
      ]
     },
     "metadata": {},
     "output_type": "display_data"
    }
   ],
   "source": [
    "df[\"Drug\"].value_counts().plot.bar()"
   ]
  },
  {
   "cell_type": "code",
   "execution_count": 14,
   "metadata": {
    "colab": {
     "base_uri": "https://localhost:8080/"
    },
    "id": "104f8bca-8118-42b6-bd70-899cb2247ece",
    "outputId": "1acfa41f-9d89-4b84-f97f-3d1e1e15cbb2"
   },
   "outputs": [
    {
     "data": {
      "text/plain": [
       "Age            0\n",
       "Sex            0\n",
       "BP             0\n",
       "Cholesterol    0\n",
       "Na             0\n",
       "K              0\n",
       "Drug           0\n",
       "dtype: int64"
      ]
     },
     "execution_count": 14,
     "metadata": {},
     "output_type": "execute_result"
    }
   ],
   "source": [
    "# Analyse des données manquantes par rapport à chaque variable\n",
    "df.isnull().sum(axis = 0)"
   ]
  },
  {
   "cell_type": "code",
   "execution_count": 15,
   "metadata": {
    "colab": {
     "base_uri": "https://localhost:8080/"
    },
    "id": "6b72c369-670e-4ac3-8ce5-9b100b6df302",
    "outputId": "e23cc983-dbed-4449-cd15-c377afca1e2b"
   },
   "outputs": [
    {
     "name": "stdout",
     "output_type": "stream",
     "text": [
      "Age : 57 \n",
      "\n",
      "Sex : 2 \n",
      "\n",
      "BP : 3 \n",
      "\n",
      "Cholesterol : 2 \n",
      "\n",
      "Na : 200 \n",
      "\n",
      "K : 200 \n",
      "\n",
      "Drug : 5 \n",
      "\n"
     ]
    }
   ],
   "source": [
    "# Nombre de valeurs uniques que prennent les variables\n",
    "for i in df.columns.tolist():\n",
    "    print(\"{} : {} \\n\".format(i,df[i].nunique()))"
   ]
  },
  {
   "cell_type": "code",
   "execution_count": 16,
   "metadata": {
    "colab": {
     "base_uri": "https://localhost:8080/"
    },
    "id": "9ea19c46-bf7c-410d-b672-0ea6656489d0",
    "outputId": "ef0311a0-9bf8-4c6d-e4a1-e6cc1fbc4b29"
   },
   "outputs": [
    {
     "data": {
      "text/plain": [
       "0"
      ]
     },
     "execution_count": 16,
     "metadata": {},
     "output_type": "execute_result"
    }
   ],
   "source": [
    "# Analyse des données dupliquées\n",
    "df.duplicated().sum()"
   ]
  },
  {
   "cell_type": "markdown",
   "metadata": {
    "id": "5c10171d-de13-4821-9137-0072c4dd55a7"
   },
   "source": [
    "> ## **2. Analyse de fond** "
   ]
  },
  {
   "cell_type": "markdown",
   "metadata": {
    "id": "3ed8cf14-f6c8-4e11-aaef-abdc7e541e37"
   },
   "source": [
    ">> ### **2.1. Variables numériques** "
   ]
  },
  {
   "cell_type": "code",
   "execution_count": 17,
   "metadata": {
    "colab": {
     "base_uri": "https://localhost:8080/"
    },
    "id": "533c3575-572a-4c1f-98e2-33ee97318433",
    "outputId": "ed3359ea-a8ef-4a22-80ee-b6728c05b7f1"
   },
   "outputs": [
    {
     "data": {
      "text/plain": [
       "Age              int64\n",
       "Sex             object\n",
       "BP              object\n",
       "Cholesterol     object\n",
       "Na             float64\n",
       "K              float64\n",
       "Drug            object\n",
       "dtype: object"
      ]
     },
     "execution_count": 17,
     "metadata": {},
     "output_type": "execute_result"
    }
   ],
   "source": [
    "# Type des variables\n",
    "df.dtypes"
   ]
  },
  {
   "cell_type": "code",
   "execution_count": 18,
   "metadata": {
    "colab": {
     "base_uri": "https://localhost:8080/"
    },
    "id": "5559ae9b-a719-4af3-8e87-7c7c1929d3f1",
    "outputId": "3e2d07a6-14d7-4adc-8490-5bd103208f8b"
   },
   "outputs": [
    {
     "data": {
      "text/plain": [
       "['Age', 'Na', 'K']"
      ]
     },
     "execution_count": 18,
     "metadata": {},
     "output_type": "execute_result"
    }
   ],
   "source": [
    "# Selection des variables numériques\n",
    "num_cols = [i for i in df.select_dtypes(exclude = 'object').columns.tolist()]\n",
    "num_cols"
   ]
  },
  {
   "cell_type": "code",
   "execution_count": 19,
   "metadata": {
    "colab": {
     "base_uri": "https://localhost:8080/"
    },
    "id": "a7c54932-aef3-47bb-b894-765a6f6ee655",
    "outputId": "2107faf8-98b5-457c-b530-0a1b893f86a8"
   },
   "outputs": [
    {
     "data": {
      "text/plain": [
       "Age     57\n",
       "Na     200\n",
       "K      200\n",
       "dtype: int64"
      ]
     },
     "execution_count": 19,
     "metadata": {},
     "output_type": "execute_result"
    }
   ],
   "source": [
    "# Nombre de valeurs uniques\n",
    "df[num_cols].nunique()"
   ]
  },
  {
   "cell_type": "code",
   "execution_count": 20,
   "metadata": {
    "colab": {
     "base_uri": "https://localhost:8080/",
     "height": 582
    },
    "id": "67584fb7-016f-499f-96e7-850bae0cc1d3",
    "outputId": "61c2e0c3-0a54-4831-90c3-02b716fd0a70"
   },
   "outputs": [
    {
     "data": {
      "text/html": [
       "<div>\n",
       "<style scoped>\n",
       "    .dataframe tbody tr th:only-of-type {\n",
       "        vertical-align: middle;\n",
       "    }\n",
       "\n",
       "    .dataframe tbody tr th {\n",
       "        vertical-align: top;\n",
       "    }\n",
       "\n",
       "    .dataframe thead th {\n",
       "        text-align: right;\n",
       "    }\n",
       "</style>\n",
       "<table border=\"1\" class=\"dataframe\">\n",
       "  <thead>\n",
       "    <tr style=\"text-align: right;\">\n",
       "      <th></th>\n",
       "      <th>count</th>\n",
       "      <th>mean</th>\n",
       "      <th>std</th>\n",
       "      <th>min</th>\n",
       "      <th>25%</th>\n",
       "      <th>50%</th>\n",
       "      <th>75%</th>\n",
       "      <th>max</th>\n",
       "    </tr>\n",
       "  </thead>\n",
       "  <tbody>\n",
       "    <tr>\n",
       "      <th>Age</th>\n",
       "      <td>200.0</td>\n",
       "      <td>44.315000</td>\n",
       "      <td>16.544315</td>\n",
       "      <td>15.000000</td>\n",
       "      <td>31.000000</td>\n",
       "      <td>45.000000</td>\n",
       "      <td>58.000000</td>\n",
       "      <td>74.000000</td>\n",
       "    </tr>\n",
       "    <tr>\n",
       "      <th>Na</th>\n",
       "      <td>200.0</td>\n",
       "      <td>0.697095</td>\n",
       "      <td>0.118907</td>\n",
       "      <td>0.500169</td>\n",
       "      <td>0.583887</td>\n",
       "      <td>0.721853</td>\n",
       "      <td>0.801494</td>\n",
       "      <td>0.896056</td>\n",
       "    </tr>\n",
       "    <tr>\n",
       "      <th>K</th>\n",
       "      <td>200.0</td>\n",
       "      <td>0.050174</td>\n",
       "      <td>0.017611</td>\n",
       "      <td>0.020022</td>\n",
       "      <td>0.035054</td>\n",
       "      <td>0.049663</td>\n",
       "      <td>0.066000</td>\n",
       "      <td>0.079788</td>\n",
       "    </tr>\n",
       "  </tbody>\n",
       "</table>\n",
       "</div>"
      ],
      "text/plain": [
       "     count       mean        std        min        25%        50%        75%  \\\n",
       "Age  200.0  44.315000  16.544315  15.000000  31.000000  45.000000  58.000000   \n",
       "Na   200.0   0.697095   0.118907   0.500169   0.583887   0.721853   0.801494   \n",
       "K    200.0   0.050174   0.017611   0.020022   0.035054   0.049663   0.066000   \n",
       "\n",
       "           max  \n",
       "Age  74.000000  \n",
       "Na    0.896056  \n",
       "K     0.079788  "
      ]
     },
     "execution_count": 20,
     "metadata": {},
     "output_type": "execute_result"
    }
   ],
   "source": [
    "# Statistique descriptive\n",
    "df[num_cols].describe().T"
   ]
  },
  {
   "cell_type": "code",
   "execution_count": 21,
   "metadata": {
    "colab": {
     "base_uri": "https://localhost:8080/",
     "height": 614
    },
    "id": "2579c680-c2ec-4c9a-bd63-64e1856fe344",
    "outputId": "16386226-c44a-4f4e-a78b-68439cce887e"
   },
   "outputs": [
    {
     "data": {
      "text/plain": [
       "<AxesSubplot:>"
      ]
     },
     "execution_count": 21,
     "metadata": {},
     "output_type": "execute_result"
    },
    {
     "data": {
      "image/png": "[encoded data removed]",
      "text/plain": [
       "<Figure size 864x576 with 1 Axes>"
      ]
     },
     "metadata": {},
     "output_type": "display_data"
    }
   ],
   "source": [
    "# Corrélations entre variables numériques ou quantitatives\n",
    "sns.heatmap(df[num_cols].corr(), cbar = False, annot = True)"
   ]
  },
  {
   "cell_type": "markdown",
   "metadata": {
    "id": "HIeJBUXN6CLZ"
   },
   "source": [
    "**Il faut intérpréter tes résultats**"
   ]
  },
  {
   "cell_type": "code",
   "execution_count": 22,
   "metadata": {
    "colab": {
     "base_uri": "https://localhost:8080/",
     "height": 977
    },
    "id": "29cbd622-c79a-416d-95c1-dea4212335dc",
    "outputId": "1e2a32cb-487e-41de-8de6-59be3200040b"
   },
   "outputs": [
    {
     "data": {
      "text/plain": [
       "<seaborn.axisgrid.PairGrid at 0x7f3bd35a8850>"
      ]
     },
     "execution_count": 22,
     "metadata": {},
     "output_type": "execute_result"
    },
    {
     "data": {
      "image/png": "[encoded data removed]",
      "text/plain": [
       "<Figure size 540x540 with 12 Axes>"
      ]
     },
     "metadata": {},
     "output_type": "display_data"
    }
   ],
   "source": [
    "# Vue globale (nuage de points et histogrammes)\n",
    "sns.pairplot(df[num_cols])"
   ]
  },
  {
   "cell_type": "markdown",
   "metadata": {
    "id": "OY3fAAp36P8Q"
   },
   "source": [
    "**Que nous apprend ces figures ci-dessus**"
   ]
  },
  {
   "cell_type": "markdown",
   "metadata": {
    "id": "916db2b7-4032-4731-bbcb-04e03c9479d1"
   },
   "source": [
    "- Un test statistique est une procédure de décision entre deux hypothèses. Il s’agit d’une démarche consistant à rejeter ou à ne pas rejeter une hypothèse statistique, appelée hypothèse nulle $H_{0}$, en fonction d’un jeu de données.\n",
    "\n",
    "- Il existe un test pour déterminer si deux variables continues (quantitatives) sont indépendantes : **le test de corrélation de Pearson**. L’hypothèse nulle à tester est : **« les deux variables testées sont indépendantes »**.\n",
    "\n",
    "- Il s’accompagne d’une statistique de test et d’une p-valeur qui détermine du rejet ou non de l’hypothèse nulle.\n",
    "\n",
    "- Si la **p-value** est inférieur à **5%** alors on rejette l'hypothèse nulle $H_{0}$, sinon on l'accepte."
   ]
  },
  {
   "cell_type": "code",
   "execution_count": 23,
   "metadata": {
    "id": "ee523bba-b23b-40b8-bf3e-fd3e1b0790a2"
   },
   "outputs": [],
   "source": [
    "# Définition d'une fonction de test entre variables quantitatives\n",
    "def test_pearson(df, var1, var2):\n",
    "    print(\"{} et {}\".format(var1,var2))\n",
    "    print(\"Coefficient de Pearson : {}\".format(pearsonr(df[var1],df[var2])[0]))\n",
    "    print(\"               P_value : {}\".format(pearsonr(df[var1],df[var2])[1]))\n",
    "    if (pearsonr(df[var1],df[var2])[1] < 0.05):\n",
    "        print(\"{} et {} ne sont pas indépendantes\".format(var1,var2))\n",
    "    print(\"\\n \\n\")\n",
    "    pass"
   ]
  },
  {
   "cell_type": "code",
   "execution_count": 24,
   "metadata": {
    "colab": {
     "base_uri": "https://localhost:8080/"
    },
    "id": "70c25104-359c-4cf7-b005-791470605d6d",
    "outputId": "0fbbf8e3-dd05-4e44-e3fe-4b4587bfe09f"
   },
   "outputs": [
    {
     "name": "stdout",
     "output_type": "stream",
     "text": [
      "Age et Na\n",
      "Coefficient de Pearson : 0.10037117622299319\n",
      "               P_value : 0.15732104241114084\n",
      "\n",
      " \n",
      "\n",
      "Age et K\n",
      "Coefficient de Pearson : 0.1114912374476258\n",
      "               P_value : 0.1160096074509135\n",
      "\n",
      " \n",
      "\n",
      "Na et K\n",
      "Coefficient de Pearson : 0.017334587466501242\n",
      "               P_value : 0.8075175505627852\n",
      "\n",
      " \n",
      "\n"
     ]
    }
   ],
   "source": [
    "# Test Statistique de Pearson\n",
    "from scipy.stats import pearsonr\n",
    "liste = []\n",
    "for var1 in num_cols:\n",
    "    liste.append(var1)\n",
    "    for var2 in [var for var in num_cols if var not in liste ]:\n",
    "        test_pearson(df,var1,var2)"
   ]
  },
  {
   "cell_type": "markdown",
   "metadata": {
    "id": "0760c29e-cac0-4ee2-b84a-85f051852513"
   },
   "source": [
    "- Age et Na ne sont pas indépendantes\n",
    "- Age et K ne sont pas indépendantes\n",
    "- Na et K ne sont pas  indépendantes"
   ]
  },
  {
   "cell_type": "code",
   "execution_count": 25,
   "metadata": {
    "colab": {
     "base_uri": "https://localhost:8080/",
     "height": 1000
    },
    "id": "a9473770-a245-4ee8-ac2f-27cc08939e61",
    "outputId": "61336181-fb54-4698-b8b2-db88e0ca74b5"
   },
   "outputs": [
    {
     "data": {
      "image/png": "[encoded data removed]",
      "text/plain": [
       "<Figure size 864x576 with 1 Axes>"
      ]
     },
     "metadata": {},
     "output_type": "display_data"
    },
    {
     "data": {
      "image/png": "[encoded data removed]",
      "text/plain": [
       "<Figure size 864x576 with 1 Axes>"
      ]
     },
     "metadata": {},
     "output_type": "display_data"
    },
    {
     "data": {
      "image/png": "[encoded data removed]",
      "text/plain": [
       "<Figure size 864x576 with 1 Axes>"
      ]
     },
     "metadata": {},
     "output_type": "display_data"
    }
   ],
   "source": [
    "# Distribution des variables numériques\n",
    "for i in num_cols:\n",
    "    plt.figure(figsize = (12,8))\n",
    "    sns.distplot(df[i])\n",
    "    plt.show()"
   ]
  },
  {
   "cell_type": "code",
   "execution_count": 26,
   "metadata": {
    "colab": {
     "base_uri": "https://localhost:8080/",
     "height": 1000
    },
    "id": "b5376766-2ea5-4954-8917-5cf38d4b4531",
    "outputId": "791c9d3c-921e-4ec7-9327-de9351710529"
   },
   "outputs": [
    {
     "data": {
      "image/png": "[encoded data removed]",
      "text/plain": [
       "<Figure size 720x576 with 1 Axes>"
      ]
     },
     "metadata": {},
     "output_type": "display_data"
    },
    {
     "data": {
      "image/png": "[encoded data removed]",
      "text/plain": [
       "<Figure size 720x576 with 1 Axes>"
      ]
     },
     "metadata": {},
     "output_type": "display_data"
    },
    {
     "data": {
      "image/png": "[encoded data removed]",
      "text/plain": [
       "<Figure size 720x576 with 1 Axes>"
      ]
     },
     "metadata": {},
     "output_type": "display_data"
    }
   ],
   "source": [
    "# Analyse des données aberrantes\n",
    "for i in num_cols:\n",
    "    plt.figure(figsize = (10,8))\n",
    "    sns.boxplot(df[i],showmeans = True, color = 'blue')\n",
    "    plt.show()"
   ]
  },
  {
   "cell_type": "markdown",
   "metadata": {
    "id": "69e6821c-647f-4bab-8877-d11c836ada98"
   },
   "source": [
    ">> ### **2.2. Variables qualitatives** "
   ]
  },
  {
   "cell_type": "code",
   "execution_count": 27,
   "metadata": {
    "colab": {
     "base_uri": "https://localhost:8080/"
    },
    "id": "c7d89bf5-0b5b-4489-b9b9-c77e891af328",
    "outputId": "3ab040ca-4ebb-405a-ccd8-a486f5a0e899"
   },
   "outputs": [
    {
     "data": {
      "text/plain": [
       "Age              int64\n",
       "Sex             object\n",
       "BP              object\n",
       "Cholesterol     object\n",
       "Na             float64\n",
       "K              float64\n",
       "Drug            object\n",
       "dtype: object"
      ]
     },
     "execution_count": 27,
     "metadata": {},
     "output_type": "execute_result"
    }
   ],
   "source": [
    "#Type des variables de la base de données\n",
    "df.dtypes"
   ]
  },
  {
   "cell_type": "code",
   "execution_count": 28,
   "metadata": {
    "colab": {
     "base_uri": "https://localhost:8080/"
    },
    "id": "395984fc-b6e4-4156-bee5-f53649fdebba",
    "outputId": "6e9d8d84-6f5f-4416-f874-ebd4e5c877fc"
   },
   "outputs": [
    {
     "data": {
      "text/plain": [
       "['Sex', 'BP', 'Cholesterol']"
      ]
     },
     "execution_count": 28,
     "metadata": {},
     "output_type": "execute_result"
    }
   ],
   "source": [
    "#Sélection de variables qualitatives\n",
    "qual_cols = num_cols = [i for i in df.select_dtypes(include = 'object').columns.tolist()\n",
    "                        if i not in ['Drug']]\n",
    "qual_cols"
   ]
  },
  {
   "cell_type": "code",
   "execution_count": 29,
   "metadata": {
    "colab": {
     "base_uri": "https://localhost:8080/"
    },
    "id": "f3f55d50-162f-4bfb-97cc-41ecfda46e6a",
    "outputId": "68da21b1-6ab9-43c3-e063-817877635d73"
   },
   "outputs": [
    {
     "data": {
      "text/plain": [
       "Sex            2\n",
       "BP             3\n",
       "Cholesterol    2\n",
       "dtype: int64"
      ]
     },
     "execution_count": 29,
     "metadata": {},
     "output_type": "execute_result"
    }
   ],
   "source": [
    "# Nombre de modalités uniques pour chaque variable qualitative\n",
    "df[qual_cols].nunique()"
   ]
  },
  {
   "cell_type": "code",
   "execution_count": 30,
   "metadata": {
    "colab": {
     "base_uri": "https://localhost:8080/"
    },
    "id": "1585519e-7857-441d-b04f-fa91edeb4a93",
    "outputId": "2eb31436-5818-4229-aa9c-8009caced6fe"
   },
   "outputs": [
    {
     "name": "stdout",
     "output_type": "stream",
     "text": [
      "Sex : ['F', 'M'] \n",
      "\n",
      "BP : ['HIGH', 'LOW', 'NORMAL'] \n",
      "\n",
      "Cholesterol : ['HIGH', 'NORMAL'] \n",
      "\n"
     ]
    }
   ],
   "source": [
    "# Modalités uniques des variables qualitatives\n",
    "for var in qual_cols:\n",
    "    print(\"{} : {} \\n\".format(var, df[var].unique().tolist()))"
   ]
  },
  {
   "cell_type": "code",
   "execution_count": 31,
   "metadata": {
    "colab": {
     "base_uri": "https://localhost:8080/"
    },
    "id": "92525493-35b1-4de4-bde7-2342645e8f6e",
    "outputId": "32ce2136-ec3a-4f72-bad8-6ee6d7bc36a2"
   },
   "outputs": [
    {
     "data": {
      "text/html": [
       "<div>\n",
       "<style scoped>\n",
       "    .dataframe tbody tr th:only-of-type {\n",
       "        vertical-align: middle;\n",
       "    }\n",
       "\n",
       "    .dataframe tbody tr th {\n",
       "        vertical-align: top;\n",
       "    }\n",
       "\n",
       "    .dataframe thead th {\n",
       "        text-align: right;\n",
       "    }\n",
       "</style>\n",
       "<table border=\"1\" class=\"dataframe\">\n",
       "  <thead>\n",
       "    <tr style=\"text-align: right;\">\n",
       "      <th></th>\n",
       "      <th>count</th>\n",
       "      <th>unique</th>\n",
       "      <th>top</th>\n",
       "      <th>freq</th>\n",
       "    </tr>\n",
       "  </thead>\n",
       "  <tbody>\n",
       "    <tr>\n",
       "      <th>Sex</th>\n",
       "      <td>200</td>\n",
       "      <td>2</td>\n",
       "      <td>M</td>\n",
       "      <td>104</td>\n",
       "    </tr>\n",
       "    <tr>\n",
       "      <th>BP</th>\n",
       "      <td>200</td>\n",
       "      <td>3</td>\n",
       "      <td>HIGH</td>\n",
       "      <td>77</td>\n",
       "    </tr>\n",
       "    <tr>\n",
       "      <th>Cholesterol</th>\n",
       "      <td>200</td>\n",
       "      <td>2</td>\n",
       "      <td>HIGH</td>\n",
       "      <td>103</td>\n",
       "    </tr>\n",
       "  </tbody>\n",
       "</table>\n",
       "</div>"
      ],
      "text/plain": [
       "            count unique   top freq\n",
       "Sex           200      2     M  104\n",
       "BP            200      3  HIGH   77\n",
       "Cholesterol   200      2  HIGH  103"
      ]
     },
     "execution_count": 31,
     "metadata": {},
     "output_type": "execute_result"
    }
   ],
   "source": [
    "#Statistique descriptives\n",
    "df[qual_cols].describe().T"
   ]
  },
  {
   "cell_type": "code",
   "execution_count": 32,
   "metadata": {},
   "outputs": [
    {
     "data": {
      "text/plain": [
       "array([<AxesSubplot:ylabel='freq'>], dtype=object)"
      ]
     },
     "execution_count": 32,
     "metadata": {},
     "output_type": "execute_result"
    },
    {
     "data": {
      "image/png": "[encoded data removed]",
      "text/plain": [
       "<Figure size 864x576 with 1 Axes>"
      ]
     },
     "metadata": {},
     "output_type": "display_data"
    }
   ],
   "source": [
    "sex = pd.crosstab(df.Sex, \"freq\")\n",
    "sex.plot.pie(subplots=True)"
   ]
  },
  {
   "cell_type": "markdown",
   "metadata": {
    "id": "7b82fc64-e2ce-481c-9723-7b6ce5f5556d"
   },
   "source": [
    "Pour savoir si deux variables catégorielles sont liées, on utilise le célèbre test du khi-deux. Dans ce dernier, l’hypothèse nulle est simplement **« les deux variables testées sont indépendantes »**. Si la p-value de test obtenue est en-dessous de **5%** alors **on rejette l’hypothèse nulle**.\n",
    "\n",
    "En Python le test est facilement implémentable à l’aide de la bibliothèque **scipy** et de sa fonction **chi2_contingency**. Elle permet d’obtenir rapidement la **p-valeur** du test ainsi que la **statistique** et le **degré de liberté** associé. Dans la pratique le test du khi-deux demande, en amont, un petit travail sur les données. Pour pouvoir effectuer le test il faut d’abord déterminer la **table de contingence**. C’est un tableau de croisement entre les modalités des deux variables. Il s’obtient facilement avec la fonction crosstab de Pandas."
   ]
  },
  {
   "cell_type": "code",
   "execution_count": 33,
   "metadata": {
    "id": "02a43a81-f2c3-4bb0-b273-61b4a361a584"
   },
   "outputs": [],
   "source": [
    "# Définition d'une fonction de test entre variables qualitatives\n",
    "def test_khi2(df, var1, var2):\n",
    "    table = pd.crosstab(df[var1],df[var2])\n",
    "    resultats = chi2_contingency(table)\n",
    "    print(\"{} et {}\".format(var1,var2))\n",
    "    print(\"Statistique de test : {}\".format(resultats[0]))\n",
    "    print(\"   Degré de liberté : {}\".format(resultats[2]))\n",
    "    print(\"            P_value : {}\".format(resultats[1]))\n",
    "    if ( resultats[1] < 0.05):\n",
    "        print(\"{} et {} ne sont pas indépendantes\".format(var1,var2))\n",
    "    print(\"\\n \\n\")\n",
    "    pass"
   ]
  },
  {
   "cell_type": "code",
   "execution_count": 34,
   "metadata": {
    "colab": {
     "base_uri": "https://localhost:8080/"
    },
    "id": "b420168b-aa87-47ab-b984-7178cc105d10",
    "outputId": "90a51d6d-aad5-44c2-d0e1-666e24e6b105"
   },
   "outputs": [
    {
     "name": "stdout",
     "output_type": "stream",
     "text": [
      "Sex et BP\n",
      "Statistique de test : 0.7110738837433747\n",
      "   Degré de liberté : 2\n",
      "            P_value : 0.7007970548859668\n",
      "\n",
      " \n",
      "\n",
      "Sex et Cholesterol\n",
      "Statistique de test : 0.0002887213877104998\n",
      "   Degré de liberté : 1\n",
      "            P_value : 0.986443154652954\n",
      "\n",
      " \n",
      "\n",
      "BP et Cholesterol\n",
      "Statistique de test : 4.33632565148387\n",
      "   Degré de liberté : 2\n",
      "            P_value : 0.11438757389420079\n",
      "\n",
      " \n",
      "\n"
     ]
    }
   ],
   "source": [
    "#Test Statistique du Khi-deux\n",
    "from scipy.stats import chi2_contingency\n",
    "liste = []\n",
    "for var1 in qual_cols:\n",
    "    liste.append(var1)\n",
    "    for var2 in [var for var in qual_cols if var not in liste ]:\n",
    "        test_khi2(df,var1,var2)"
   ]
  },
  {
   "cell_type": "markdown",
   "metadata": {
    "id": "82f69790-5c93-4cfb-8a01-036bb2dbc0bb"
   },
   "source": [
    "- Sex et BP sont indépendantes\n",
    "- Sex et Cholesterol sont indépendantes\n",
    "- BP et Cholesterol sont indépendantes"
   ]
  },
  {
   "cell_type": "markdown",
   "metadata": {
    "id": "e0c383fa-4139-43d6-9e44-c94daaa4883d"
   },
   "source": [
    "**NB :** Vous pouvez pousser l'analyse beaucoup plus loin en étudiant la relation entre variables numériques et qualitatives, entre variables explicative et à expliquer..."
   ]
  },
  {
   "cell_type": "code",
   "execution_count": 35,
   "metadata": {},
   "outputs": [
    {
     "data": {
      "text/html": [
       "<div>\n",
       "<style scoped>\n",
       "    .dataframe tbody tr th:only-of-type {\n",
       "        vertical-align: middle;\n",
       "    }\n",
       "\n",
       "    .dataframe tbody tr th {\n",
       "        vertical-align: top;\n",
       "    }\n",
       "\n",
       "    .dataframe thead th {\n",
       "        text-align: right;\n",
       "    }\n",
       "</style>\n",
       "<table border=\"1\" class=\"dataframe\">\n",
       "  <thead>\n",
       "    <tr style=\"text-align: right;\">\n",
       "      <th>Cholesterol</th>\n",
       "      <th>HIGH</th>\n",
       "      <th>NORMAL</th>\n",
       "    </tr>\n",
       "    <tr>\n",
       "      <th>Sex</th>\n",
       "      <th></th>\n",
       "      <th></th>\n",
       "    </tr>\n",
       "  </thead>\n",
       "  <tbody>\n",
       "    <tr>\n",
       "      <th>F</th>\n",
       "      <td>49</td>\n",
       "      <td>47</td>\n",
       "    </tr>\n",
       "    <tr>\n",
       "      <th>M</th>\n",
       "      <td>54</td>\n",
       "      <td>50</td>\n",
       "    </tr>\n",
       "  </tbody>\n",
       "</table>\n",
       "</div>"
      ],
      "text/plain": [
       "Cholesterol  HIGH  NORMAL\n",
       "Sex                      \n",
       "F              49      47\n",
       "M              54      50"
      ]
     },
     "execution_count": 35,
     "metadata": {},
     "output_type": "execute_result"
    }
   ],
   "source": [
    "pd.crosstab(df.Sex, df.Cholesterol)"
   ]
  },
  {
   "cell_type": "code",
   "execution_count": 36,
   "metadata": {},
   "outputs": [
    {
     "data": {
      "text/html": [
       "<div>\n",
       "<style scoped>\n",
       "    .dataframe tbody tr th:only-of-type {\n",
       "        vertical-align: middle;\n",
       "    }\n",
       "\n",
       "    .dataframe tbody tr th {\n",
       "        vertical-align: top;\n",
       "    }\n",
       "\n",
       "    .dataframe thead th {\n",
       "        text-align: right;\n",
       "    }\n",
       "</style>\n",
       "<table border=\"1\" class=\"dataframe\">\n",
       "  <thead>\n",
       "    <tr style=\"text-align: right;\">\n",
       "      <th>Drug</th>\n",
       "      <th>drugA</th>\n",
       "      <th>drugB</th>\n",
       "      <th>drugC</th>\n",
       "      <th>drugX</th>\n",
       "      <th>drugY</th>\n",
       "    </tr>\n",
       "    <tr>\n",
       "      <th>BP</th>\n",
       "      <th></th>\n",
       "      <th></th>\n",
       "      <th></th>\n",
       "      <th></th>\n",
       "      <th></th>\n",
       "    </tr>\n",
       "  </thead>\n",
       "  <tbody>\n",
       "    <tr>\n",
       "      <th>HIGH</th>\n",
       "      <td>23</td>\n",
       "      <td>16</td>\n",
       "      <td>0</td>\n",
       "      <td>0</td>\n",
       "      <td>38</td>\n",
       "    </tr>\n",
       "    <tr>\n",
       "      <th>LOW</th>\n",
       "      <td>0</td>\n",
       "      <td>0</td>\n",
       "      <td>16</td>\n",
       "      <td>18</td>\n",
       "      <td>30</td>\n",
       "    </tr>\n",
       "    <tr>\n",
       "      <th>NORMAL</th>\n",
       "      <td>0</td>\n",
       "      <td>0</td>\n",
       "      <td>0</td>\n",
       "      <td>36</td>\n",
       "      <td>23</td>\n",
       "    </tr>\n",
       "  </tbody>\n",
       "</table>\n",
       "</div>"
      ],
      "text/plain": [
       "Drug    drugA  drugB  drugC  drugX  drugY\n",
       "BP                                       \n",
       "HIGH       23     16      0      0     38\n",
       "LOW         0      0     16     18     30\n",
       "NORMAL      0      0      0     36     23"
      ]
     },
     "execution_count": 36,
     "metadata": {},
     "output_type": "execute_result"
    }
   ],
   "source": [
    "pd.crosstab(df.BP, df.Drug)"
   ]
  },
  {
   "cell_type": "code",
   "execution_count": 37,
   "metadata": {},
   "outputs": [
    {
     "data": {
      "text/html": [
       "<div>\n",
       "<style scoped>\n",
       "    .dataframe tbody tr th:only-of-type {\n",
       "        vertical-align: middle;\n",
       "    }\n",
       "\n",
       "    .dataframe tbody tr th {\n",
       "        vertical-align: top;\n",
       "    }\n",
       "\n",
       "    .dataframe thead th {\n",
       "        text-align: right;\n",
       "    }\n",
       "</style>\n",
       "<table border=\"1\" class=\"dataframe\">\n",
       "  <thead>\n",
       "    <tr style=\"text-align: right;\">\n",
       "      <th>Drug</th>\n",
       "      <th>drugA</th>\n",
       "      <th>drugB</th>\n",
       "      <th>drugC</th>\n",
       "      <th>drugX</th>\n",
       "      <th>drugY</th>\n",
       "    </tr>\n",
       "    <tr>\n",
       "      <th>Sex</th>\n",
       "      <th></th>\n",
       "      <th></th>\n",
       "      <th></th>\n",
       "      <th></th>\n",
       "      <th></th>\n",
       "    </tr>\n",
       "  </thead>\n",
       "  <tbody>\n",
       "    <tr>\n",
       "      <th>F</th>\n",
       "      <td>9</td>\n",
       "      <td>6</td>\n",
       "      <td>7</td>\n",
       "      <td>27</td>\n",
       "      <td>47</td>\n",
       "    </tr>\n",
       "    <tr>\n",
       "      <th>M</th>\n",
       "      <td>14</td>\n",
       "      <td>10</td>\n",
       "      <td>9</td>\n",
       "      <td>27</td>\n",
       "      <td>44</td>\n",
       "    </tr>\n",
       "  </tbody>\n",
       "</table>\n",
       "</div>"
      ],
      "text/plain": [
       "Drug  drugA  drugB  drugC  drugX  drugY\n",
       "Sex                                    \n",
       "F         9      6      7     27     47\n",
       "M        14     10      9     27     44"
      ]
     },
     "execution_count": 37,
     "metadata": {},
     "output_type": "execute_result"
    }
   ],
   "source": [
    "pd.crosstab(df.Sex, df.Drug)"
   ]
  },
  {
   "cell_type": "code",
   "execution_count": 38,
   "metadata": {},
   "outputs": [
    {
     "data": {
      "text/plain": [
       "<AxesSubplot:xlabel='Cholesterol'>"
      ]
     },
     "execution_count": 38,
     "metadata": {},
     "output_type": "execute_result"
    },
    {
     "data": {
      "image/png": "[encoded data removed]",
      "text/plain": [
       "<Figure size 864x576 with 1 Axes>"
      ]
     },
     "metadata": {},
     "output_type": "display_data"
    }
   ],
   "source": [
    "t = pd.crosstab(df.Cholesterol, df.Drug)\n",
    "t.plot.bar()"
   ]
  },
  {
   "cell_type": "markdown",
   "metadata": {},
   "source": [
    "Pour les patients dont leur *`cholesterol`* est normal, le *`DrugC`* ne leur sont pas prescrit."
   ]
  },
  {
   "cell_type": "markdown",
   "metadata": {
    "id": "9063626c-30db-4afa-9045-42a117a86517"
   },
   "source": [
    ">> ### **2.3. Analyse multivariée** "
   ]
  },
  {
   "cell_type": "code",
   "execution_count": 39,
   "metadata": {},
   "outputs": [
    {
     "data": {
      "text/plain": [
       "<seaborn.axisgrid.FacetGrid at 0x7f3bd14c9040>"
      ]
     },
     "execution_count": 39,
     "metadata": {},
     "output_type": "execute_result"
    },
    {
     "data": {
      "image/png": "[encoded data removed]",
      "text/plain": [
       "<Figure size 426.125x360 with 1 Axes>"
      ]
     },
     "metadata": {},
     "output_type": "display_data"
    }
   ],
   "source": [
    "sns.relplot(x=\"BP\", y=\"Age\", hue=\"Drug\",\n",
    "            data=df)"
   ]
  },
  {
   "cell_type": "markdown",
   "metadata": {},
   "source": [
    "Dans cette partie, nous analysons les corrélations entre la variable cible Drug et les variables explicatives Na et K. En d’autres termes, nous aimerions savoir entre autres si:\n",
    "\n",
    "*   le médicament à préscrire dépend de Na ou K"
   ]
  },
  {
   "cell_type": "code",
   "execution_count": 40,
   "metadata": {},
   "outputs": [
    {
     "data": {
      "text/plain": [
       "<seaborn.axisgrid.PairGrid at 0x7f3bd13ba8b0>"
      ]
     },
     "execution_count": 40,
     "metadata": {},
     "output_type": "execute_result"
    },
    {
     "data": {
      "image/png": "[encoded data removed]",
      "text/plain": [
       "<Figure size 606.125x540 with 12 Axes>"
      ]
     },
     "metadata": {},
     "output_type": "display_data"
    }
   ],
   "source": [
    "# Vue globale (nuage de points et histogrammes)\n",
    "# variable_num = ['Age', 'Na','K']\n",
    "sns.pairplot(df, hue='Drug', diag_kind='hist')"
   ]
  },
  {
   "cell_type": "markdown",
   "metadata": {},
   "source": [
    "Le nuage de points ci-dessus, nous montre que les points rouges sont séparés clairement des autres, ce qui illustre que le médicament Y est donné si le ratio `Na/K` ou `K/Na` est supérieur ou inférieur à un seuil. Par conséquent, la variable Na/k doit être crées car elle explique mieux la variable Drug que les variables `Na` et `K` prises séparemment."
   ]
  },
  {
   "cell_type": "markdown",
   "metadata": {
    "id": "6ae3f5d8-c506-4e59-a86a-60784b78ba0c"
   },
   "source": [
    "# **`D. Objectifs & Métriques`**\n",
    "------"
   ]
  },
  {
   "cell_type": "markdown",
   "metadata": {
    "id": "693abbe6-23d8-4679-a1bf-c91135178080"
   },
   "source": [
    "> ## **1. Objectif** "
   ]
  },
  {
   "cell_type": "markdown",
   "metadata": {
    "id": "1d249d07-9948-4cae-9812-f62921a22fe9"
   },
   "source": [
    "Développer un modèle performant de classification pour prédire le Drug."
   ]
  },
  {
   "cell_type": "markdown",
   "metadata": {
    "id": "555da1c0-74ce-46ad-8447-e940d2fc00b6"
   },
   "source": [
    "> ## **2. Métrique** "
   ]
  },
  {
   "cell_type": "markdown",
   "metadata": {
    "id": "6a172468-9952-42bf-bb03-3a3588d8e0dc"
   },
   "source": [
    "Etant donné une variable cible déséquilibrée, nous choisirons comme métriques le F1_score, la Precision et le Rappel."
   ]
  },
  {
   "cell_type": "markdown",
   "metadata": {
    "id": "b5701436-cece-479d-b5d4-5f1f1a5e8472"
   },
   "source": [
    "# **`E. Prétraitement`**\n",
    "------"
   ]
  },
  {
   "cell_type": "code",
   "execution_count": 41,
   "metadata": {
    "id": "8b6d3903-77a7-4ff5-8cfe-abbdc40deb25"
   },
   "outputs": [],
   "source": [
    "# Nouvelle copie de la base de données\n",
    "df = data.copy()"
   ]
  },
  {
   "cell_type": "code",
   "execution_count": 42,
   "metadata": {
    "colab": {
     "base_uri": "https://localhost:8080/",
     "height": 357
    },
    "id": "fa1e382a-5089-4ee3-bb69-138fe383087f",
    "outputId": "08f0769e-1783-4cba-dbdd-4cd8dfd3c61d"
   },
   "outputs": [
    {
     "data": {
      "text/html": [
       "<div>\n",
       "<style scoped>\n",
       "    .dataframe tbody tr th:only-of-type {\n",
       "        vertical-align: middle;\n",
       "    }\n",
       "\n",
       "    .dataframe tbody tr th {\n",
       "        vertical-align: top;\n",
       "    }\n",
       "\n",
       "    .dataframe thead th {\n",
       "        text-align: right;\n",
       "    }\n",
       "</style>\n",
       "<table border=\"1\" class=\"dataframe\">\n",
       "  <thead>\n",
       "    <tr style=\"text-align: right;\">\n",
       "      <th></th>\n",
       "      <th>Age</th>\n",
       "      <th>Sex</th>\n",
       "      <th>BP</th>\n",
       "      <th>Cholesterol</th>\n",
       "      <th>Na</th>\n",
       "      <th>K</th>\n",
       "      <th>Drug</th>\n",
       "    </tr>\n",
       "  </thead>\n",
       "  <tbody>\n",
       "    <tr>\n",
       "      <th>0</th>\n",
       "      <td>23</td>\n",
       "      <td>F</td>\n",
       "      <td>HIGH</td>\n",
       "      <td>HIGH</td>\n",
       "      <td>0.792535</td>\n",
       "      <td>0.031258</td>\n",
       "      <td>drugY</td>\n",
       "    </tr>\n",
       "    <tr>\n",
       "      <th>1</th>\n",
       "      <td>47</td>\n",
       "      <td>M</td>\n",
       "      <td>LOW</td>\n",
       "      <td>HIGH</td>\n",
       "      <td>0.739309</td>\n",
       "      <td>0.056468</td>\n",
       "      <td>drugC</td>\n",
       "    </tr>\n",
       "    <tr>\n",
       "      <th>2</th>\n",
       "      <td>47</td>\n",
       "      <td>M</td>\n",
       "      <td>LOW</td>\n",
       "      <td>HIGH</td>\n",
       "      <td>0.697269</td>\n",
       "      <td>0.068944</td>\n",
       "      <td>drugC</td>\n",
       "    </tr>\n",
       "    <tr>\n",
       "      <th>3</th>\n",
       "      <td>28</td>\n",
       "      <td>F</td>\n",
       "      <td>NORMAL</td>\n",
       "      <td>HIGH</td>\n",
       "      <td>0.563682</td>\n",
       "      <td>0.072289</td>\n",
       "      <td>drugX</td>\n",
       "    </tr>\n",
       "    <tr>\n",
       "      <th>4</th>\n",
       "      <td>61</td>\n",
       "      <td>F</td>\n",
       "      <td>LOW</td>\n",
       "      <td>HIGH</td>\n",
       "      <td>0.559294</td>\n",
       "      <td>0.030998</td>\n",
       "      <td>drugY</td>\n",
       "    </tr>\n",
       "  </tbody>\n",
       "</table>\n",
       "</div>"
      ],
      "text/plain": [
       "   Age Sex      BP Cholesterol        Na         K   Drug\n",
       "0   23   F    HIGH        HIGH  0.792535  0.031258  drugY\n",
       "1   47   M     LOW        HIGH  0.739309  0.056468  drugC\n",
       "2   47   M     LOW        HIGH  0.697269  0.068944  drugC\n",
       "3   28   F  NORMAL        HIGH  0.563682  0.072289  drugX\n",
       "4   61   F     LOW        HIGH  0.559294  0.030998  drugY"
      ]
     },
     "execution_count": 42,
     "metadata": {},
     "output_type": "execute_result"
    }
   ],
   "source": [
    "# Apperçu de notre dataset\n",
    "df.head()"
   ]
  },
  {
   "cell_type": "markdown",
   "metadata": {
    "id": "1c2f5805-d887-4353-adc5-da0fefab5c4f"
   },
   "source": [
    "> ## **1. Selection de variables indépendantes/explicatives**"
   ]
  },
  {
   "cell_type": "markdown",
   "metadata": {
    "id": "8fbd7019-12b2-44c6-9624-3224b6a065b4"
   },
   "source": [
    ">> ### **1.1. Variables qualitatives** "
   ]
  },
  {
   "cell_type": "markdown",
   "metadata": {
    "id": "2f90cde1-6a82-43be-8c3d-c604bd6ecc90"
   },
   "source": [
    "La variable cible est qualitative. Ainsi, pour étudier la relation entre elle et les variables qualitatives nous ferons un test de khi-deux."
   ]
  },
  {
   "cell_type": "code",
   "execution_count": 43,
   "metadata": {},
   "outputs": [],
   "source": [
    "# Définition d'une fonction de test entre variables qualitatives\n",
    "def test_khi2(df, var1, var2):\n",
    "    table = pd.crosstab(df[var1],df[var2])\n",
    "    resultats = chi2_contingency(table)\n",
    "    print(\"{} et {}\".format(var1,var2))\n",
    "    print(\"Statistique de test : {}\".format(resultats[0]))\n",
    "    print(\"   Degré de liberté : {}\".format(resultats[2]))\n",
    "    print(\"            P_value : {}\".format(resultats[1]))\n",
    "    if ( resultats[1] < 0.05):\n",
    "        print(\"{} et {} ne sont pas indépendantes\".format(var1,var2))\n",
    "    print(\"\\n \\n\")\n",
    "    pass"
   ]
  },
  {
   "cell_type": "code",
   "execution_count": 44,
   "metadata": {},
   "outputs": [
    {
     "name": "stdout",
     "output_type": "stream",
     "text": [
      "Sex et BP\n",
      "Statistique de test : 0.7110738837433747\n",
      "   Degré de liberté : 2\n",
      "            P_value : 0.7007970548859668\n",
      "\n",
      " \n",
      "\n",
      "Sex et Cholesterol\n",
      "Statistique de test : 0.0002887213877104998\n",
      "   Degré de liberté : 1\n",
      "            P_value : 0.986443154652954\n",
      "\n",
      " \n",
      "\n",
      "BP et Cholesterol\n",
      "Statistique de test : 4.33632565148387\n",
      "   Degré de liberté : 2\n",
      "            P_value : 0.11438757389420079\n",
      "\n",
      " \n",
      "\n"
     ]
    }
   ],
   "source": [
    "#Test Statistique du Khi-deux\n",
    "from scipy.stats import chi2_contingency\n",
    "liste = []\n",
    "for var1 in qual_cols:\n",
    "    liste.append(var1)\n",
    "    for var2 in [var for var in qual_cols if var not in liste ]:\n",
    "        test_khi2(df,var1,var2)"
   ]
  },
  {
   "cell_type": "code",
   "execution_count": 45,
   "metadata": {
    "id": "7d8ffce2-33b8-4435-bc15-8f5983b8ee8f"
   },
   "outputs": [
    {
     "name": "stdout",
     "output_type": "stream",
     "text": [
      "Cholesterol et Drug\n",
      "Statistique de test : 19.609657681313468\n",
      "   Degré de liberté : 4\n",
      "            P_value : 0.0005962588389856516\n",
      "Cholesterol et Drug ne sont pas indépendantes\n",
      "\n",
      " \n",
      "\n",
      "BP et Drug\n",
      "Statistique de test : 143.23287184969993\n",
      "   Degré de liberté : 8\n",
      "            P_value : 5.041733414466518e-27\n",
      "BP et Drug ne sont pas indépendantes\n",
      "\n",
      " \n",
      "\n",
      "Sex et Drug\n",
      "Statistique de test : 2.119248418109203\n",
      "   Degré de liberté : 4\n",
      "            P_value : 0.7138369773987128\n",
      "\n",
      " \n",
      "\n"
     ]
    }
   ],
   "source": [
    "#Test Statistique du Khi-deux\n",
    "from scipy.stats import chi2_contingency\n",
    "for var1 in ['Cholesterol', 'BP', 'Sex']:\n",
    "    test_khi2(df,var1,'Drug')"
   ]
  },
  {
   "cell_type": "markdown",
   "metadata": {},
   "source": [
    "> ### **2. Création d'une nouvelle variable calculée** "
   ]
  },
  {
   "cell_type": "code",
   "execution_count": 46,
   "metadata": {},
   "outputs": [
    {
     "data": {
      "text/html": [
       "<div>\n",
       "<style scoped>\n",
       "    .dataframe tbody tr th:only-of-type {\n",
       "        vertical-align: middle;\n",
       "    }\n",
       "\n",
       "    .dataframe tbody tr th {\n",
       "        vertical-align: top;\n",
       "    }\n",
       "\n",
       "    .dataframe thead th {\n",
       "        text-align: right;\n",
       "    }\n",
       "</style>\n",
       "<table border=\"1\" class=\"dataframe\">\n",
       "  <thead>\n",
       "    <tr style=\"text-align: right;\">\n",
       "      <th></th>\n",
       "      <th>Age</th>\n",
       "      <th>Sex</th>\n",
       "      <th>BP</th>\n",
       "      <th>Cholesterol</th>\n",
       "      <th>Na</th>\n",
       "      <th>K</th>\n",
       "      <th>Drug</th>\n",
       "      <th>Na_sur_K</th>\n",
       "    </tr>\n",
       "  </thead>\n",
       "  <tbody>\n",
       "    <tr>\n",
       "      <th>0</th>\n",
       "      <td>23</td>\n",
       "      <td>F</td>\n",
       "      <td>HIGH</td>\n",
       "      <td>HIGH</td>\n",
       "      <td>0.792535</td>\n",
       "      <td>0.031258</td>\n",
       "      <td>drugY</td>\n",
       "      <td>25.354629</td>\n",
       "    </tr>\n",
       "    <tr>\n",
       "      <th>1</th>\n",
       "      <td>47</td>\n",
       "      <td>M</td>\n",
       "      <td>LOW</td>\n",
       "      <td>HIGH</td>\n",
       "      <td>0.739309</td>\n",
       "      <td>0.056468</td>\n",
       "      <td>drugC</td>\n",
       "      <td>13.092530</td>\n",
       "    </tr>\n",
       "    <tr>\n",
       "      <th>2</th>\n",
       "      <td>47</td>\n",
       "      <td>M</td>\n",
       "      <td>LOW</td>\n",
       "      <td>HIGH</td>\n",
       "      <td>0.697269</td>\n",
       "      <td>0.068944</td>\n",
       "      <td>drugC</td>\n",
       "      <td>10.113556</td>\n",
       "    </tr>\n",
       "    <tr>\n",
       "      <th>3</th>\n",
       "      <td>28</td>\n",
       "      <td>F</td>\n",
       "      <td>NORMAL</td>\n",
       "      <td>HIGH</td>\n",
       "      <td>0.563682</td>\n",
       "      <td>0.072289</td>\n",
       "      <td>drugX</td>\n",
       "      <td>7.797618</td>\n",
       "    </tr>\n",
       "    <tr>\n",
       "      <th>4</th>\n",
       "      <td>61</td>\n",
       "      <td>F</td>\n",
       "      <td>LOW</td>\n",
       "      <td>HIGH</td>\n",
       "      <td>0.559294</td>\n",
       "      <td>0.030998</td>\n",
       "      <td>drugY</td>\n",
       "      <td>18.042906</td>\n",
       "    </tr>\n",
       "  </tbody>\n",
       "</table>\n",
       "</div>"
      ],
      "text/plain": [
       "   Age Sex      BP Cholesterol        Na         K   Drug   Na_sur_K\n",
       "0   23   F    HIGH        HIGH  0.792535  0.031258  drugY  25.354629\n",
       "1   47   M     LOW        HIGH  0.739309  0.056468  drugC  13.092530\n",
       "2   47   M     LOW        HIGH  0.697269  0.068944  drugC  10.113556\n",
       "3   28   F  NORMAL        HIGH  0.563682  0.072289  drugX   7.797618\n",
       "4   61   F     LOW        HIGH  0.559294  0.030998  drugY  18.042906"
      ]
     },
     "execution_count": 46,
     "metadata": {},
     "output_type": "execute_result"
    }
   ],
   "source": [
    "#Création d'un champ calculé Na_sur_K\n",
    "df['Na_sur_K']=df['Na']/df['K']\n",
    "df.head()"
   ]
  },
  {
   "cell_type": "code",
   "execution_count": 47,
   "metadata": {},
   "outputs": [
    {
     "name": "stdout",
     "output_type": "stream",
     "text": [
      "K et Na_sur_K\n",
      "Coefficient de Pearson : -0.8683725306633279\n",
      "               P_value : 3.190348978295469e-62\n",
      "K et Na_sur_K ne sont pas indépendantes\n",
      "\n",
      " \n",
      "\n",
      "Na et Na_sur_K\n",
      "Coefficient de Pearson : 0.35073033169239526\n",
      "               P_value : 3.549448324091684e-07\n",
      "Na et Na_sur_K ne sont pas indépendantes\n",
      "\n",
      " \n",
      "\n"
     ]
    }
   ],
   "source": [
    "# test d'indépendence entre les variables K et Na_sur_K\n",
    "test_pearson(df, 'K', 'Na_sur_K')\n",
    "# test d'indépendence entre les variables Na et Na_sur_K\n",
    "test_pearson(df, 'Na', 'Na_sur_K')"
   ]
  },
  {
   "cell_type": "markdown",
   "metadata": {},
   "source": [
    "Puisque les variables `Na` et `K` sont liées à la variable `Na_sur_K`, nous allons seulement retenir `Na_sur_K` (et non plus Na et K) comme potentiel descipteur de la variable cible."
   ]
  },
  {
   "cell_type": "markdown",
   "metadata": {
    "id": "67b4488c-d79e-4cad-b8ba-09e547465e00"
   },
   "source": [
    "> ## **3. Encodage des variables qualitatives**"
   ]
  },
  {
   "cell_type": "code",
   "execution_count": 48,
   "metadata": {
    "colab": {
     "base_uri": "https://localhost:8080/"
    },
    "id": "984ba3f0-cb9b-40e0-acb8-2c7ee34e11bc",
    "outputId": "4f0a5df3-37fd-4fcb-eb10-8456efdf257e"
   },
   "outputs": [
    {
     "data": {
      "text/plain": [
       "['Sex', 'BP', 'Cholesterol', 'Drug']"
      ]
     },
     "execution_count": 48,
     "metadata": {},
     "output_type": "execute_result"
    }
   ],
   "source": [
    "#Selections des variables qualitatives\n",
    "qual_cols = num_cols = [i for i in df.select_dtypes(include = 'object').columns.tolist()]\n",
    "qual_cols"
   ]
  },
  {
   "cell_type": "code",
   "execution_count": 49,
   "metadata": {
    "colab": {
     "base_uri": "https://localhost:8080/"
    },
    "id": "8fdae8ee-b6f0-4516-bcf5-604064d7e58c",
    "outputId": "15b318e0-e3c1-43dd-da8f-a0e060be5167"
   },
   "outputs": [
    {
     "name": "stdout",
     "output_type": "stream",
     "text": [
      "Sex : ['F', 'M'] \n",
      "\n",
      "BP : ['HIGH', 'LOW', 'NORMAL'] \n",
      "\n",
      "Cholesterol : ['HIGH', 'NORMAL'] \n",
      "\n",
      "Drug : ['drugY', 'drugC', 'drugX', 'drugA', 'drugB'] \n",
      "\n"
     ]
    }
   ],
   "source": [
    "#Modalités uniques\n",
    "for var in qual_cols:\n",
    "    print(\"{} : {} \\n\".format(var, df[var].unique().tolist()))"
   ]
  },
  {
   "cell_type": "markdown",
   "metadata": {
    "id": "f95ef440-33fe-4647-ac09-a607d4e1737c"
   },
   "source": [
    ">>>  **Rappel**\n",
    "- Les variables qualitatives ne sont pas encodées. Comme certains des algorithmes de Machine Learning ne peuvent pas apprendre avec des données qualitatives, nous penserons à les encoder comme suit : \n",
    "\n",
    "    * Un **`encodage oneHot`** pour les variables catégorielles nominales.\n",
    "\n",
    "    * Un **`encodage ordinal`** pour les variables catégorielles ordinales. Exemple : **`Cholesterol`** qui a comme modalités **`High, Normal, Low`** où **`Low < Normal < High`**"
   ]
  },
  {
   "cell_type": "code",
   "execution_count": 50,
   "metadata": {
    "id": "f69b64ac-a1de-418a-8b5f-1cfc0c71b694"
   },
   "outputs": [],
   "source": [
    "#Cette fonction permet de remplacer les modalités d'une variable par leur valeur numérique correspondante définie dans la fonction replace.\n",
    "#Exemple :\n",
    "#   M : 1\n",
    "#   F : 0\n",
    "def manual_encoder(df):\n",
    "    df['Sex'] = df['Sex'].replace(['M', 'F'],[1,0])\n",
    "    df['BP'] = df['BP'].replace(['HIGH', 'LOW', 'NORMAL'],[3,2,1])\n",
    "    df['Cholesterol'] = df['Cholesterol'].replace(['HIGH', 'NORMAL'],[3,1])\n",
    "    df['Drug'] = df['Drug'].replace(['drugY', 'drugX', 'drugA', 'drugB','drugC'],[0,2,1,3,4])\n",
    "    return df"
   ]
  },
  {
   "cell_type": "code",
   "execution_count": 51,
   "metadata": {
    "id": "1d990215-cfdc-420c-bd87-d86fdef8cb14"
   },
   "outputs": [],
   "source": [
    "# Encodage des variables\n",
    "df_new = manual_encoder(df)"
   ]
  },
  {
   "cell_type": "code",
   "execution_count": 52,
   "metadata": {
    "id": "2eb471cf-9c0a-45c2-ae8a-c310fa0a4778"
   },
   "outputs": [
    {
     "data": {
      "text/html": [
       "<div>\n",
       "<style scoped>\n",
       "    .dataframe tbody tr th:only-of-type {\n",
       "        vertical-align: middle;\n",
       "    }\n",
       "\n",
       "    .dataframe tbody tr th {\n",
       "        vertical-align: top;\n",
       "    }\n",
       "\n",
       "    .dataframe thead th {\n",
       "        text-align: right;\n",
       "    }\n",
       "</style>\n",
       "<table border=\"1\" class=\"dataframe\">\n",
       "  <thead>\n",
       "    <tr style=\"text-align: right;\">\n",
       "      <th></th>\n",
       "      <th>Age</th>\n",
       "      <th>Sex</th>\n",
       "      <th>BP</th>\n",
       "      <th>Cholesterol</th>\n",
       "      <th>Na_sur_K</th>\n",
       "      <th>Drug</th>\n",
       "    </tr>\n",
       "  </thead>\n",
       "  <tbody>\n",
       "    <tr>\n",
       "      <th>0</th>\n",
       "      <td>23</td>\n",
       "      <td>0</td>\n",
       "      <td>3</td>\n",
       "      <td>3</td>\n",
       "      <td>25.354629</td>\n",
       "      <td>0</td>\n",
       "    </tr>\n",
       "    <tr>\n",
       "      <th>1</th>\n",
       "      <td>47</td>\n",
       "      <td>1</td>\n",
       "      <td>2</td>\n",
       "      <td>3</td>\n",
       "      <td>13.092530</td>\n",
       "      <td>4</td>\n",
       "    </tr>\n",
       "    <tr>\n",
       "      <th>2</th>\n",
       "      <td>47</td>\n",
       "      <td>1</td>\n",
       "      <td>2</td>\n",
       "      <td>3</td>\n",
       "      <td>10.113556</td>\n",
       "      <td>4</td>\n",
       "    </tr>\n",
       "    <tr>\n",
       "      <th>3</th>\n",
       "      <td>28</td>\n",
       "      <td>0</td>\n",
       "      <td>1</td>\n",
       "      <td>3</td>\n",
       "      <td>7.797618</td>\n",
       "      <td>2</td>\n",
       "    </tr>\n",
       "    <tr>\n",
       "      <th>4</th>\n",
       "      <td>61</td>\n",
       "      <td>0</td>\n",
       "      <td>2</td>\n",
       "      <td>3</td>\n",
       "      <td>18.042906</td>\n",
       "      <td>0</td>\n",
       "    </tr>\n",
       "  </tbody>\n",
       "</table>\n",
       "</div>"
      ],
      "text/plain": [
       "   Age  Sex  BP  Cholesterol   Na_sur_K  Drug\n",
       "0   23    0   3            3  25.354629     0\n",
       "1   47    1   2            3  13.092530     4\n",
       "2   47    1   2            3  10.113556     4\n",
       "3   28    0   1            3   7.797618     2\n",
       "4   61    0   2            3  18.042906     0"
      ]
     },
     "execution_count": 52,
     "metadata": {},
     "output_type": "execute_result"
    }
   ],
   "source": [
    "# Selection des variables\n",
    "variables = ['Age','Sex','BP','Cholesterol','Na_sur_K','Drug']\n",
    "df_new = df[variables]\n",
    "df_new.head()"
   ]
  },
  {
   "cell_type": "code",
   "execution_count": 53,
   "metadata": {
    "colab": {
     "base_uri": "https://localhost:8080/"
    },
    "id": "bc89a85d-0815-4eff-98ce-f68b6468c3ce",
    "outputId": "ca4f21eb-96ea-4ee6-953d-ed63055b82f9"
   },
   "outputs": [
    {
     "data": {
      "text/plain": [
       "(200, 6)"
      ]
     },
     "execution_count": 53,
     "metadata": {},
     "output_type": "execute_result"
    }
   ],
   "source": [
    "#dimensions de la nouvelle base encodée\n",
    "df_new.shape"
   ]
  },
  {
   "cell_type": "markdown",
   "metadata": {},
   "source": [
    "Notre nouvelle base contient maintent 6 variables pour 200 observations."
   ]
  },
  {
   "cell_type": "markdown",
   "metadata": {
    "id": "a99242b8-2e32-4a03-a98c-d6613419762f"
   },
   "source": [
    "> ## **4. Division de la base en Train / Test**"
   ]
  },
  {
   "cell_type": "code",
   "execution_count": 54,
   "metadata": {
    "colab": {
     "base_uri": "https://localhost:8080/"
    },
    "id": "e3cd2f50-7c6e-4b82-a5fd-2d6cc1dd4e67",
    "outputId": "d63def6c-b711-4053-f307-0f48c22f2756"
   },
   "outputs": [
    {
     "data": {
      "text/plain": [
       "0    45.5\n",
       "2    27.0\n",
       "1    11.5\n",
       "4     8.0\n",
       "3     8.0\n",
       "Name: Drug, dtype: float64"
      ]
     },
     "execution_count": 54,
     "metadata": {},
     "output_type": "execute_result"
    }
   ],
   "source": [
    "df_new['Drug'].value_counts(normalize = True)*100"
   ]
  },
  {
   "cell_type": "code",
   "execution_count": 55,
   "metadata": {
    "id": "68e8f365-882a-4e6c-9911-2eb73f5ce97c"
   },
   "outputs": [],
   "source": [
    "# Affectation de la matrice de variables explicatives à X et de la target à y\n",
    "X = df_new.drop('Drug', axis = 1)\n",
    "y = df_new[['Drug']]\n",
    "X_train, X_test, y_train, y_test = train_test_split(X,y, test_size = 0.2, stratify = y)"
   ]
  },
  {
   "cell_type": "code",
   "execution_count": 56,
   "metadata": {
    "colab": {
     "base_uri": "https://localhost:8080/"
    },
    "id": "82687063-1534-4624-ab50-be87ce183c0b",
    "outputId": "aa1f33f7-421b-4163-ed2d-7c1284bf8523"
   },
   "outputs": [
    {
     "name": "stdout",
     "output_type": "stream",
     "text": [
      "Dimensions X_train : (160, 5)\n",
      "Dimensions y_train : (160, 1)\n",
      "Dimensions X_test : (40, 5)\n",
      "Dimensions y_test : (40, 1)\n"
     ]
    }
   ],
   "source": [
    "print(\"Dimensions X_train :\", X_train.shape)\n",
    "print(\"Dimensions y_train :\", y_train.shape)\n",
    "print(\"Dimensions X_test :\", X_test.shape)\n",
    "print(\"Dimensions y_test :\", y_test.shape)"
   ]
  },
  {
   "cell_type": "code",
   "execution_count": 57,
   "metadata": {
    "colab": {
     "base_uri": "https://localhost:8080/"
    },
    "id": "feea8852-5d3a-43c6-91a9-e0e347756eba",
    "outputId": "2f257928-08a5-4aab-b0dd-347200c21624"
   },
   "outputs": [
    {
     "data": {
      "text/plain": [
       "Drug\n",
       "0       45.0\n",
       "2       27.5\n",
       "1       12.5\n",
       "4        7.5\n",
       "3        7.5\n",
       "dtype: float64"
      ]
     },
     "execution_count": 57,
     "metadata": {},
     "output_type": "execute_result"
    }
   ],
   "source": [
    "y_test.value_counts(normalize = True)*100"
   ]
  },
  {
   "cell_type": "code",
   "execution_count": 58,
   "metadata": {
    "colab": {
     "base_uri": "https://localhost:8080/"
    },
    "id": "54b956a7-2b32-4cb2-b0ca-38d96c2b136e",
    "outputId": "ea2dbd43-e6ed-4b79-8747-018df85d23fb"
   },
   "outputs": [
    {
     "data": {
      "text/plain": [
       "Drug\n",
       "0       45.625\n",
       "2       26.875\n",
       "1       11.250\n",
       "4        8.125\n",
       "3        8.125\n",
       "dtype: float64"
      ]
     },
     "execution_count": 58,
     "metadata": {},
     "output_type": "execute_result"
    }
   ],
   "source": [
    "y_train.value_counts(normalize = True)*100"
   ]
  },
  {
   "cell_type": "markdown",
   "metadata": {
    "id": "9092741e-41ae-43bc-8c00-08791702eb2e"
   },
   "source": [
    "# **`F. Modélisation`**\n",
    "------"
   ]
  },
  {
   "cell_type": "markdown",
   "metadata": {
    "id": "89cc9824-9dbe-471e-b0b9-f365de4e5bf3"
   },
   "source": [
    "> ## **1. Premier Essai**"
   ]
  },
  {
   "cell_type": "code",
   "execution_count": 59,
   "metadata": {},
   "outputs": [],
   "source": [
    "#Définition de fonction \n",
    "def modelisation(Models, X_scaled_train , Y_train, X_scaled_test, Y_test):\n",
    "    scores = []\n",
    "    for model in Models:\n",
    "        mod = model()\n",
    "        debut = time.time()\n",
    "        mod.fit(X_scaled_train,Y_train)\n",
    "        fin = time.time()\n",
    "        y_pred_test = mod.predict(X_scaled_test)\n",
    "        y_pred_train = mod.predict(X_scaled_train)\n",
    "        scores.append({\n",
    "                    \"Modele\":type(mod).__name__,  \n",
    "                    \"F1_score_train\": f1_score(Y_train,y_pred_train, average='micro'), \n",
    "                    \"Recall_train\": recall_score(Y_train,y_pred_train, average='micro'),\n",
    "                    \"Precision_train\": precision_score(Y_train,y_pred_train, average='micro'),\n",
    "                    \"F1_score_test\": f1_score(Y_test,y_pred_test, average='micro'), \n",
    "                    \"Recall_test\": recall_score(Y_test,y_pred_test, average='micro'),\n",
    "                    \"Precision_test\": precision_score(Y_test,y_pred_test, average='micro')\n",
    "        })\n",
    "    return pd.DataFrame(scores)"
   ]
  },
  {
   "cell_type": "code",
   "execution_count": 60,
   "metadata": {},
   "outputs": [],
   "source": [
    "# Entrainement simple d'une liste de modeles\n",
    "liste_model = [RandomForestClassifier, GradientBoostingClassifier,\n",
    "               AdaBoostClassifier, SGDClassifier, KNeighborsClassifier,\n",
    "               LogisticRegression, GaussianNB, SVC]\n",
    "resultat = modelisation(liste_model,X_train, y_train, X_test, y_test)"
   ]
  },
  {
   "cell_type": "code",
   "execution_count": 61,
   "metadata": {},
   "outputs": [
    {
     "data": {
      "text/html": [
       "<div>\n",
       "<style scoped>\n",
       "    .dataframe tbody tr th:only-of-type {\n",
       "        vertical-align: middle;\n",
       "    }\n",
       "\n",
       "    .dataframe tbody tr th {\n",
       "        vertical-align: top;\n",
       "    }\n",
       "\n",
       "    .dataframe thead th {\n",
       "        text-align: right;\n",
       "    }\n",
       "</style>\n",
       "<table border=\"1\" class=\"dataframe\">\n",
       "  <thead>\n",
       "    <tr style=\"text-align: right;\">\n",
       "      <th></th>\n",
       "      <th>F1_score_train</th>\n",
       "      <th>Recall_train</th>\n",
       "      <th>Precision_train</th>\n",
       "      <th>F1_score_test</th>\n",
       "      <th>Recall_test</th>\n",
       "      <th>Precision_test</th>\n",
       "    </tr>\n",
       "    <tr>\n",
       "      <th>Modele</th>\n",
       "      <th></th>\n",
       "      <th></th>\n",
       "      <th></th>\n",
       "      <th></th>\n",
       "      <th></th>\n",
       "      <th></th>\n",
       "    </tr>\n",
       "  </thead>\n",
       "  <tbody>\n",
       "    <tr>\n",
       "      <th>RandomForestClassifier</th>\n",
       "      <td>1.0000</td>\n",
       "      <td>1.0000</td>\n",
       "      <td>1.0000</td>\n",
       "      <td>1.000</td>\n",
       "      <td>1.000</td>\n",
       "      <td>1.000</td>\n",
       "    </tr>\n",
       "    <tr>\n",
       "      <th>GradientBoostingClassifier</th>\n",
       "      <td>1.0000</td>\n",
       "      <td>1.0000</td>\n",
       "      <td>1.0000</td>\n",
       "      <td>1.000</td>\n",
       "      <td>1.000</td>\n",
       "      <td>1.000</td>\n",
       "    </tr>\n",
       "    <tr>\n",
       "      <th>AdaBoostClassifier</th>\n",
       "      <td>0.8375</td>\n",
       "      <td>0.8375</td>\n",
       "      <td>0.8375</td>\n",
       "      <td>0.850</td>\n",
       "      <td>0.850</td>\n",
       "      <td>0.850</td>\n",
       "    </tr>\n",
       "    <tr>\n",
       "      <th>SGDClassifier</th>\n",
       "      <td>0.6125</td>\n",
       "      <td>0.6125</td>\n",
       "      <td>0.6125</td>\n",
       "      <td>0.550</td>\n",
       "      <td>0.550</td>\n",
       "      <td>0.550</td>\n",
       "    </tr>\n",
       "    <tr>\n",
       "      <th>KNeighborsClassifier</th>\n",
       "      <td>0.8250</td>\n",
       "      <td>0.8250</td>\n",
       "      <td>0.8250</td>\n",
       "      <td>0.650</td>\n",
       "      <td>0.650</td>\n",
       "      <td>0.650</td>\n",
       "    </tr>\n",
       "    <tr>\n",
       "      <th>LogisticRegression</th>\n",
       "      <td>0.9125</td>\n",
       "      <td>0.9125</td>\n",
       "      <td>0.9125</td>\n",
       "      <td>0.875</td>\n",
       "      <td>0.875</td>\n",
       "      <td>0.875</td>\n",
       "    </tr>\n",
       "    <tr>\n",
       "      <th>GaussianNB</th>\n",
       "      <td>0.8625</td>\n",
       "      <td>0.8625</td>\n",
       "      <td>0.8625</td>\n",
       "      <td>0.900</td>\n",
       "      <td>0.900</td>\n",
       "      <td>0.900</td>\n",
       "    </tr>\n",
       "    <tr>\n",
       "      <th>SVC</th>\n",
       "      <td>0.7125</td>\n",
       "      <td>0.7125</td>\n",
       "      <td>0.7125</td>\n",
       "      <td>0.725</td>\n",
       "      <td>0.725</td>\n",
       "      <td>0.725</td>\n",
       "    </tr>\n",
       "  </tbody>\n",
       "</table>\n",
       "</div>"
      ],
      "text/plain": [
       "                            F1_score_train  Recall_train  Precision_train  \\\n",
       "Modele                                                                      \n",
       "RandomForestClassifier              1.0000        1.0000           1.0000   \n",
       "GradientBoostingClassifier          1.0000        1.0000           1.0000   \n",
       "AdaBoostClassifier                  0.8375        0.8375           0.8375   \n",
       "SGDClassifier                       0.6125        0.6125           0.6125   \n",
       "KNeighborsClassifier                0.8250        0.8250           0.8250   \n",
       "LogisticRegression                  0.9125        0.9125           0.9125   \n",
       "GaussianNB                          0.8625        0.8625           0.8625   \n",
       "SVC                                 0.7125        0.7125           0.7125   \n",
       "\n",
       "                            F1_score_test  Recall_test  Precision_test  \n",
       "Modele                                                                  \n",
       "RandomForestClassifier              1.000        1.000           1.000  \n",
       "GradientBoostingClassifier          1.000        1.000           1.000  \n",
       "AdaBoostClassifier                  0.850        0.850           0.850  \n",
       "SGDClassifier                       0.550        0.550           0.550  \n",
       "KNeighborsClassifier                0.650        0.650           0.650  \n",
       "LogisticRegression                  0.875        0.875           0.875  \n",
       "GaussianNB                          0.900        0.900           0.900  \n",
       "SVC                                 0.725        0.725           0.725  "
      ]
     },
     "execution_count": 61,
     "metadata": {},
     "output_type": "execute_result"
    }
   ],
   "source": [
    "# Résultat de l'entrainement\n",
    "resultat.set_index(\"Modele\")"
   ]
  },
  {
   "cell_type": "code",
   "execution_count": 62,
   "metadata": {
    "id": "68eee76e-a0d5-4222-a129-aaf982ec484e"
   },
   "outputs": [
    {
     "data": {
      "text/plain": [
       "<AxesSubplot:xlabel='Modele'>"
      ]
     },
     "execution_count": 62,
     "metadata": {},
     "output_type": "execute_result"
    },
    {
     "data": {
      "image/png": "[encoded data removed]",
      "text/plain": [
       "<Figure size 864x576 with 1 Axes>"
      ]
     },
     "metadata": {},
     "output_type": "display_data"
    }
   ],
   "source": [
    "# Visualisation\n",
    "resultat.set_index(\"Modele\")[['F1_score_train','F1_score_test']].plot.bar()"
   ]
  },
  {
   "cell_type": "markdown",
   "metadata": {
    "id": "640da3dc-2749-49ab-99ed-a3ad00966945"
   },
   "source": [
    "> ## **2. Optimisation**"
   ]
  },
  {
   "cell_type": "code",
   "execution_count": 63,
   "metadata": {
    "id": "ac879843-7ef1-440c-b003-1b5d6febe075"
   },
   "outputs": [],
   "source": [
    "# Instanciation de notre modèle retenu\n",
    "randomForest = RandomForestClassifier()"
   ]
  },
  {
   "cell_type": "code",
   "execution_count": 64,
   "metadata": {
    "id": "c5cc338a-5a05-4a16-9e07-fcbb7fb99757"
   },
   "outputs": [],
   "source": [
    "#Définition des hypermparamètres à optimiser\n",
    "params = {\n",
    "      \"n_estimators\" : [ 100,150, 200],\n",
    "      \"max_depth\" : [1, 0.1, 0.01],\n",
    "      \"min_samples_split\" : [2,3,5],\n",
    "      \"min_samples_leaf\" : [1,2]\n",
    "\n",
    "}"
   ]
  },
  {
   "cell_type": "code",
   "execution_count": 65,
   "metadata": {
    "id": "93e10cc7-171e-4913-882a-1108e636601c"
   },
   "outputs": [],
   "source": [
    "#Optimisation par GridSearchCV\n",
    "cv = StratifiedKFold(n_splits=3, random_state=None, shuffle=False)\n",
    "cv_randomForest = GridSearchCV(randomForest, params, scoring='f1_micro', n_jobs=-1, cv=cv).fit(X_train, y_train)"
   ]
  },
  {
   "cell_type": "code",
   "execution_count": 66,
   "metadata": {
    "colab": {
     "base_uri": "https://localhost:8080/"
    },
    "id": "887ddfe3-d1be-4548-ae34-cc9de7f08bc5",
    "outputId": "0a0b64fa-fab3-4805-db25-181e09f85eb6"
   },
   "outputs": [
    {
     "name": "stdout",
     "output_type": "stream",
     "text": [
      "{'max_depth': 1, 'min_samples_leaf': 1, 'min_samples_split': 2, 'n_estimators': 100}\n"
     ]
    }
   ],
   "source": [
    "print(cv_randomForest.best_params_)"
   ]
  },
  {
   "cell_type": "code",
   "execution_count": 67,
   "metadata": {
    "colab": {
     "base_uri": "https://localhost:8080/"
    },
    "id": "d200beae-cdcf-4f5f-9c73-7c4b9757f5b5",
    "outputId": "c2735ef6-9102-49b6-f14b-ded15e99d304"
   },
   "outputs": [
    {
     "data": {
      "text/plain": [
       "RandomForestClassifier(max_depth=1)"
      ]
     },
     "execution_count": 67,
     "metadata": {},
     "output_type": "execute_result"
    }
   ],
   "source": [
    "#Entrainement du modèle final avec les meilleurs hyperparamètres\n",
    "randomForest_final = RandomForestClassifier( **cv_randomForest.best_params_)\n",
    "randomForest_final.fit(X_train, y_train)"
   ]
  },
  {
   "cell_type": "code",
   "execution_count": 68,
   "metadata": {
    "id": "96d331f5-2082-4eff-b77e-1b90c2f9577e"
   },
   "outputs": [],
   "source": [
    "# Calcul des Predictions par rapport à nos données de test pour déterminer les scores\n",
    "y_pred = randomForest_final.predict(X_test)"
   ]
  },
  {
   "cell_type": "code",
   "execution_count": 69,
   "metadata": {
    "colab": {
     "base_uri": "https://localhost:8080/"
    },
    "id": "1a3d8aa9-ce8e-4d33-8a97-802040aadee4",
    "outputId": "cc18e06d-8d0b-4dd9-bdc9-b165ed84f772"
   },
   "outputs": [
    {
     "data": {
      "text/plain": [
       "72.50000000000001"
      ]
     },
     "execution_count": 69,
     "metadata": {},
     "output_type": "execute_result"
    }
   ],
   "source": [
    "#F1_score\n",
    "f1_score(y_test, y_pred, average='micro')*100"
   ]
  },
  {
   "cell_type": "code",
   "execution_count": 70,
   "metadata": {
    "colab": {
     "base_uri": "https://localhost:8080/"
    },
    "id": "b6cb1746-dcdf-422e-99c0-3d3b3db64b2b",
    "outputId": "c9f7e2cb-679e-493b-f763-0335815e4abc"
   },
   "outputs": [
    {
     "data": {
      "text/plain": [
       "72.5"
      ]
     },
     "execution_count": 70,
     "metadata": {},
     "output_type": "execute_result"
    }
   ],
   "source": [
    "#Rappel\n",
    "recall_score(y_test, y_pred, average='micro')*100"
   ]
  },
  {
   "cell_type": "code",
   "execution_count": 71,
   "metadata": {
    "colab": {
     "base_uri": "https://localhost:8080/"
    },
    "id": "1b35da7b-b6b9-4c40-853c-65c7beb25a1f",
    "outputId": "3403eaa6-a984-4a94-b284-0c3ff748910b"
   },
   "outputs": [
    {
     "data": {
      "text/plain": [
       "72.5"
      ]
     },
     "execution_count": 71,
     "metadata": {},
     "output_type": "execute_result"
    }
   ],
   "source": [
    "#Precision\n",
    "precision_score(y_test,y_pred, average='micro')*100"
   ]
  },
  {
   "cell_type": "code",
   "execution_count": 72,
   "metadata": {
    "colab": {
     "base_uri": "https://localhost:8080/"
    },
    "id": "7b482985-0893-49f4-9e8e-2563e4b15613",
    "outputId": "4e0a7acd-3627-4659-ee51-dedf95cba21a"
   },
   "outputs": [
    {
     "name": "stdout",
     "output_type": "stream",
     "text": [
      "              precision    recall  f1-score   support\n",
      "\n",
      "           0       1.00      1.00      1.00        18\n",
      "           1       0.00      0.00      0.00         5\n",
      "           2       0.50      1.00      0.67        11\n",
      "           3       0.00      0.00      0.00         3\n",
      "           4       0.00      0.00      0.00         3\n",
      "\n",
      "    accuracy                           0.73        40\n",
      "   macro avg       0.30      0.40      0.33        40\n",
      "weighted avg       0.59      0.72      0.63        40\n",
      "\n"
     ]
    }
   ],
   "source": [
    "#Rapport de classification\n",
    "print(classification_report(y_test, y_pred))"
   ]
  },
  {
   "cell_type": "code",
   "execution_count": 73,
   "metadata": {
    "colab": {
     "base_uri": "https://localhost:8080/"
    },
    "id": "f0f2982f-a0bc-487d-b564-43153f8c7308",
    "outputId": "546b3a0a-5cdd-4539-da19-972dd3db0da3"
   },
   "outputs": [
    {
     "data": {
      "text/plain": [
       "Drug\n",
       "0       18\n",
       "2       11\n",
       "1        5\n",
       "4        3\n",
       "3        3\n",
       "dtype: int64"
      ]
     },
     "execution_count": 73,
     "metadata": {},
     "output_type": "execute_result"
    }
   ],
   "source": [
    "#Proportions par rapport aux données de test\n",
    "y_test.value_counts()"
   ]
  },
  {
   "cell_type": "code",
   "execution_count": 74,
   "metadata": {
    "colab": {
     "base_uri": "https://localhost:8080/",
     "height": 500
    },
    "id": "927e4ae4-2a8a-4631-8d30-8e6f44ec79b9",
    "outputId": "8f3a20e7-8176-4aa7-b24c-6c56a38f425e"
   },
   "outputs": [
    {
     "data": {
      "text/plain": [
       "<AxesSubplot:>"
      ]
     },
     "execution_count": 74,
     "metadata": {},
     "output_type": "execute_result"
    },
    {
     "data": {
      "image/png": "[encoded data removed]",
      "text/plain": [
       "<Figure size 864x576 with 2 Axes>"
      ]
     },
     "metadata": {},
     "output_type": "display_data"
    }
   ],
   "source": [
    "#Matrice de confusion\n",
    "sns.heatmap(confusion_matrix(y_test, y_pred), annot = True, fmt='g')"
   ]
  },
  {
   "cell_type": "code",
   "execution_count": 75,
   "metadata": {},
   "outputs": [
    {
     "data": {
      "image/png": "[encoded data removed]",
      "text/plain": [
       "<Figure size 864x576 with 1 Axes>"
      ]
     },
     "metadata": {},
     "output_type": "display_data"
    }
   ],
   "source": [
    "from sklearn.tree import plot_tree\n",
    "plot_tree(randomForest_final.estimators_[0], filled=True)\n",
    "plt.show()"
   ]
  }
 ],
 "metadata": {
  "colab": {
   "collapsed_sections": [
    "2772e8cb-8b86-4d0c-aa8e-7d634aa370e0",
    "ee45651c-ac79-46c6-8f4f-b9175530a948",
    "69e6821c-647f-4bab-8877-d11c836ada98",
    "9063626c-30db-4afa-9045-42a117a86517",
    "693abbe6-23d8-4679-a1bf-c91135178080",
    "555da1c0-74ce-46ad-8447-e940d2fc00b6",
    "55f564c1-b708-4531-8904-c48eb69110e0",
    "1c2f5805-d887-4353-adc5-da0fefab5c4f",
    "980c173a-ec68-4de1-8474-5c9436facf4d",
    "935efb48-f754-4ffe-a57c-3d2dbc02b153",
    "615245db-1c06-4de4-8b5b-0182e69a45fd",
    "e09bb913-2df8-4065-8f45-b2f18aff967e",
    "1eaa5c31-526b-479a-8b45-e7e57fed7e32",
    "81eee476-8cbf-46f2-bbf3-7ab218fafe80",
    "001193c7-7a11-40f9-844c-4fd1b66c3135",
    "8fbd7019-12b2-44c6-9624-3224b6a065b4",
    "9b8dc6d8-b520-4691-9002-ef4333cf08db",
    "1dcc4a91-5cce-4fd1-8726-e7857665fdc2",
    "ea4ac8b2-73fd-43eb-b261-81bec2969660",
    "9029b2f3-fcbb-46dd-bdf8-b81b00fbb727",
    "a15f4988-6478-42e4-b376-4276df6c584a",
    "ae05ab6e-f96a-4e2a-a034-ddd89359b89b",
    "f90147fd-5210-416d-aaef-2df0d836b4a9",
    "25436e37-b93c-4ec3-8ec1-f60730fdcc21",
    "67b4488c-d79e-4cad-b8ba-09e547465e00",
    "a99242b8-2e32-4a03-a98c-d6613419762f",
    "c704696a-e4f3-4278-b1c4-3cd4538e12f8",
    "89cc9824-9dbe-471e-b0b9-f365de4e5bf3",
    "0863594f-4cb4-420c-80d2-f06c5f2a3e37",
    "d4b8c8bc-b293-4d5c-9ff9-c1b00b4b6908",
    "6cd3b3df-793d-4836-b8c8-c606226910a7",
    "69d9f34e-d484-4ed5-a388-34005a63f3d0",
    "2eaa2908-1e63-48b5-9a6e-9a5456591aee",
    "7c5391af-2924-4c9a-83ba-3f98fef32f8b"
   ],
   "name": "Analyse_medicament.ipynb",
   "provenance": []
  },
  "kernelspec": {
   "display_name": "Python 3",
   "language": "python",
   "name": "python3"
  },
  "language_info": {
   "codemirror_mode": {
    "name": "ipython",
    "version": 3
   },
   "file_extension": ".py",
   "mimetype": "text/x-python",
   "name": "python",
   "nbconvert_exporter": "python",
   "pygments_lexer": "ipython3",
   "version": "3.8.10"
  },
  "widgets": {
   "application/vnd.jupyter.widget-state+json": {
    "01a6d99180644a358b48e046de1b51f3": {
     "model_module": "@jupyter-widgets/base",
     "model_module_version": "1.2.0",
     "model_name": "LayoutModel",
     "state": {
      "_model_module": "@jupyter-widgets/base",
      "_model_module_version": "1.2.0",
      "_model_name": "LayoutModel",
      "_view_count": null,
      "_view_module": "@jupyter-widgets/base",
      "_view_module_version": "1.2.0",
      "_view_name": "LayoutView",
      "align_content": null,
      "align_items": null,
      "align_self": null,
      "border": null,
      "bottom": null,
      "display": null,
      "flex": null,
      "flex_flow": null,
      "grid_area": null,
      "grid_auto_columns": null,
      "grid_auto_flow": null,
      "grid_auto_rows": null,
      "grid_column": null,
      "grid_gap": null,
      "grid_row": null,
      "grid_template_areas": null,
      "grid_template_columns": null,
      "grid_template_rows": null,
      "height": null,
      "justify_content": null,
      "justify_items": null,
      "left": null,
      "margin": null,
      "max_height": null,
      "max_width": null,
      "min_height": null,
      "min_width": null,
      "object_fit": null,
      "object_position": null,
      "order": null,
      "overflow": null,
      "overflow_x": null,
      "overflow_y": null,
      "padding": null,
      "right": null,
      "top": null,
      "visibility": null,
      "width": null
     }
    },
    "02b664ec88f94d6cb5deedddc5a028e2": {
     "model_module": "@jupyter-widgets/controls",
     "model_module_version": "1.5.0",
     "model_name": "ProgressStyleModel",
     "state": {
      "_model_module": "@jupyter-widgets/controls",
      "_model_module_version": "1.5.0",
      "_model_name": "ProgressStyleModel",
      "_view_count": null,
      "_view_module": "@jupyter-widgets/base",
      "_view_module_version": "1.2.0",
      "_view_name": "StyleView",
      "bar_color": null,
      "description_width": ""
     }
    },
    "03bbd941f5fc4be8bf10b59dd7cf17a7": {
     "model_module": "@jupyter-widgets/base",
     "model_module_version": "1.2.0",
     "model_name": "LayoutModel",
     "state": {
      "_model_module": "@jupyter-widgets/base",
      "_model_module_version": "1.2.0",
      "_model_name": "LayoutModel",
      "_view_count": null,
      "_view_module": "@jupyter-widgets/base",
      "_view_module_version": "1.2.0",
      "_view_name": "LayoutView",
      "align_content": null,
      "align_items": null,
      "align_self": null,
      "border": null,
      "bottom": null,
      "display": null,
      "flex": null,
      "flex_flow": null,
      "grid_area": null,
      "grid_auto_columns": null,
      "grid_auto_flow": null,
      "grid_auto_rows": null,
      "grid_column": null,
      "grid_gap": null,
      "grid_row": null,
      "grid_template_areas": null,
      "grid_template_columns": null,
      "grid_template_rows": null,
      "height": null,
      "justify_content": null,
      "justify_items": null,
      "left": null,
      "margin": null,
      "max_height": null,
      "max_width": null,
      "min_height": null,
      "min_width": null,
      "object_fit": null,
      "object_position": null,
      "order": null,
      "overflow": null,
      "overflow_x": null,
      "overflow_y": null,
      "padding": null,
      "right": null,
      "top": null,
      "visibility": null,
      "width": null
     }
    },
    "188758b06a9c4582b1f9f7bb9d2155db": {
     "model_module": "@jupyter-widgets/controls",
     "model_module_version": "1.5.0",
     "model_name": "DescriptionStyleModel",
     "state": {
      "_model_module": "@jupyter-widgets/controls",
      "_model_module_version": "1.5.0",
      "_model_name": "DescriptionStyleModel",
      "_view_count": null,
      "_view_module": "@jupyter-widgets/base",
      "_view_module_version": "1.2.0",
      "_view_name": "StyleView",
      "description_width": ""
     }
    },
    "285fb21adb414b6cb4d5a4a7480e5193": {
     "model_module": "@jupyter-widgets/controls",
     "model_module_version": "1.5.0",
     "model_name": "HBoxModel",
     "state": {
      "_dom_classes": [],
      "_model_module": "@jupyter-widgets/controls",
      "_model_module_version": "1.5.0",
      "_model_name": "HBoxModel",
      "_view_count": null,
      "_view_module": "@jupyter-widgets/controls",
      "_view_module_version": "1.5.0",
      "_view_name": "HBoxView",
      "box_style": "",
      "children": [
       "IPY_MODEL_eddb9e667a1e4bc990b74557d10652a2",
       "IPY_MODEL_709e1f1aa15643f0a3336c5d69118f26",
       "IPY_MODEL_be4929e5cdd44aa1a565d3cae92da102"
      ],
      "layout": "IPY_MODEL_03bbd941f5fc4be8bf10b59dd7cf17a7"
     }
    },
    "2ef4848099ed4ee4ac83ad464b873bae": {
     "model_module": "@jupyter-widgets/base",
     "model_module_version": "1.2.0",
     "model_name": "LayoutModel",
     "state": {
      "_model_module": "@jupyter-widgets/base",
      "_model_module_version": "1.2.0",
      "_model_name": "LayoutModel",
      "_view_count": null,
      "_view_module": "@jupyter-widgets/base",
      "_view_module_version": "1.2.0",
      "_view_name": "LayoutView",
      "align_content": null,
      "align_items": null,
      "align_self": null,
      "border": null,
      "bottom": null,
      "display": null,
      "flex": null,
      "flex_flow": null,
      "grid_area": null,
      "grid_auto_columns": null,
      "grid_auto_flow": null,
      "grid_auto_rows": null,
      "grid_column": null,
      "grid_gap": null,
      "grid_row": null,
      "grid_template_areas": null,
      "grid_template_columns": null,
      "grid_template_rows": null,
      "height": null,
      "justify_content": null,
      "justify_items": null,
      "left": null,
      "margin": null,
      "max_height": null,
      "max_width": null,
      "min_height": null,
      "min_width": null,
      "object_fit": null,
      "object_position": null,
      "order": null,
      "overflow": null,
      "overflow_x": null,
      "overflow_y": null,
      "padding": null,
      "right": null,
      "top": null,
      "visibility": null,
      "width": null
     }
    },
    "449eab38a9414f9a951694f04a774217": {
     "model_module": "@jupyter-widgets/base",
     "model_module_version": "1.2.0",
     "model_name": "LayoutModel",
     "state": {
      "_model_module": "@jupyter-widgets/base",
      "_model_module_version": "1.2.0",
      "_model_name": "LayoutModel",
      "_view_count": null,
      "_view_module": "@jupyter-widgets/base",
      "_view_module_version": "1.2.0",
      "_view_name": "LayoutView",
      "align_content": null,
      "align_items": null,
      "align_self": null,
      "border": null,
      "bottom": null,
      "display": null,
      "flex": null,
      "flex_flow": null,
      "grid_area": null,
      "grid_auto_columns": null,
      "grid_auto_flow": null,
      "grid_auto_rows": null,
      "grid_column": null,
      "grid_gap": null,
      "grid_row": null,
      "grid_template_areas": null,
      "grid_template_columns": null,
      "grid_template_rows": null,
      "height": null,
      "justify_content": null,
      "justify_items": null,
      "left": null,
      "margin": null,
      "max_height": null,
      "max_width": null,
      "min_height": null,
      "min_width": null,
      "object_fit": null,
      "object_position": null,
      "order": null,
      "overflow": null,
      "overflow_x": null,
      "overflow_y": null,
      "padding": null,
      "right": null,
      "top": null,
      "visibility": null,
      "width": null
     }
    },
    "67d66ed77ea64d979fe981c88da89fb0": {
     "model_module": "@jupyter-widgets/controls",
     "model_module_version": "1.5.0",
     "model_name": "DescriptionStyleModel",
     "state": {
      "_model_module": "@jupyter-widgets/controls",
      "_model_module_version": "1.5.0",
      "_model_name": "DescriptionStyleModel",
      "_view_count": null,
      "_view_module": "@jupyter-widgets/base",
      "_view_module_version": "1.2.0",
      "_view_name": "StyleView",
      "description_width": ""
     }
    },
    "709e1f1aa15643f0a3336c5d69118f26": {
     "model_module": "@jupyter-widgets/controls",
     "model_module_version": "1.5.0",
     "model_name": "FloatProgressModel",
     "state": {
      "_dom_classes": [],
      "_model_module": "@jupyter-widgets/controls",
      "_model_module_version": "1.5.0",
      "_model_name": "FloatProgressModel",
      "_view_count": null,
      "_view_module": "@jupyter-widgets/controls",
      "_view_module_version": "1.5.0",
      "_view_name": "ProgressView",
      "bar_style": "",
      "description": "",
      "description_tooltip": null,
      "layout": "IPY_MODEL_01a6d99180644a358b48e046de1b51f3",
      "max": 10100,
      "min": 0,
      "orientation": "horizontal",
      "style": "IPY_MODEL_02b664ec88f94d6cb5deedddc5a028e2",
      "value": 1700
     }
    },
    "be4929e5cdd44aa1a565d3cae92da102": {
     "model_module": "@jupyter-widgets/controls",
     "model_module_version": "1.5.0",
     "model_name": "HTMLModel",
     "state": {
      "_dom_classes": [],
      "_model_module": "@jupyter-widgets/controls",
      "_model_module_version": "1.5.0",
      "_model_name": "HTMLModel",
      "_view_count": null,
      "_view_module": "@jupyter-widgets/controls",
      "_view_module_version": "1.5.0",
      "_view_name": "HTMLView",
      "description": "",
      "description_tooltip": null,
      "layout": "IPY_MODEL_2ef4848099ed4ee4ac83ad464b873bae",
      "placeholder": "​",
      "style": "IPY_MODEL_67d66ed77ea64d979fe981c88da89fb0",
      "value": " 1700/10100 [39:56&lt;4:07:21,  1.77s/pipeline]"
     }
    },
    "eddb9e667a1e4bc990b74557d10652a2": {
     "model_module": "@jupyter-widgets/controls",
     "model_module_version": "1.5.0",
     "model_name": "HTMLModel",
     "state": {
      "_dom_classes": [],
      "_model_module": "@jupyter-widgets/controls",
      "_model_module_version": "1.5.0",
      "_model_name": "HTMLModel",
      "_view_count": null,
      "_view_module": "@jupyter-widgets/controls",
      "_view_module_version": "1.5.0",
      "_view_name": "HTMLView",
      "description": "",
      "description_tooltip": null,
      "layout": "IPY_MODEL_449eab38a9414f9a951694f04a774217",
      "placeholder": "​",
      "style": "IPY_MODEL_188758b06a9c4582b1f9f7bb9d2155db",
      "value": "Optimization Progress:  17%"
     }
    }
   }
  }
 },
 "nbformat": 4,
 "nbformat_minor": 5
}
